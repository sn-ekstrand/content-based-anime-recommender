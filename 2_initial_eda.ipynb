{
 "cells": [
  {
   "cell_type": "code",
   "execution_count": 1,
   "metadata": {},
   "outputs": [],
   "source": [
    "import pandas as pd\n",
    "import numpy as np\n",
    "\n",
    "import matplotlib.pyplot as plt\n",
    "import seaborn as sns\n",
    "from wordcloud import WordCloud\n",
    "\n",
    "import requests\n",
    "import json\n",
    "from difflib import get_close_matches\n",
    "from difflib import SequenceMatcher\n",
    "\n",
    "from sklearn.metrics.pairwise import cosine_similarity\n",
    "from sklearn.metrics.pairwise import pairwise_distances\n",
    "\n",
    "from sklearn.preprocessing import StandardScaler, MinMaxScaler\n",
    "from sklearn.decomposition import PCA\n"
   ]
  },
  {
   "cell_type": "code",
   "execution_count": 2,
   "metadata": {},
   "outputs": [],
   "source": [
    "sns.set_style(\"whitegrid\", \n",
    "              {'patch.edgecolor': 'k'})"
   ]
  },
  {
   "cell_type": "code",
   "execution_count": 3,
   "metadata": {},
   "outputs": [],
   "source": [
    "genres_item_matrix = pd.read_csv('data/genres_item_matrix.csv', index_col='id')\n",
    "tag_item_matrix = pd.read_csv('data/tag_item_matrix.csv', index_col='id')\n",
    "tag_rank_item_matrix = pd.read_csv('data/tag_rank_item_matrix.csv', index_col='id')\n",
    "title_df = pd.read_csv('data/title_df.csv', index_col='id')"
   ]
  },
  {
   "cell_type": "code",
   "execution_count": null,
   "metadata": {},
   "outputs": [],
   "source": [
    "# We'll use this dataframe later for lookup\n",
    "title_df.head()"
   ]
  },
  {
   "cell_type": "code",
   "execution_count": null,
   "metadata": {},
   "outputs": [],
   "source": [
    "genres_item_matrix.head()"
   ]
  },
  {
   "cell_type": "code",
   "execution_count": null,
   "metadata": {},
   "outputs": [],
   "source": [
    "tag_item_matrix.head()"
   ]
  },
  {
   "cell_type": "code",
   "execution_count": 4,
   "metadata": {},
   "outputs": [
    {
     "data": {
      "text/html": [
       "<div>\n",
       "<style scoped>\n",
       "    .dataframe tbody tr th:only-of-type {\n",
       "        vertical-align: middle;\n",
       "    }\n",
       "\n",
       "    .dataframe tbody tr th {\n",
       "        vertical-align: top;\n",
       "    }\n",
       "\n",
       "    .dataframe thead th {\n",
       "        text-align: right;\n",
       "    }\n",
       "</style>\n",
       "<table border=\"1\" class=\"dataframe\">\n",
       "  <thead>\n",
       "    <tr style=\"text-align: right;\">\n",
       "      <th></th>\n",
       "      <th>action</th>\n",
       "      <th>adventure</th>\n",
       "      <th>comedy</th>\n",
       "      <th>drama</th>\n",
       "      <th>ecchi</th>\n",
       "      <th>fantasy</th>\n",
       "      <th>horror</th>\n",
       "      <th>mahou_shoujo</th>\n",
       "      <th>mecha</th>\n",
       "      <th>music</th>\n",
       "      <th>...</th>\n",
       "      <th>witch</th>\n",
       "      <th>work</th>\n",
       "      <th>wrestling</th>\n",
       "      <th>writing</th>\n",
       "      <th>wuxia</th>\n",
       "      <th>yakuza</th>\n",
       "      <th>yandere</th>\n",
       "      <th>youkai</th>\n",
       "      <th>yuri</th>\n",
       "      <th>zombie</th>\n",
       "    </tr>\n",
       "    <tr>\n",
       "      <th>id</th>\n",
       "      <th></th>\n",
       "      <th></th>\n",
       "      <th></th>\n",
       "      <th></th>\n",
       "      <th></th>\n",
       "      <th></th>\n",
       "      <th></th>\n",
       "      <th></th>\n",
       "      <th></th>\n",
       "      <th></th>\n",
       "      <th></th>\n",
       "      <th></th>\n",
       "      <th></th>\n",
       "      <th></th>\n",
       "      <th></th>\n",
       "      <th></th>\n",
       "      <th></th>\n",
       "      <th></th>\n",
       "      <th></th>\n",
       "      <th></th>\n",
       "      <th></th>\n",
       "    </tr>\n",
       "  </thead>\n",
       "  <tbody>\n",
       "    <tr>\n",
       "      <th>10161</th>\n",
       "      <td>1</td>\n",
       "      <td>0</td>\n",
       "      <td>0</td>\n",
       "      <td>1</td>\n",
       "      <td>0</td>\n",
       "      <td>0</td>\n",
       "      <td>0</td>\n",
       "      <td>0</td>\n",
       "      <td>0</td>\n",
       "      <td>0</td>\n",
       "      <td>...</td>\n",
       "      <td>0</td>\n",
       "      <td>0</td>\n",
       "      <td>0</td>\n",
       "      <td>0</td>\n",
       "      <td>0</td>\n",
       "      <td>0</td>\n",
       "      <td>1</td>\n",
       "      <td>0</td>\n",
       "      <td>0</td>\n",
       "      <td>0</td>\n",
       "    </tr>\n",
       "    <tr>\n",
       "      <th>99726</th>\n",
       "      <td>0</td>\n",
       "      <td>1</td>\n",
       "      <td>1</td>\n",
       "      <td>0</td>\n",
       "      <td>0</td>\n",
       "      <td>1</td>\n",
       "      <td>0</td>\n",
       "      <td>0</td>\n",
       "      <td>0</td>\n",
       "      <td>0</td>\n",
       "      <td>...</td>\n",
       "      <td>0</td>\n",
       "      <td>0</td>\n",
       "      <td>0</td>\n",
       "      <td>0</td>\n",
       "      <td>0</td>\n",
       "      <td>0</td>\n",
       "      <td>0</td>\n",
       "      <td>0</td>\n",
       "      <td>0</td>\n",
       "      <td>0</td>\n",
       "    </tr>\n",
       "    <tr>\n",
       "      <th>98526</th>\n",
       "      <td>1</td>\n",
       "      <td>0</td>\n",
       "      <td>0</td>\n",
       "      <td>1</td>\n",
       "      <td>0</td>\n",
       "      <td>0</td>\n",
       "      <td>0</td>\n",
       "      <td>0</td>\n",
       "      <td>0</td>\n",
       "      <td>0</td>\n",
       "      <td>...</td>\n",
       "      <td>0</td>\n",
       "      <td>0</td>\n",
       "      <td>0</td>\n",
       "      <td>0</td>\n",
       "      <td>0</td>\n",
       "      <td>0</td>\n",
       "      <td>0</td>\n",
       "      <td>0</td>\n",
       "      <td>0</td>\n",
       "      <td>0</td>\n",
       "    </tr>\n",
       "    <tr>\n",
       "      <th>966</th>\n",
       "      <td>0</td>\n",
       "      <td>0</td>\n",
       "      <td>1</td>\n",
       "      <td>0</td>\n",
       "      <td>1</td>\n",
       "      <td>0</td>\n",
       "      <td>0</td>\n",
       "      <td>0</td>\n",
       "      <td>0</td>\n",
       "      <td>0</td>\n",
       "      <td>...</td>\n",
       "      <td>0</td>\n",
       "      <td>0</td>\n",
       "      <td>0</td>\n",
       "      <td>0</td>\n",
       "      <td>0</td>\n",
       "      <td>0</td>\n",
       "      <td>0</td>\n",
       "      <td>0</td>\n",
       "      <td>0</td>\n",
       "      <td>0</td>\n",
       "    </tr>\n",
       "    <tr>\n",
       "      <th>4876</th>\n",
       "      <td>1</td>\n",
       "      <td>1</td>\n",
       "      <td>0</td>\n",
       "      <td>1</td>\n",
       "      <td>0</td>\n",
       "      <td>0</td>\n",
       "      <td>0</td>\n",
       "      <td>0</td>\n",
       "      <td>0</td>\n",
       "      <td>0</td>\n",
       "      <td>...</td>\n",
       "      <td>0</td>\n",
       "      <td>0</td>\n",
       "      <td>0</td>\n",
       "      <td>0</td>\n",
       "      <td>0</td>\n",
       "      <td>0</td>\n",
       "      <td>0</td>\n",
       "      <td>0</td>\n",
       "      <td>0</td>\n",
       "      <td>0</td>\n",
       "    </tr>\n",
       "  </tbody>\n",
       "</table>\n",
       "<p>5 rows × 265 columns</p>\n",
       "</div>"
      ],
      "text/plain": [
       "       action  adventure  comedy  drama  ecchi  fantasy  horror  mahou_shoujo  \\\n",
       "id                                                                              \n",
       "10161       1          0       0      1      0        0       0             0   \n",
       "99726       0          1       1      0      0        1       0             0   \n",
       "98526       1          0       0      1      0        0       0             0   \n",
       "966         0          0       1      0      1        0       0             0   \n",
       "4876        1          1       0      1      0        0       0             0   \n",
       "\n",
       "       mecha  music  ...  witch  work  wrestling  writing  wuxia  yakuza  \\\n",
       "id                   ...                                                   \n",
       "10161      0      0  ...      0     0          0        0      0       0   \n",
       "99726      0      0  ...      0     0          0        0      0       0   \n",
       "98526      0      0  ...      0     0          0        0      0       0   \n",
       "966        0      0  ...      0     0          0        0      0       0   \n",
       "4876       0      0  ...      0     0          0        0      0       0   \n",
       "\n",
       "       yandere  youkai  yuri  zombie  \n",
       "id                                    \n",
       "10161        1       0     0       0  \n",
       "99726        0       0     0       0  \n",
       "98526        0       0     0       0  \n",
       "966          0       0     0       0  \n",
       "4876         0       0     0       0  \n",
       "\n",
       "[5 rows x 265 columns]"
      ]
     },
     "execution_count": 4,
     "metadata": {},
     "output_type": "execute_result"
    }
   ],
   "source": [
    "df = pd.concat([genres_item_matrix, tag_item_matrix], axis=1)\n",
    "df.head()"
   ]
  },
  {
   "cell_type": "code",
   "execution_count": null,
   "metadata": {},
   "outputs": [],
   "source": [
    "df.tail()"
   ]
  },
  {
   "cell_type": "code",
   "execution_count": null,
   "metadata": {},
   "outputs": [],
   "source": [
    "df.info()"
   ]
  },
  {
   "cell_type": "code",
   "execution_count": null,
   "metadata": {},
   "outputs": [],
   "source": [
    "df.describe()"
   ]
  },
  {
   "cell_type": "code",
   "execution_count": 5,
   "metadata": {},
   "outputs": [
    {
     "data": {
      "text/plain": [
       "action       2635\n",
       "adventure    2097\n",
       "comedy       3846\n",
       "drama        1875\n",
       "ecchi         614\n",
       "             ... \n",
       "yakuza         34\n",
       "yandere        45\n",
       "youkai        109\n",
       "yuri          250\n",
       "zombie         53\n",
       "Length: 265, dtype: int64"
      ]
     },
     "execution_count": 5,
     "metadata": {},
     "output_type": "execute_result"
    }
   ],
   "source": [
    "total_per_feature = df.sum(axis=0)\n",
    "total_per_feature"
   ]
  },
  {
   "cell_type": "code",
   "execution_count": 6,
   "metadata": {},
   "outputs": [
    {
     "data": {
      "text/plain": [
       "id\n",
       "10161      9\n",
       "99726     13\n",
       "98526      5\n",
       "966        9\n",
       "4876      11\n",
       "          ..\n",
       "99586     11\n",
       "99916      7\n",
       "101283    18\n",
       "101633    12\n",
       "101089     3\n",
       "Length: 9832, dtype: int64"
      ]
     },
     "execution_count": 6,
     "metadata": {},
     "output_type": "execute_result"
    }
   ],
   "source": [
    "total_per_show = df.sum(axis=1)\n",
    "total_per_show"
   ]
  },
  {
   "cell_type": "code",
   "execution_count": null,
   "metadata": {},
   "outputs": [],
   "source": [
    "total_per_show.rename('total_features_per_show')"
   ]
  },
  {
   "cell_type": "code",
   "execution_count": null,
   "metadata": {},
   "outputs": [],
   "source": [
    "fig, ax = plt.subplots(2,1, \n",
    "                       figsize=(8,4),\n",
    "                       sharex=True, \n",
    "                       gridspec_kw={'height_ratios': [2, 1]})\n",
    "ax[0].hist(total_per_show, \n",
    "           bins=35, \n",
    "           color='cornflowerblue')\n",
    "ax[0].set_title('Anime and Genre/Tags')\n",
    "ax[0].set_ylabel('Anime Count')\n",
    "ax[1] = sns.boxplot(total_per_show, \n",
    "                    color='cornflowerblue')\n",
    "ax[1].set_xlabel('Number of Features')\n",
    "\n",
    "fig.tight_layout();\n",
    "\n",
    "# plt.savefig('images/anime_feature_counts.png', \n",
    "#             dpi=150, \n",
    "#             format='png')"
   ]
  },
  {
   "cell_type": "markdown",
   "metadata": {},
   "source": [
    "This seems potentially problematic. A majority of the shows don't have very many features. How many are needed to make an acurate recommendation?"
   ]
  },
  {
   "cell_type": "code",
   "execution_count": null,
   "metadata": {},
   "outputs": [],
   "source": [
    "def count_for_n_features(series, n):\n",
    "    print('{0:.1%}'.format(len(series[series <= n]) / len(series)), \n",
    "          'or', len(series[series <= n]), f'shows have {n} or fewer features describing them.')\n"
   ]
  },
  {
   "cell_type": "code",
   "execution_count": null,
   "metadata": {},
   "outputs": [],
   "source": [
    "count_for_n_features(total_per_show, 2)"
   ]
  },
  {
   "cell_type": "code",
   "execution_count": null,
   "metadata": {},
   "outputs": [],
   "source": [
    "count_for_n_features(total_per_show, 3)"
   ]
  },
  {
   "cell_type": "code",
   "execution_count": null,
   "metadata": {},
   "outputs": [],
   "source": [
    "count_for_n_features(total_per_show, 4)"
   ]
  },
  {
   "cell_type": "code",
   "execution_count": null,
   "metadata": {},
   "outputs": [],
   "source": []
  },
  {
   "cell_type": "markdown",
   "metadata": {},
   "source": [
    "While selecting which tags to keep, many were cut out because of a low \"rank\" score. Let's go back and keep all tags but normalize(standardize?) them. "
   ]
  },
  {
   "cell_type": "code",
   "execution_count": null,
   "metadata": {},
   "outputs": [],
   "source": []
  },
  {
   "cell_type": "code",
   "execution_count": null,
   "metadata": {},
   "outputs": [],
   "source": [
    "fig, ax = plt.subplots(2,1, sharex=True)\n",
    "ax[0].hist(total_per_show, bins=30)\n",
    "ax[1] = sns.boxplot(total_per_feature);"
   ]
  },
  {
   "cell_type": "code",
   "execution_count": null,
   "metadata": {},
   "outputs": [],
   "source": [
    "# the tags below each describe 5 or fewer anime. They can be dropped without losing too much.\n",
    "total_per_feature[total_per_feature < 6]"
   ]
  },
  {
   "cell_type": "code",
   "execution_count": null,
   "metadata": {},
   "outputs": [],
   "source": []
  },
  {
   "cell_type": "markdown",
   "metadata": {},
   "source": [
    "## Getting Recommendations"
   ]
  },
  {
   "cell_type": "code",
   "execution_count": null,
   "metadata": {},
   "outputs": [],
   "source": [
    "def jaccard_similarity(df):\n",
    "    return (1 - pairwise_distances(df, metric=\"jaccard\"))\n",
    "\n",
    "\n",
    "def get_anime_id(search_term):\n",
    "    id_list = []\n",
    "    anime_id = title_df[title_df['userPreferred'].isin([search_term])].index\n",
    "    id_list.append(anime_id)\n",
    "    \n",
    "    return id_list[0].values[0]\n",
    "\n",
    "\n",
    "def get_top_n_recommendations(anime_id, dataframe, similarity_matrix, n=5):\n",
    "    positional_idx = dataframe.index.get_loc(anime_id)\n",
    "    \n",
    "    top_n = np.argsort(similarity_matrix[positional_idx,:])[-n-1:-1]\n",
    "    recom_titles = []\n",
    "    for idx, row in title_df.iloc[top_n,:].iterrows():\n",
    "        if type(row['english']) != float:\n",
    "            recom_titles.append(row['english'])\n",
    "        else:\n",
    "            recom_titles.append(row['userPreferred'])\n",
    "    \n",
    "    return recom_titles\n",
    "\n",
    "\n",
    "def view_title_similarity(search_term, recom_titles):\n",
    "    for title in recom_titles:\n",
    "        seq_matcher = SequenceMatcher(None, search_term, title)\n",
    "        print(f'The terms \"{search_term}\" and \"{title}\" are ' \n",
    "              + '{0:.2%}'.format(seq_matcher.quick_ratio()) + ' alike.')"
   ]
  },
  {
   "cell_type": "code",
   "execution_count": null,
   "metadata": {},
   "outputs": [],
   "source": [
    "cos_sim = cosine_similarity(df.values)\n",
    "\n",
    "jac_sim = jaccard_similarity(df.values)"
   ]
  },
  {
   "cell_type": "code",
   "execution_count": null,
   "metadata": {},
   "outputs": [],
   "source": [
    "def get_search_term(initial_search):\n",
    "    '''Search the AniList API for a show based on a query.\n",
    "    \n",
    "    Returns the user preferred title \n",
    "    '''\n",
    "    query = '''\n",
    "    query ($search: String) {\n",
    "      Media (type: ANIME, search: $search) {\n",
    "        id\n",
    "        title {\n",
    "          romaji\n",
    "          english\n",
    "          native\n",
    "          userPreferred\n",
    "        }\n",
    "      }\n",
    "    }\n",
    "    '''\n",
    "    variables = {'search': initial_search}\n",
    "\n",
    "    url = 'https://graphql.anilist.co'\n",
    "    response = requests.post(url, \n",
    "                             json={'query': query, \n",
    "                                   'variables': variables})\n",
    "    user_preferred_title = response.json()['data']['Media']['title']['userPreferred']\n",
    "\n",
    "    return user_preferred_title"
   ]
  },
  {
   "cell_type": "markdown",
   "metadata": {},
   "source": [
    "<b>Recommendations should probably exclude titles from the same franchise.  \n",
    "For example, try getting recommendations for Ghost in the Shell.  \n",
    "If you already know you like Ghost in the Shell, it's pretty easy to find others in the same franchise if that's what you want.  </b>"
   ]
  },
  {
   "cell_type": "code",
   "execution_count": null,
   "metadata": {},
   "outputs": [],
   "source": []
  },
  {
   "cell_type": "markdown",
   "metadata": {},
   "source": [
    "First of all, our rudimentary search engine is failing..."
   ]
  },
  {
   "cell_type": "code",
   "execution_count": null,
   "metadata": {},
   "outputs": [],
   "source": [
    "initial_search = 'Ghost in the Shell'\n",
    "search_term = get_search_term(initial_search)\n",
    "search_term"
   ]
  },
  {
   "cell_type": "code",
   "execution_count": null,
   "metadata": {},
   "outputs": [],
   "source": [
    "id_list = get_anime_id(search_term)\n",
    "rec_list = get_top_n_recommendations(id_list, df, cos_sim, n=10)\n",
    "rec_list"
   ]
  },
  {
   "cell_type": "code",
   "execution_count": null,
   "metadata": {},
   "outputs": [],
   "source": []
  },
  {
   "cell_type": "code",
   "execution_count": null,
   "metadata": {},
   "outputs": [],
   "source": [
    "initial_search = \"Wolf's Rain\"\n",
    "search_term = get_search_term(initial_search)\n",
    "search_term"
   ]
  },
  {
   "cell_type": "code",
   "execution_count": null,
   "metadata": {},
   "outputs": [],
   "source": [
    "id_list = get_anime_id(search_term)\n",
    "id_list"
   ]
  },
  {
   "cell_type": "code",
   "execution_count": null,
   "metadata": {},
   "outputs": [],
   "source": [
    "n=5\n",
    "rec_list = get_top_n_recommendations(id_list, df, cos_sim, n=n)\n",
    "print('-----')\n",
    "print(f'Top {n} based on {search_term}: \\n{rec_list}')"
   ]
  },
  {
   "cell_type": "code",
   "execution_count": null,
   "metadata": {
    "scrolled": true
   },
   "outputs": [],
   "source": [
    "view_title_similarity(search_term, rec_list)"
   ]
  },
  {
   "cell_type": "markdown",
   "metadata": {},
   "source": [
    "Why is a Pokemon movie showing up as a recommendation based on Wolf's Rain? Also, why is Wan Wan Chuushingur being recommended. More on that one later. "
   ]
  },
  {
   "cell_type": "markdown",
   "metadata": {},
   "source": [
    "## Understanding Bad Recommendations"
   ]
  },
  {
   "cell_type": "markdown",
   "metadata": {},
   "source": [
    "<tr>\n",
    "    <td> <img src=\"https://upload.wikimedia.org/wikipedia/en/thumb/4/43/Wolf%27s_Rain_Region_2_Volume_1.jpg/220px-Wolf%27s_Rain_Region_2_Volume_1.jpg\" alt=\"Drawing\" style=\"width: 250px;\"/> </td>\n",
    "    <td> <img src=\"https://upload.wikimedia.org/wikipedia/en/thumb/9/95/Pok%C3%A9mon_Lucario_film_poster.jpg/220px-Pok%C3%A9mon_Lucario_film_poster.jpg\" alt=\"Drawing\" style=\"width: 250px;\"/> </td>\n",
    "    </tr>"
   ]
  },
  {
   "cell_type": "code",
   "execution_count": null,
   "metadata": {},
   "outputs": [],
   "source": [
    "wr_id = title_df[title_df['english'] == \"Wolf's Rain\"].index\n",
    "wr_df = df.loc[wr_id,:]"
   ]
  },
  {
   "cell_type": "code",
   "execution_count": null,
   "metadata": {},
   "outputs": [],
   "source": [
    "# Genres and tags for Wolf's Rain\n",
    "wr_df.loc[:, (wr_df != 0).any(axis=0)]"
   ]
  },
  {
   "cell_type": "code",
   "execution_count": null,
   "metadata": {},
   "outputs": [],
   "source": [
    "pk_id = title_df[title_df['english'] == \"Pokémon: Lucario and the Mystery of Mew\"].index\n",
    "pk_df = df.loc[pk_id,:]"
   ]
  },
  {
   "cell_type": "code",
   "execution_count": null,
   "metadata": {},
   "outputs": [],
   "source": [
    "# Genres and tags for Pokémon: Lucario and the Mystery of Mew\n",
    "pk_df.loc[:, (pk_df != 0).any(axis=0)]"
   ]
  },
  {
   "cell_type": "markdown",
   "metadata": {},
   "source": [
    "Would it be wise to give a heavier weight to the \"kids\" column?"
   ]
  },
  {
   "cell_type": "code",
   "execution_count": null,
   "metadata": {},
   "outputs": [],
   "source": [
    "sum(df['kids'])"
   ]
  },
  {
   "cell_type": "code",
   "execution_count": null,
   "metadata": {},
   "outputs": [],
   "source": [
    "total_per_feature['kids']"
   ]
  },
  {
   "cell_type": "code",
   "execution_count": null,
   "metadata": {},
   "outputs": [],
   "source": [
    "len(df)"
   ]
  },
  {
   "cell_type": "code",
   "execution_count": null,
   "metadata": {},
   "outputs": [],
   "source": [
    "plt.bar(['Kids', 'Not Kids'], [total_per_feature['kids'], len(df) - total_per_feature['kids']]);"
   ]
  },
  {
   "cell_type": "code",
   "execution_count": null,
   "metadata": {},
   "outputs": [],
   "source": [
    "plt.hist(total_per_feature, bins=50)\n",
    "plt.ylabel('Number of Tags')\n",
    "plt.xlabel('Total Number of Shows Per Tag');"
   ]
  },
  {
   "cell_type": "code",
   "execution_count": null,
   "metadata": {},
   "outputs": [],
   "source": [
    "for tag, count in total_per_feature.sort_values(ascending=False).iteritems():\n",
    "    print(tag, count)"
   ]
  },
  {
   "cell_type": "markdown",
   "metadata": {},
   "source": [
    "<b>Would like to penalize features that describe a large number of shows (i.e. comedy) and give a heavier weight to those that describe fewer shows.  \n",
    "The normalization should be strong enough to not recommend a Pokemon movie when looking at \"Wolf's Rain\" but not so strong that all recommendations are based on the rarest tag. </b>"
   ]
  },
  {
   "cell_type": "code",
   "execution_count": null,
   "metadata": {},
   "outputs": [],
   "source": []
  },
  {
   "cell_type": "code",
   "execution_count": null,
   "metadata": {},
   "outputs": [],
   "source": []
  },
  {
   "cell_type": "code",
   "execution_count": null,
   "metadata": {},
   "outputs": [],
   "source": [
    "initial_search = 'Ghost in the Shell'\n",
    "search_term = get_search_term(initial_search)\n",
    "search_term"
   ]
  },
  {
   "cell_type": "code",
   "execution_count": null,
   "metadata": {},
   "outputs": [],
   "source": [
    "# using cosine similarity \n",
    "id_list = get_anime_id(search_term)\n",
    "rec_list = get_top_n_recommendations(id_list, df, cos_sim, n=10)\n",
    "rec_list"
   ]
  },
  {
   "cell_type": "markdown",
   "metadata": {},
   "source": [
    "<b> The search is working but maybe we're returning too many from the same franchise.</b>"
   ]
  },
  {
   "cell_type": "code",
   "execution_count": null,
   "metadata": {},
   "outputs": [],
   "source": [
    "view_title_similarity('Ghost in the Shell', rec_list)"
   ]
  },
  {
   "cell_type": "code",
   "execution_count": null,
   "metadata": {},
   "outputs": [],
   "source": [
    "seq_matcher = SequenceMatcher(None, \n",
    "                              \"Ghost in the Shell Arise: Alternative Architecture\", \n",
    "                              \"Ghost in the Shell: Stand Alone Complex 2nd GIG\")\n",
    "seq_matcher.quick_ratio()"
   ]
  },
  {
   "cell_type": "markdown",
   "metadata": {},
   "source": [
    "This is one problem with the recommender. The recommendations are good but too many are not very useful for a user. Future work on the project would include going through and filtering out titles from the same franchise or only including one title per franchise. "
   ]
  },
  {
   "cell_type": "code",
   "execution_count": null,
   "metadata": {},
   "outputs": [],
   "source": [
    "id_list = get_anime_id(search_term)\n",
    "rec_list = get_top_n_recommendations(id_list, df, cos_sim, n=25)\n",
    "rec_list"
   ]
  },
  {
   "cell_type": "code",
   "execution_count": null,
   "metadata": {},
   "outputs": [],
   "source": [
    "## top 10 while limiting 1 per franchise\n",
    "['Appleseed',\n",
    " 'New Cutey Honey',\n",
    " 'Armitage III',\n",
    " 'Fireball Charming',\n",
    " 'Jin-Roh: The Wolf Brigade',\n",
    " 'Ergo Proxy',\n",
    " 'The Animatrix',\n",
    " 'Mardock Scramble: The Second Combustion',\n",
    " 'Harmony',\n",
    " 'Ghost in the Shell: Stand Alone Complex',\n",
    " 'PSYCHO-PASS']"
   ]
  },
  {
   "cell_type": "code",
   "execution_count": null,
   "metadata": {},
   "outputs": [],
   "source": []
  },
  {
   "cell_type": "markdown",
   "metadata": {},
   "source": [
    "## Comparing Cosine Similarity and Jaccard"
   ]
  },
  {
   "cell_type": "markdown",
   "metadata": {},
   "source": [
    "We can do Jaccard because our data is still binary"
   ]
  },
  {
   "cell_type": "markdown",
   "metadata": {},
   "source": [
    "### Samurai Champloo"
   ]
  },
  {
   "cell_type": "code",
   "execution_count": null,
   "metadata": {},
   "outputs": [],
   "source": [
    "initial_search = 'Samurai Champloo'\n",
    "search_term = get_search_term(initial_search)\n",
    "search_term"
   ]
  },
  {
   "cell_type": "code",
   "execution_count": null,
   "metadata": {},
   "outputs": [],
   "source": [
    "id_list = get_anime_id(search_term)\n",
    "rec_list = get_top_n_recommendations(id_list, df, cos_sim, n=10)\n",
    "rec_list"
   ]
  },
  {
   "cell_type": "code",
   "execution_count": null,
   "metadata": {},
   "outputs": [],
   "source": [
    "id_list = get_anime_id(search_term)\n",
    "rec_list = get_top_n_recommendations(id_list, df, jac_sim, n=10)\n",
    "rec_list"
   ]
  },
  {
   "cell_type": "markdown",
   "metadata": {},
   "source": [
    "Cosine similarity and jaccard similarity are returning similar results."
   ]
  },
  {
   "cell_type": "code",
   "execution_count": null,
   "metadata": {},
   "outputs": [],
   "source": [
    "def view_features(search_term, df):\n",
    "    _id = title_df[title_df['userPreferred'] == search_term].index\n",
    "    _df = df.loc[_id,:]\n",
    "    return list(_df.loc[:, (_df != 0).any(axis=0)].columns)"
   ]
  },
  {
   "cell_type": "code",
   "execution_count": null,
   "metadata": {},
   "outputs": [],
   "source": [
    "champloo_tags = view_features(get_search_term('Samurai Champloo'), df)\n",
    "champloo_tags"
   ]
  },
  {
   "cell_type": "code",
   "execution_count": null,
   "metadata": {},
   "outputs": [],
   "source": [
    "# Blade of the Immortal scored higher with cosine similarity than jaccard similarity\n",
    "blade_immortal_tags = view_features(get_search_term(\"Blade of the Immortal\"), df)\n",
    "blade_immortal_tags"
   ]
  },
  {
   "cell_type": "code",
   "execution_count": null,
   "metadata": {},
   "outputs": [],
   "source": [
    "# \"Ranma ½: One Flew Over the Kuno's Nest\" scored higher with jaccard similarity than cosine similarity\n",
    "ranma_tags = view_features(get_search_term(\"Ranma ½: One Flew Over the Kuno's Nest\"), df)\n",
    "ranma_tags"
   ]
  },
  {
   "cell_type": "code",
   "execution_count": null,
   "metadata": {},
   "outputs": [],
   "source": []
  },
  {
   "cell_type": "markdown",
   "metadata": {},
   "source": [
    "Both have a \"supernatural\" tag while \"Samurai Champloo\" does not.  \n",
    "\"Action\" and \"Adventure\" are present for all three.  \n",
    "\"Blade of the Immortal\" shares \"historical\", \"samurai\", and \"swordplay\"  \n",
    "\"Ranma ½: One Flew Over the Kuno's Nest\" shares \"comedy\", \"martial_arts\", and \"shounen\"."
   ]
  },
  {
   "cell_type": "code",
   "execution_count": null,
   "metadata": {
    "scrolled": true
   },
   "outputs": [],
   "source": [
    "temp_categories = total_per_feature[total_per_feature.index.isin(['action', \n",
    "                                                                  'adventure', \n",
    "                                                                  'supernatural', \n",
    "                                                                  'historical', \n",
    "                                                                  'samurai', \n",
    "                                                                  'swordplay', \n",
    "                                                                  'comedy', \n",
    "                                                                  'martial_arts', \n",
    "                                                                  'shounen'])]\n",
    "plt.bar(temp_categories.index, temp_categories)\n",
    "plt.title('Number of Shows Per Genre/Tag');"
   ]
  },
  {
   "cell_type": "markdown",
   "metadata": {},
   "source": [
    "Not sure what's going on but it appears jaccard similarity may be favoring more common features.  \n",
    "To Be Continued..."
   ]
  },
  {
   "cell_type": "code",
   "execution_count": null,
   "metadata": {},
   "outputs": [],
   "source": []
  },
  {
   "cell_type": "markdown",
   "metadata": {},
   "source": [
    "## Diving into EDA"
   ]
  },
  {
   "cell_type": "code",
   "execution_count": null,
   "metadata": {},
   "outputs": [],
   "source": [
    "fig, ax = plt.subplots(2, 1, figsize=(12,8), sharex=True)\n",
    "ax[0].hist(total_per_feature, \n",
    "           bins=100, color='cornflowerblue')\n",
    "ax[0].set_title('Number of Shows Per Genre/Tag')\n",
    "ax[0].set_ylabel('Tag Count')\n",
    "\n",
    "ax[1].boxplot(total_per_feature, vert=False)\n",
    "ax[1].set_xlabel('Anime Count');\n",
    "\n",
    "# plt.savefig('images/anime_feature_counts.png', \n",
    "#             dpi=96, \n",
    "#             format='png', \n",
    "#             transparent=True);"
   ]
  },
  {
   "cell_type": "markdown",
   "metadata": {},
   "source": [
    "### Genres"
   ]
  },
  {
   "cell_type": "code",
   "execution_count": 19,
   "metadata": {},
   "outputs": [
    {
     "data": {
      "image/png": "[encoded data removed]",
      "text/plain": [
       "<Figure size 360x720 with 1 Axes>"
      ]
     },
     "metadata": {},
     "output_type": "display_data"
    }
   ],
   "source": [
    "sorted_genres = genres_item_matrix.sum(axis=0).sort_values(ascending=False)\n",
    "\n",
    "fig, ax = plt.subplots(figsize=(5, 10))\n",
    "ax = sns.barplot([((x/len(df)) * 100) for x in sorted_genres], \n",
    "                 [(x.replace('_', ' ')).title() for x in sorted_genres.index], \n",
    "                 orient='h', \n",
    "                 palette='Blues_d')\n",
    "ax.set(xlim=(0,40))\n",
    "ax.set_title('Most Common Genres')\n",
    "ax.set_xlabel('Percent of Anime Described by Genre')\n",
    "\n",
    "plt.savefig('images/common_genres.png', \n",
    "            dpi=96, \n",
    "            format='png', \n",
    "            bbox_inches='tight');"
   ]
  },
  {
   "cell_type": "markdown",
   "metadata": {},
   "source": [
    "<b>Slice of Life</b> - depiction of everyday life experiences of (usually) ordinary people\n",
    "\n",
    "<b>Mecha</b> - giant robots\n",
    "\n",
    "<b>Ecchi</b> - defined by Wikipedia as \"an often used slang term in the Japanese language for playfully sexual actions\"\n",
    "\n",
    "<b>Mahou Shoujo</b> - magical girl\n"
   ]
  },
  {
   "cell_type": "code",
   "execution_count": 17,
   "metadata": {},
   "outputs": [
    {
     "data": {
      "image/png": "[encoded data removed]",
      "text/plain": [
       "<Figure size 360x720 with 1 Axes>"
      ]
     },
     "metadata": {},
     "output_type": "display_data"
    }
   ],
   "source": [
    "sorted_tags = tag_item_matrix.sum(axis=0).sort_values(ascending=False)\n",
    "\n",
    "fig, ax = plt.subplots(figsize=(5, 10))\n",
    "count=15\n",
    "ax = sns.barplot([((x/len(df)) * 100) for x in sorted_tags[:count]], \n",
    "                 [(x.replace('_', ' ')).title() for x in sorted_tags.index[:count]], \n",
    "                 orient='h', \n",
    "                 palette='Blues_d')\n",
    "ax.set(xlim=(0,40))\n",
    "ax.set_title(f'Top {count} Tags')\n",
    "ax.set_xlabel('Percent of Anime Described by Tag')\n",
    "\n",
    "plt.savefig('images/common_tags.png', \n",
    "            dpi=96, \n",
    "            format='png', \n",
    "            bbox_inches='tight');"
   ]
  },
  {
   "cell_type": "markdown",
   "metadata": {},
   "source": [
    "<b>Shounen</b> - manga and anime marketed towards teenage males. \n",
    "\n",
    "<b>Seinen</b> - manga and anime marketed towards young adult men.\n",
    "\n",
    "<b>Shoujo</b> - manga and anime marketed towards teenage females."
   ]
  },
  {
   "cell_type": "code",
   "execution_count": null,
   "metadata": {},
   "outputs": [],
   "source": []
  },
  {
   "cell_type": "markdown",
   "metadata": {},
   "source": [
    "## Weighing Features"
   ]
  },
  {
   "cell_type": "code",
   "execution_count": null,
   "metadata": {},
   "outputs": [],
   "source": [
    "tag_rank_item_matrix.head()"
   ]
  },
  {
   "cell_type": "code",
   "execution_count": null,
   "metadata": {},
   "outputs": [],
   "source": [
    "df_w_rank = pd.concat([genres_item_matrix, tag_rank_item_matrix], axis=1)\n",
    "df_w_rank.head()"
   ]
  },
  {
   "cell_type": "code",
   "execution_count": null,
   "metadata": {},
   "outputs": [],
   "source": [
    "df_w_rank.tail()"
   ]
  },
  {
   "cell_type": "code",
   "execution_count": null,
   "metadata": {},
   "outputs": [],
   "source": [
    "cos_sim_rank = cosine_similarity(df_w_rank.values)"
   ]
  },
  {
   "cell_type": "code",
   "execution_count": null,
   "metadata": {},
   "outputs": [],
   "source": [
    "cos_sim_rank"
   ]
  },
  {
   "cell_type": "code",
   "execution_count": null,
   "metadata": {},
   "outputs": [],
   "source": [
    "rec_list = get_top_n_recommendations(id_list, df, cos_sim, n=5)\n"
   ]
  },
  {
   "cell_type": "code",
   "execution_count": null,
   "metadata": {},
   "outputs": [],
   "source": [
    "# boolean matrix\n",
    "initial_search = \"Wolf's Rain\"\n",
    "search_term = get_search_term(initial_search)\n",
    "\n",
    "id_list = get_anime_id(search_term)\n",
    "rec_list = get_top_n_recommendations(id_list, df, cos_sim, n=10)\n",
    "rec_list"
   ]
  },
  {
   "cell_type": "code",
   "execution_count": null,
   "metadata": {},
   "outputs": [],
   "source": [
    "# Accounting for tag relevance to title\n",
    "initial_search = \"Wolf's Rain\"\n",
    "search_term = get_search_term(initial_search)\n",
    "\n",
    "id_list = get_anime_id(search_term)\n",
    "rec_list = get_top_n_recommendations(id_list, df_w_rank, cos_sim_rank, n=10)\n",
    "rec_list"
   ]
  },
  {
   "cell_type": "markdown",
   "metadata": {},
   "source": [
    "<b>Using rank pushed the Pokemon recommendation back. That's a good sign.</b>  \n",
    "'Wan Wan Chuushingura' is still present through. Why?"
   ]
  },
  {
   "cell_type": "code",
   "execution_count": null,
   "metadata": {},
   "outputs": [],
   "source": [
    "view_features(get_search_term(\"Wolf's Rain\"), df_w_rank)"
   ]
  },
  {
   "cell_type": "code",
   "execution_count": null,
   "metadata": {},
   "outputs": [],
   "source": [
    "view_features(get_search_term('Wan Wan Chuushingura'), df_w_rank)"
   ]
  },
  {
   "cell_type": "markdown",
   "metadata": {},
   "source": [
    "All of the tags for \"Wan Wan Chuushingura\" are also tags for \"Wolf's Rain\" but there are a few missing that are very important. This goes back to a problem noticed earlier. Our data is more sparce than what is ideal. We need more tags for \"Wan Wan Chuushingura\" for our recommender to see that maybe this isn't a great suggestion based on Wolf's Rain.  \n",
    "Would it be worth penalizing titles with fewer features?  \n",
    "Or maybe we just cut out titles with fewer features? "
   ]
  },
  {
   "cell_type": "code",
   "execution_count": null,
   "metadata": {},
   "outputs": [],
   "source": []
  },
  {
   "cell_type": "markdown",
   "metadata": {},
   "source": [
    "### Penalization Vectors"
   ]
  },
  {
   "cell_type": "code",
   "execution_count": null,
   "metadata": {},
   "outputs": [],
   "source": []
  },
  {
   "cell_type": "code",
   "execution_count": null,
   "metadata": {},
   "outputs": [],
   "source": [
    "score_df = pd.read_csv('data/score_df.csv', index_col='id')"
   ]
  },
  {
   "cell_type": "code",
   "execution_count": null,
   "metadata": {},
   "outputs": [],
   "source": [
    "score_df.head()"
   ]
  },
  {
   "cell_type": "code",
   "execution_count": null,
   "metadata": {},
   "outputs": [],
   "source": [
    "sns.scatterplot(score_df['averageScore'], \n",
    "                score_df['popularity'], \n",
    "                s=30, \n",
    "                alpha=.5);"
   ]
  },
  {
   "cell_type": "code",
   "execution_count": null,
   "metadata": {},
   "outputs": [],
   "source": [
    "# popular yet poorly rated\n",
    "x = score_df[(score_df['averageScore'] < 30) & (score_df['popularity'] > 15000)]\n",
    "\n",
    "get_title_from_id(x.index.values[0])"
   ]
  },
  {
   "cell_type": "code",
   "execution_count": null,
   "metadata": {},
   "outputs": [],
   "source": [
    "top_10_pop = list(score_df['popularity'].sort_values()[-10:].index)\n",
    "top_10_pop"
   ]
  },
  {
   "cell_type": "code",
   "execution_count": null,
   "metadata": {},
   "outputs": [],
   "source": [
    "top_10_score = list(score_df['averageScore'].sort_values().dropna()[-10:].index)\n",
    "top_10_score"
   ]
  },
  {
   "cell_type": "code",
   "execution_count": null,
   "metadata": {},
   "outputs": [],
   "source": [
    "def get_title_from_id(_id):\n",
    "    '''Searches the title dataframe based on an anime id and tries to return the english title. \n",
    "    If an english title is not available, the \"user preferred\" is give. '''\n",
    "    title = None\n",
    "    if pd.isna(title_df.loc[title_df.index == _id, 'english']).values[0]:\n",
    "        title = title_df.loc[title_df.index == _id, 'userPreferred'].values[0]\n",
    "    else:\n",
    "        title = title_df.loc[title_df.index == _id, 'english'].values[0]\n",
    "    \n",
    "    return title"
   ]
  },
  {
   "cell_type": "code",
   "execution_count": null,
   "metadata": {
    "scrolled": true
   },
   "outputs": [],
   "source": [
    "for _id in top_10_pop:\n",
    "    print(get_title_from_id(_id))"
   ]
  },
  {
   "cell_type": "code",
   "execution_count": null,
   "metadata": {},
   "outputs": [],
   "source": [
    "for _id in top_10_score:\n",
    "    print(get_title_from_id(_id))"
   ]
  },
  {
   "cell_type": "markdown",
   "metadata": {},
   "source": [
    "To confirm, popularity is not based on averageScore"
   ]
  },
  {
   "cell_type": "code",
   "execution_count": null,
   "metadata": {},
   "outputs": [],
   "source": [
    "score_df['popularity'].sort_values().index"
   ]
  },
  {
   "cell_type": "code",
   "execution_count": null,
   "metadata": {},
   "outputs": [],
   "source": [
    "sorted_pop = score_df['popularity'].sort_values()\n",
    "for num, idx_pop in enumerate(sorted_pop.items()):\n",
    "    score_df.loc[idx_pop[0], 'pop_rank'] = num\n"
   ]
  },
  {
   "cell_type": "code",
   "execution_count": null,
   "metadata": {},
   "outputs": [],
   "source": [
    "score_df"
   ]
  },
  {
   "cell_type": "code",
   "execution_count": null,
   "metadata": {},
   "outputs": [],
   "source": [
    "for _id in list(score_df['pop_rank'].sort_values()[-10:].index):\n",
    "    print(get_title_from_id(_id))\n"
   ]
  },
  {
   "cell_type": "code",
   "execution_count": null,
   "metadata": {},
   "outputs": [],
   "source": [
    "scaler = MinMaxScaler()\n",
    "scaled_pop = scaler.fit_transform(score_df['popularity'].to_numpy().reshape(-1, 1))"
   ]
  },
  {
   "cell_type": "code",
   "execution_count": null,
   "metadata": {},
   "outputs": [],
   "source": [
    "for _id in list(score_df['pop_scaled'].sort_values()[-10:].index):\n",
    "    print(_id, get_title_from_id(_id))\n"
   ]
  },
  {
   "cell_type": "code",
   "execution_count": null,
   "metadata": {},
   "outputs": [],
   "source": []
  },
  {
   "cell_type": "code",
   "execution_count": null,
   "metadata": {},
   "outputs": [],
   "source": [
    "score_df.head()"
   ]
  },
  {
   "cell_type": "code",
   "execution_count": null,
   "metadata": {},
   "outputs": [],
   "source": [
    "sns.scatterplot(score_df['averageScore'], \n",
    "                score_df['pop_rank'], \n",
    "                s=30, \n",
    "                alpha=.5);"
   ]
  },
  {
   "cell_type": "code",
   "execution_count": null,
   "metadata": {},
   "outputs": [],
   "source": [
    "score_df['score_scaled'] = score_df['averageScore'] / 100"
   ]
  },
  {
   "cell_type": "code",
   "execution_count": null,
   "metadata": {},
   "outputs": [],
   "source": [
    "score_df"
   ]
  },
  {
   "cell_type": "code",
   "execution_count": null,
   "metadata": {},
   "outputs": [],
   "source": [
    "score_df['pop_scaled'].sort_values()"
   ]
  },
  {
   "cell_type": "code",
   "execution_count": null,
   "metadata": {},
   "outputs": [],
   "source": [
    "a = .1\n",
    "score_df['adjusted_score'] = ((a * score_df['pop_scaled']) + .9) * score_df['score_scaled']"
   ]
  },
  {
   "cell_type": "code",
   "execution_count": null,
   "metadata": {},
   "outputs": [],
   "source": [
    "score_df = score_df.fillna(value=0)"
   ]
  },
  {
   "cell_type": "code",
   "execution_count": null,
   "metadata": {},
   "outputs": [],
   "source": [
    "top_15_df = score_df.sort_values(by='adjusted_score').tail(15)\n",
    "top_15_df"
   ]
  },
  {
   "cell_type": "code",
   "execution_count": null,
   "metadata": {},
   "outputs": [],
   "source": [
    "title_df.loc[list(top_15_df.index.values),:]"
   ]
  },
  {
   "cell_type": "code",
   "execution_count": null,
   "metadata": {},
   "outputs": [],
   "source": []
  },
  {
   "cell_type": "code",
   "execution_count": null,
   "metadata": {},
   "outputs": [],
   "source": [
    "# score_df[['pop_scaled', 'score_scaled', 'adjusted_score']].to_csv('data/adjusted_score_df.csv')"
   ]
  },
  {
   "cell_type": "code",
   "execution_count": null,
   "metadata": {},
   "outputs": [],
   "source": [
    "fig, ax = plt.subplots(figsize=(14,8))\n",
    "sns.scatterplot(y='pop_scaled', \n",
    "                x= 'score_scaled',\n",
    "                data=score_df,\n",
    "                s=30, \n",
    "                hue='adjusted_score')\n",
    "ax.set_ylabel('Scaled Popularity')\n",
    "ax.set_xlabel('Scaled Score');"
   ]
  },
  {
   "cell_type": "code",
   "execution_count": null,
   "metadata": {},
   "outputs": [],
   "source": [
    "fig, ax = plt.subplots(figsize=(8, 8))\n",
    "sns.scatterplot(x= 'adjusted_score',\n",
    "                y= 'score_scaled',\n",
    "                data=score_df,\n",
    "                s=30, \n",
    "                hue='pop_scaled')\n",
    "ax.set_xlabel('Adjusted Score')\n",
    "ax.set_ylabel('Scaled Score');"
   ]
  },
  {
   "cell_type": "code",
   "execution_count": null,
   "metadata": {},
   "outputs": [],
   "source": []
  }
 ],
 "metadata": {
  "kernelspec": {
   "display_name": "Python 3",
   "language": "python",
   "name": "python3"
  },
  "language_info": {
   "codemirror_mode": {
    "name": "ipython",
    "version": 3
   },
   "file_extension": ".py",
   "mimetype": "text/x-python",
   "name": "python",
   "nbconvert_exporter": "python",
   "pygments_lexer": "ipython3",
   "version": "3.7.7"
  }
 },
 "nbformat": 4,
 "nbformat_minor": 4
}

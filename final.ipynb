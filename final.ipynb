{
 "cells": [
  {
   "cell_type": "code",
   "execution_count": 1,
   "metadata": {},
   "outputs": [],
   "source": [
    "import pandas as pd\n",
    "import numpy as np\n",
    "\n",
    "import matplotlib.pyplot as plt\n",
    "import seaborn as sns\n",
    "import pprint as pp\n",
    "\n",
    "import requests\n",
    "import json\n",
    "from difflib import get_close_matches\n",
    "from difflib import SequenceMatcher\n",
    "\n",
    "from sklearn.metrics.pairwise import cosine_similarity\n",
    "\n",
    "from scipy.spatial.distance import cosine\n",
    "\n",
    "plt.style.use('seaborn')"
   ]
  },
  {
   "cell_type": "code",
   "execution_count": 2,
   "metadata": {},
   "outputs": [],
   "source": [
    "genres_item_matrix = pd.read_csv('data/genres_item_matrix.csv', index_col='id')\n",
    "tag_item_matrix = pd.read_csv('data/tag_item_matrix.csv', index_col='id')\n",
    "tag_rank_item_matrix = pd.read_csv('data/tag_rank_item_matrix.csv', index_col='id')\n",
    "title_df = pd.read_csv('data/title_df.csv', index_col='id')\n",
    "adjusted_score_df = pd.read_csv('data/adjusted_score_df.csv', index_col='id')"
   ]
  },
  {
   "cell_type": "code",
   "execution_count": 3,
   "metadata": {},
   "outputs": [
    {
     "data": {
      "text/html": [
       "<div>\n",
       "<style scoped>\n",
       "    .dataframe tbody tr th:only-of-type {\n",
       "        vertical-align: middle;\n",
       "    }\n",
       "\n",
       "    .dataframe tbody tr th {\n",
       "        vertical-align: top;\n",
       "    }\n",
       "\n",
       "    .dataframe thead th {\n",
       "        text-align: right;\n",
       "    }\n",
       "</style>\n",
       "<table border=\"1\" class=\"dataframe\">\n",
       "  <thead>\n",
       "    <tr style=\"text-align: right;\">\n",
       "      <th></th>\n",
       "      <th>action</th>\n",
       "      <th>adventure</th>\n",
       "      <th>comedy</th>\n",
       "      <th>drama</th>\n",
       "      <th>ecchi</th>\n",
       "      <th>fantasy</th>\n",
       "      <th>horror</th>\n",
       "      <th>mahou_shoujo</th>\n",
       "      <th>mecha</th>\n",
       "      <th>music</th>\n",
       "      <th>...</th>\n",
       "      <th>witch</th>\n",
       "      <th>work</th>\n",
       "      <th>wrestling</th>\n",
       "      <th>writing</th>\n",
       "      <th>wuxia</th>\n",
       "      <th>yakuza</th>\n",
       "      <th>yandere</th>\n",
       "      <th>youkai</th>\n",
       "      <th>yuri</th>\n",
       "      <th>zombie</th>\n",
       "    </tr>\n",
       "    <tr>\n",
       "      <th>id</th>\n",
       "      <th></th>\n",
       "      <th></th>\n",
       "      <th></th>\n",
       "      <th></th>\n",
       "      <th></th>\n",
       "      <th></th>\n",
       "      <th></th>\n",
       "      <th></th>\n",
       "      <th></th>\n",
       "      <th></th>\n",
       "      <th></th>\n",
       "      <th></th>\n",
       "      <th></th>\n",
       "      <th></th>\n",
       "      <th></th>\n",
       "      <th></th>\n",
       "      <th></th>\n",
       "      <th></th>\n",
       "      <th></th>\n",
       "      <th></th>\n",
       "      <th></th>\n",
       "    </tr>\n",
       "  </thead>\n",
       "  <tbody>\n",
       "    <tr>\n",
       "      <th>10161</th>\n",
       "      <td>1</td>\n",
       "      <td>0</td>\n",
       "      <td>0</td>\n",
       "      <td>1</td>\n",
       "      <td>0</td>\n",
       "      <td>0</td>\n",
       "      <td>0</td>\n",
       "      <td>0</td>\n",
       "      <td>0</td>\n",
       "      <td>0</td>\n",
       "      <td>...</td>\n",
       "      <td>0</td>\n",
       "      <td>0</td>\n",
       "      <td>0</td>\n",
       "      <td>0</td>\n",
       "      <td>0</td>\n",
       "      <td>0</td>\n",
       "      <td>1</td>\n",
       "      <td>0</td>\n",
       "      <td>0</td>\n",
       "      <td>0</td>\n",
       "    </tr>\n",
       "    <tr>\n",
       "      <th>99726</th>\n",
       "      <td>0</td>\n",
       "      <td>1</td>\n",
       "      <td>1</td>\n",
       "      <td>0</td>\n",
       "      <td>0</td>\n",
       "      <td>1</td>\n",
       "      <td>0</td>\n",
       "      <td>0</td>\n",
       "      <td>0</td>\n",
       "      <td>0</td>\n",
       "      <td>...</td>\n",
       "      <td>0</td>\n",
       "      <td>0</td>\n",
       "      <td>0</td>\n",
       "      <td>0</td>\n",
       "      <td>0</td>\n",
       "      <td>0</td>\n",
       "      <td>0</td>\n",
       "      <td>0</td>\n",
       "      <td>0</td>\n",
       "      <td>0</td>\n",
       "    </tr>\n",
       "    <tr>\n",
       "      <th>98526</th>\n",
       "      <td>1</td>\n",
       "      <td>0</td>\n",
       "      <td>0</td>\n",
       "      <td>1</td>\n",
       "      <td>0</td>\n",
       "      <td>0</td>\n",
       "      <td>0</td>\n",
       "      <td>0</td>\n",
       "      <td>0</td>\n",
       "      <td>0</td>\n",
       "      <td>...</td>\n",
       "      <td>0</td>\n",
       "      <td>0</td>\n",
       "      <td>0</td>\n",
       "      <td>0</td>\n",
       "      <td>0</td>\n",
       "      <td>0</td>\n",
       "      <td>0</td>\n",
       "      <td>0</td>\n",
       "      <td>0</td>\n",
       "      <td>0</td>\n",
       "    </tr>\n",
       "    <tr>\n",
       "      <th>966</th>\n",
       "      <td>0</td>\n",
       "      <td>0</td>\n",
       "      <td>1</td>\n",
       "      <td>0</td>\n",
       "      <td>1</td>\n",
       "      <td>0</td>\n",
       "      <td>0</td>\n",
       "      <td>0</td>\n",
       "      <td>0</td>\n",
       "      <td>0</td>\n",
       "      <td>...</td>\n",
       "      <td>0</td>\n",
       "      <td>0</td>\n",
       "      <td>0</td>\n",
       "      <td>0</td>\n",
       "      <td>0</td>\n",
       "      <td>0</td>\n",
       "      <td>0</td>\n",
       "      <td>0</td>\n",
       "      <td>0</td>\n",
       "      <td>0</td>\n",
       "    </tr>\n",
       "    <tr>\n",
       "      <th>4876</th>\n",
       "      <td>1</td>\n",
       "      <td>1</td>\n",
       "      <td>0</td>\n",
       "      <td>1</td>\n",
       "      <td>0</td>\n",
       "      <td>0</td>\n",
       "      <td>0</td>\n",
       "      <td>0</td>\n",
       "      <td>0</td>\n",
       "      <td>0</td>\n",
       "      <td>...</td>\n",
       "      <td>0</td>\n",
       "      <td>0</td>\n",
       "      <td>0</td>\n",
       "      <td>0</td>\n",
       "      <td>0</td>\n",
       "      <td>0</td>\n",
       "      <td>0</td>\n",
       "      <td>0</td>\n",
       "      <td>0</td>\n",
       "      <td>0</td>\n",
       "    </tr>\n",
       "  </tbody>\n",
       "</table>\n",
       "<p>5 rows × 265 columns</p>\n",
       "</div>"
      ],
      "text/plain": [
       "       action  adventure  comedy  drama  ecchi  fantasy  horror  mahou_shoujo  \\\n",
       "id                                                                              \n",
       "10161       1          0       0      1      0        0       0             0   \n",
       "99726       0          1       1      0      0        1       0             0   \n",
       "98526       1          0       0      1      0        0       0             0   \n",
       "966         0          0       1      0      1        0       0             0   \n",
       "4876        1          1       0      1      0        0       0             0   \n",
       "\n",
       "       mecha  music  ...  witch  work  wrestling  writing  wuxia  yakuza  \\\n",
       "id                   ...                                                   \n",
       "10161      0      0  ...      0     0          0        0      0       0   \n",
       "99726      0      0  ...      0     0          0        0      0       0   \n",
       "98526      0      0  ...      0     0          0        0      0       0   \n",
       "966        0      0  ...      0     0          0        0      0       0   \n",
       "4876       0      0  ...      0     0          0        0      0       0   \n",
       "\n",
       "       yandere  youkai  yuri  zombie  \n",
       "id                                    \n",
       "10161        1       0     0       0  \n",
       "99726        0       0     0       0  \n",
       "98526        0       0     0       0  \n",
       "966          0       0     0       0  \n",
       "4876         0       0     0       0  \n",
       "\n",
       "[5 rows x 265 columns]"
      ]
     },
     "execution_count": 3,
     "metadata": {},
     "output_type": "execute_result"
    }
   ],
   "source": [
    "binary_df = pd.concat([genres_item_matrix, tag_item_matrix], axis=1)\n",
    "binary_df.head()"
   ]
  },
  {
   "cell_type": "code",
   "execution_count": 4,
   "metadata": {},
   "outputs": [
    {
     "data": {
      "text/html": [
       "<div>\n",
       "<style scoped>\n",
       "    .dataframe tbody tr th:only-of-type {\n",
       "        vertical-align: middle;\n",
       "    }\n",
       "\n",
       "    .dataframe tbody tr th {\n",
       "        vertical-align: top;\n",
       "    }\n",
       "\n",
       "    .dataframe thead th {\n",
       "        text-align: right;\n",
       "    }\n",
       "</style>\n",
       "<table border=\"1\" class=\"dataframe\">\n",
       "  <thead>\n",
       "    <tr style=\"text-align: right;\">\n",
       "      <th></th>\n",
       "      <th>action</th>\n",
       "      <th>adventure</th>\n",
       "      <th>comedy</th>\n",
       "      <th>drama</th>\n",
       "      <th>ecchi</th>\n",
       "      <th>fantasy</th>\n",
       "      <th>horror</th>\n",
       "      <th>mahou_shoujo</th>\n",
       "      <th>mecha</th>\n",
       "      <th>music</th>\n",
       "      <th>...</th>\n",
       "      <th>witch</th>\n",
       "      <th>work</th>\n",
       "      <th>wrestling</th>\n",
       "      <th>writing</th>\n",
       "      <th>wuxia</th>\n",
       "      <th>yakuza</th>\n",
       "      <th>yandere</th>\n",
       "      <th>youkai</th>\n",
       "      <th>yuri</th>\n",
       "      <th>zombie</th>\n",
       "    </tr>\n",
       "    <tr>\n",
       "      <th>id</th>\n",
       "      <th></th>\n",
       "      <th></th>\n",
       "      <th></th>\n",
       "      <th></th>\n",
       "      <th></th>\n",
       "      <th></th>\n",
       "      <th></th>\n",
       "      <th></th>\n",
       "      <th></th>\n",
       "      <th></th>\n",
       "      <th></th>\n",
       "      <th></th>\n",
       "      <th></th>\n",
       "      <th></th>\n",
       "      <th></th>\n",
       "      <th></th>\n",
       "      <th></th>\n",
       "      <th></th>\n",
       "      <th></th>\n",
       "      <th></th>\n",
       "      <th></th>\n",
       "    </tr>\n",
       "  </thead>\n",
       "  <tbody>\n",
       "    <tr>\n",
       "      <th>10161</th>\n",
       "      <td>1</td>\n",
       "      <td>0</td>\n",
       "      <td>0</td>\n",
       "      <td>1</td>\n",
       "      <td>0</td>\n",
       "      <td>0</td>\n",
       "      <td>0</td>\n",
       "      <td>0</td>\n",
       "      <td>0</td>\n",
       "      <td>0</td>\n",
       "      <td>...</td>\n",
       "      <td>0.0</td>\n",
       "      <td>0.0</td>\n",
       "      <td>0.0</td>\n",
       "      <td>0.0</td>\n",
       "      <td>0.0</td>\n",
       "      <td>0.0</td>\n",
       "      <td>0.44</td>\n",
       "      <td>0.0</td>\n",
       "      <td>0.0</td>\n",
       "      <td>0.0</td>\n",
       "    </tr>\n",
       "    <tr>\n",
       "      <th>99726</th>\n",
       "      <td>0</td>\n",
       "      <td>1</td>\n",
       "      <td>1</td>\n",
       "      <td>0</td>\n",
       "      <td>0</td>\n",
       "      <td>1</td>\n",
       "      <td>0</td>\n",
       "      <td>0</td>\n",
       "      <td>0</td>\n",
       "      <td>0</td>\n",
       "      <td>...</td>\n",
       "      <td>0.0</td>\n",
       "      <td>0.0</td>\n",
       "      <td>0.0</td>\n",
       "      <td>0.0</td>\n",
       "      <td>0.0</td>\n",
       "      <td>0.0</td>\n",
       "      <td>0.00</td>\n",
       "      <td>0.0</td>\n",
       "      <td>0.0</td>\n",
       "      <td>0.0</td>\n",
       "    </tr>\n",
       "    <tr>\n",
       "      <th>98526</th>\n",
       "      <td>1</td>\n",
       "      <td>0</td>\n",
       "      <td>0</td>\n",
       "      <td>1</td>\n",
       "      <td>0</td>\n",
       "      <td>0</td>\n",
       "      <td>0</td>\n",
       "      <td>0</td>\n",
       "      <td>0</td>\n",
       "      <td>0</td>\n",
       "      <td>...</td>\n",
       "      <td>0.0</td>\n",
       "      <td>0.0</td>\n",
       "      <td>0.0</td>\n",
       "      <td>0.0</td>\n",
       "      <td>0.0</td>\n",
       "      <td>0.0</td>\n",
       "      <td>0.00</td>\n",
       "      <td>0.0</td>\n",
       "      <td>0.0</td>\n",
       "      <td>0.0</td>\n",
       "    </tr>\n",
       "    <tr>\n",
       "      <th>966</th>\n",
       "      <td>0</td>\n",
       "      <td>0</td>\n",
       "      <td>1</td>\n",
       "      <td>0</td>\n",
       "      <td>1</td>\n",
       "      <td>0</td>\n",
       "      <td>0</td>\n",
       "      <td>0</td>\n",
       "      <td>0</td>\n",
       "      <td>0</td>\n",
       "      <td>...</td>\n",
       "      <td>0.0</td>\n",
       "      <td>0.0</td>\n",
       "      <td>0.0</td>\n",
       "      <td>0.0</td>\n",
       "      <td>0.0</td>\n",
       "      <td>0.0</td>\n",
       "      <td>0.00</td>\n",
       "      <td>0.0</td>\n",
       "      <td>0.0</td>\n",
       "      <td>0.0</td>\n",
       "    </tr>\n",
       "    <tr>\n",
       "      <th>4876</th>\n",
       "      <td>1</td>\n",
       "      <td>1</td>\n",
       "      <td>0</td>\n",
       "      <td>1</td>\n",
       "      <td>0</td>\n",
       "      <td>0</td>\n",
       "      <td>0</td>\n",
       "      <td>0</td>\n",
       "      <td>0</td>\n",
       "      <td>0</td>\n",
       "      <td>...</td>\n",
       "      <td>0.0</td>\n",
       "      <td>0.0</td>\n",
       "      <td>0.0</td>\n",
       "      <td>0.0</td>\n",
       "      <td>0.0</td>\n",
       "      <td>0.0</td>\n",
       "      <td>0.00</td>\n",
       "      <td>0.0</td>\n",
       "      <td>0.0</td>\n",
       "      <td>0.0</td>\n",
       "    </tr>\n",
       "  </tbody>\n",
       "</table>\n",
       "<p>5 rows × 265 columns</p>\n",
       "</div>"
      ],
      "text/plain": [
       "       action  adventure  comedy  drama  ecchi  fantasy  horror  mahou_shoujo  \\\n",
       "id                                                                              \n",
       "10161       1          0       0      1      0        0       0             0   \n",
       "99726       0          1       1      0      0        1       0             0   \n",
       "98526       1          0       0      1      0        0       0             0   \n",
       "966         0          0       1      0      1        0       0             0   \n",
       "4876        1          1       0      1      0        0       0             0   \n",
       "\n",
       "       mecha  music  ...  witch  work  wrestling  writing  wuxia  yakuza  \\\n",
       "id                   ...                                                   \n",
       "10161      0      0  ...    0.0   0.0        0.0      0.0    0.0     0.0   \n",
       "99726      0      0  ...    0.0   0.0        0.0      0.0    0.0     0.0   \n",
       "98526      0      0  ...    0.0   0.0        0.0      0.0    0.0     0.0   \n",
       "966        0      0  ...    0.0   0.0        0.0      0.0    0.0     0.0   \n",
       "4876       0      0  ...    0.0   0.0        0.0      0.0    0.0     0.0   \n",
       "\n",
       "       yandere  youkai  yuri  zombie  \n",
       "id                                    \n",
       "10161     0.44     0.0   0.0     0.0  \n",
       "99726     0.00     0.0   0.0     0.0  \n",
       "98526     0.00     0.0   0.0     0.0  \n",
       "966       0.00     0.0   0.0     0.0  \n",
       "4876      0.00     0.0   0.0     0.0  \n",
       "\n",
       "[5 rows x 265 columns]"
      ]
     },
     "execution_count": 4,
     "metadata": {},
     "output_type": "execute_result"
    }
   ],
   "source": [
    "rank_df = pd.concat([genres_item_matrix, tag_rank_item_matrix], axis=1)\n",
    "rank_df.head()"
   ]
  },
  {
   "cell_type": "code",
   "execution_count": null,
   "metadata": {},
   "outputs": [],
   "source": []
  },
  {
   "cell_type": "code",
   "execution_count": 5,
   "metadata": {},
   "outputs": [],
   "source": [
    "sim_mat = cosine_similarity(rank_df.values)"
   ]
  },
  {
   "cell_type": "code",
   "execution_count": 18,
   "metadata": {},
   "outputs": [
    {
     "data": {
      "text/plain": [
       "id\n",
       "10161     0.650287\n",
       "99726     0.692942\n",
       "98526     0.522631\n",
       "966       0.658964\n",
       "4876      0.549320\n",
       "            ...   \n",
       "99586     0.590663\n",
       "99916     0.688089\n",
       "101283    0.612901\n",
       "101633    0.668539\n",
       "101089    0.000000\n",
       "Name: adjusted_score, Length: 9832, dtype: float64"
      ]
     },
     "execution_count": 18,
     "metadata": {},
     "output_type": "execute_result"
    }
   ],
   "source": [
    "adjusted_score_df['adjusted_score']"
   ]
  },
  {
   "cell_type": "code",
   "execution_count": 17,
   "metadata": {},
   "outputs": [
    {
     "data": {
      "text/plain": [
       "id\n",
       "10161     0.524962\n",
       "99726     0.596090\n",
       "98526     0.339085\n",
       "966       0.539065\n",
       "4876      0.374601\n",
       "            ...   \n",
       "99586     0.433109\n",
       "99916     0.587770\n",
       "101283    0.466336\n",
       "101633    0.554845\n",
       "101089    0.000000\n",
       "Name: adjusted_score, Length: 9832, dtype: float64"
      ]
     },
     "execution_count": 17,
     "metadata": {},
     "output_type": "execute_result"
    }
   ],
   "source": [
    "x = (adjusted_score_df['adjusted_score'] ** 2)\n",
    "x /= max(x)\n",
    "x"
   ]
  },
  {
   "cell_type": "code",
   "execution_count": 19,
   "metadata": {},
   "outputs": [
    {
     "data": {
      "text/plain": [
       "id\n",
       "10161     0.5250\n",
       "99726     0.5961\n",
       "98526     0.3391\n",
       "966       0.5391\n",
       "4876      0.3746\n",
       "           ...  \n",
       "99586     0.4331\n",
       "99916     0.5878\n",
       "101283    0.4663\n",
       "101633    0.5548\n",
       "101089    0.0000\n",
       "Name: adjusted_score, Length: 9832, dtype: float64"
      ]
     },
     "execution_count": 19,
     "metadata": {},
     "output_type": "execute_result"
    }
   ],
   "source": [
    "adjusted_scores = round(x, 4)\n",
    "adjusted_scores"
   ]
  },
  {
   "cell_type": "code",
   "execution_count": 8,
   "metadata": {},
   "outputs": [
    {
     "data": {
      "image/png": "[encoded data removed]",
      "text/plain": [
       "<Figure size 576x396 with 1 Axes>"
      ]
     },
     "metadata": {},
     "output_type": "display_data"
    }
   ],
   "source": [
    "plt.hist(adjusted_score_df['adjusted_score'], bins=50, alpha=.5)\n",
    "plt.hist(adjusted_scores, bins=50, alpha=.25, color='red');"
   ]
  },
  {
   "cell_type": "code",
   "execution_count": 9,
   "metadata": {},
   "outputs": [
    {
     "data": {
      "text/plain": [
       "array([[0.7245    , 0.        , 0.29347532, ..., 0.        , 0.11280975,\n",
       "        0.        ],\n",
       "       [0.        , 0.7721    , 0.        , ..., 0.04025339, 0.17317461,\n",
       "        0.        ],\n",
       "       [0.36514317, 0.        , 0.5823    , ..., 0.        , 0.16219698,\n",
       "        0.        ],\n",
       "       ...,\n",
       "       [0.        , 0.04551126, 0.        , ..., 0.6829    , 0.        ,\n",
       "        0.        ],\n",
       "       [0.10972032, 0.17949807, 0.12679192, ..., 0.        , 0.7449    ,\n",
       "        0.        ],\n",
       "       [0.        , 0.27693419, 0.        , ..., 0.03013517, 0.25928979,\n",
       "        0.        ]])"
      ]
     },
     "execution_count": 9,
     "metadata": {},
     "output_type": "execute_result"
    }
   ],
   "source": [
    "weighted_sim_mat = (sim_mat * adjusted_scores.to_numpy())\n",
    "weighted_sim_mat"
   ]
  },
  {
   "cell_type": "code",
   "execution_count": 10,
   "metadata": {},
   "outputs": [],
   "source": [
    "def get_anime_id(_user_preferred_title):\n",
    "    id_list = []\n",
    "    anime_id = title_df[title_df['userPreferred'].isin([_user_preferred_title])].index\n",
    "    id_list.append(anime_id)\n",
    "    \n",
    "    return id_list[0].values[0]\n",
    "\n",
    "\n",
    "def get_top_n_recommendations(anime_id, dataframe, similarity_matrix, n=5):\n",
    "    positional_idx = dataframe.index.get_loc(anime_id)\n",
    "    \n",
    "    top_n = np.argsort(similarity_matrix[positional_idx,:])[-n-1:-1]\n",
    "    recom_titles = []\n",
    "    for idx, row in title_df.iloc[top_n,:].iterrows():\n",
    "        if type(row['english']) != float:\n",
    "            recom_titles.append(row['english'])\n",
    "        else:\n",
    "            recom_titles.append(row['userPreferred'])\n",
    "    \n",
    "    return recom_titles\n",
    "\n",
    "\n",
    "        \n",
    "def get_title_from_id(_id):\n",
    "    '''Searches the title dataframe based on an anime id and tries to return the english title. \n",
    "    If an english title is not available, the \"user preferred\" is give. '''\n",
    "    title = None\n",
    "    if pd.isna(title_df.loc[title_df.index == _id, 'english']).values[0]:\n",
    "        title = title_df.loc[title_df.index == _id, 'userPreferred'].values[0]\n",
    "    else:\n",
    "        title = title_df.loc[title_df.index == _id, 'english'].values[0]\n",
    "    \n",
    "    return title\n",
    "\n",
    "\n",
    "def get_user_preferred(initial_search):\n",
    "    '''Search the AniList API for a show based on a query.\n",
    "    \n",
    "    Returns the user preferred title \n",
    "    '''\n",
    "    query = '''\n",
    "    query ($search: String) {\n",
    "      Media (type: ANIME, search: $search) {\n",
    "        id\n",
    "        title {\n",
    "          romaji\n",
    "          english\n",
    "          native\n",
    "          userPreferred\n",
    "        }\n",
    "      }\n",
    "    }\n",
    "    '''\n",
    "    variables = {'search': initial_search}\n",
    "\n",
    "    url = 'https://graphql.anilist.co'\n",
    "    response = requests.post(url, \n",
    "                             json={'query': query, \n",
    "                                   'variables': variables})\n",
    "    user_preferred_title = response.json()['data']['Media']['title']['userPreferred']\n",
    "\n",
    "    return user_preferred_title\n",
    "\n",
    "\n",
    "def view_features(search_term, df):\n",
    "    _id = title_df[title_df['userPreferred'] == search_term].index\n",
    "    _df = df.loc[_id,:]\n",
    "\n",
    "    return list(_df.loc[:, (_df != 0).any(axis=0)].columns)\n",
    "\n",
    "\n",
    "\n",
    "def view_features_from_id(_id, _df):\n",
    "    single_show = _df.loc[_id,:]\n",
    "    \n",
    "    return set(single_show[single_show != 0].index)\n",
    "\n",
    "\n",
    "\n",
    "def get_common_tags(list_of_ids):\n",
    "    list_of_tags = [view_features_from_id(_id, binary_df) for _id in list_of_ids]\n",
    "\n",
    "    return set.intersection(*list_of_tags)"
   ]
  },
  {
   "cell_type": "code",
   "execution_count": 11,
   "metadata": {},
   "outputs": [],
   "source": [
    "def get_recommendations(search_term, similarity_matrix=weighted_sim_mat):\n",
    "    user_preferred_title = get_user_preferred(search_term)\n",
    "    _id = get_anime_id(user_preferred_title)\n",
    "    print('Getting recommendations for: ', get_title_from_id(_id))\n",
    "    rec_list = get_top_n_recommendations(_id, \n",
    "                                         rank_df, \n",
    "                                         similarity_matrix, \n",
    "                                         n=5)\n",
    "    return rec_list\n",
    "\n"
   ]
  },
  {
   "cell_type": "code",
   "execution_count": 12,
   "metadata": {},
   "outputs": [
    {
     "data": {
      "text/plain": [
       "['They Were 11',\n",
       " 'One Piece Film: Strong World',\n",
       " \"Cowboy Bebop: The Movie - Knockin' on Heaven's Door\",\n",
       " 'One Piece: Episode of Merry - The Tale of One More Friend',\n",
       " 'Final Fantasy VII: Advent Children - Venice Film Festival Footage',\n",
       " 'Pokémon: Mewtwo Returns',\n",
       " 'Planetarian',\n",
       " 'Made in Abyss: Wandering Twilight',\n",
       " 'Saiyuuki Reload: Burial',\n",
       " 'Modest Heroes: Ponoc Short Films Theatre, Volume 1',\n",
       " 'Grimgar of Fantasy and Ash',\n",
       " 'No Game, No Life Zero',\n",
       " 'Chrome Shelled Regios',\n",
       " 'Pokémon: Lucario and the Mystery of Mew',\n",
       " 'Mujin Wakusei Survive',\n",
       " 'Jyu-Oh-Sei: Planet of the Beast King',\n",
       " 'Kingsglaive Final Fantasy XV',\n",
       " 'Final Fantasy VII: Last Order',\n",
       " 'Attack on Titan',\n",
       " 'Land of the Lustrous',\n",
       " 'Tsubasa: Spring Thunder Chronicles',\n",
       " 'Attack on Titan Season 2',\n",
       " 'Nausicaä of the Valley of the Wind',\n",
       " \"Wolf's Rain OVA\",\n",
       " 'Made in Abyss']"
      ]
     },
     "execution_count": 12,
     "metadata": {},
     "output_type": "execute_result"
    }
   ],
   "source": [
    "get_top_n_recommendations(get_anime_id(get_user_preferred(\"Wolf's Rain\")), rank_df, weighted_sim_mat, n=25)"
   ]
  },
  {
   "cell_type": "code",
   "execution_count": 13,
   "metadata": {},
   "outputs": [
    {
     "data": {
      "text/plain": [
       "['Pokémon: Mewtwo Returns',\n",
       " 'Xia Lan',\n",
       " 'They Were 11',\n",
       " 'Dances with the Dragons',\n",
       " 'Modest Heroes: Ponoc Short Films Theatre, Volume 1',\n",
       " 'Tsubasa: Spring Thunder Chronicles',\n",
       " 'The Laws of the Universe - Part I',\n",
       " 'AOTU Shijie',\n",
       " 'Rokka: Braves of the Six Flowers Picture Drama',\n",
       " 'AOTU Shijie 2',\n",
       " 'Owari no Chronicle',\n",
       " 'Final Fantasy VII: Advent Children - Venice Film Festival Footage',\n",
       " 'Mushrambo (2008)',\n",
       " 'Kurogane Communication',\n",
       " 'Hi no Tori 2772: Ai no CosmoZone',\n",
       " 'Ancien to Mahou no Tablet: Mou Hitotsu no Hirune Hime',\n",
       " 'Shen Qi Huan Qi Tan',\n",
       " 'Chrome Shelled Regios',\n",
       " 'Pokémon: Lucario and the Mystery of Mew',\n",
       " 'Kingsglaive Final Fantasy XV',\n",
       " 'Wan Wan Chuushingura',\n",
       " \"Wolf's Rain OVA\",\n",
       " 'Galilei Donna',\n",
       " 'Jyu-Oh-Sei: Planet of the Beast King',\n",
       " 'Final Fantasy VII: Last Order']"
      ]
     },
     "execution_count": 13,
     "metadata": {},
     "output_type": "execute_result"
    }
   ],
   "source": [
    "get_top_n_recommendations(get_anime_id(get_user_preferred(\"Wolf's Rain\")), rank_df, sim_mat, n=25)"
   ]
  },
  {
   "cell_type": "code",
   "execution_count": 64,
   "metadata": {},
   "outputs": [
    {
     "data": {
      "text/plain": [
       "97986"
      ]
     },
     "execution_count": 64,
     "metadata": {},
     "output_type": "execute_result"
    }
   ],
   "source": [
    "get_anime_id('Made in Abyss')"
   ]
  },
  {
   "cell_type": "code",
   "execution_count": 37,
   "metadata": {},
   "outputs": [
    {
     "data": {
      "text/plain": [
       "{'adventure',\n",
       " 'amnesia',\n",
       " 'body_horror',\n",
       " 'chibi',\n",
       " 'drama',\n",
       " 'dungeon',\n",
       " 'fantasy',\n",
       " 'female_protagonist',\n",
       " 'gore',\n",
       " 'lost_civilization',\n",
       " 'monster_girl',\n",
       " 'mystery',\n",
       " 'primarily_child_cast',\n",
       " 'robots',\n",
       " 'sci_fi',\n",
       " 'seinen',\n",
       " 'survival',\n",
       " 'tragedy'}"
      ]
     },
     "execution_count": 37,
     "metadata": {},
     "output_type": "execute_result"
    }
   ],
   "source": [
    "view_features_from_id(get_anime_id('Made in Abyss'), rank_df)"
   ]
  },
  {
   "cell_type": "code",
   "execution_count": 38,
   "metadata": {},
   "outputs": [
    {
     "data": {
      "text/plain": [
       "{'action',\n",
       " 'adventure',\n",
       " 'animals',\n",
       " 'drama',\n",
       " 'dystopian',\n",
       " 'fantasy',\n",
       " 'mystery',\n",
       " 'post_apocalyptic',\n",
       " 'primarily_adult_cast',\n",
       " 'sci_fi',\n",
       " 'survival',\n",
       " 'tragedy',\n",
       " 'werewolf'}"
      ]
     },
     "execution_count": 38,
     "metadata": {},
     "output_type": "execute_result"
    }
   ],
   "source": [
    "view_features_from_id(get_anime_id(\"Wolf's Rain\"), rank_df)"
   ]
  },
  {
   "cell_type": "code",
   "execution_count": null,
   "metadata": {},
   "outputs": [],
   "source": []
  },
  {
   "cell_type": "code",
   "execution_count": null,
   "metadata": {},
   "outputs": [],
   "source": []
  },
  {
   "cell_type": "code",
   "execution_count": null,
   "metadata": {},
   "outputs": [],
   "source": [
    "# list of titles to list of ids\n",
    "title_list = [\"Wolf's Rain\"]\n",
    "id_list = []\n",
    "for title in title_list:\n",
    "    user_preferred_title = get_user_preferred(title)\n",
    "    id_list.append(get_anime_id(user_preferred_title))\n",
    "    print(user_preferred_title)"
   ]
  },
  {
   "cell_type": "code",
   "execution_count": null,
   "metadata": {
    "scrolled": true
   },
   "outputs": [],
   "source": [
    "rank_df.loc[id_list,:]"
   ]
  },
  {
   "cell_type": "code",
   "execution_count": null,
   "metadata": {
    "scrolled": true
   },
   "outputs": [],
   "source": [
    "# get the mean vector for a list of anime\n",
    "mean_vector = rank_df.loc[id_list,:].mean(axis=0)\n",
    "mean_vector"
   ]
  },
  {
   "cell_type": "code",
   "execution_count": null,
   "metadata": {},
   "outputs": [],
   "source": [
    "# measure the cosine similarity between our mean vector and every item in our dataset\n",
    "dist_list = []\n",
    "for anime in rank_df.iterrows():\n",
    "    dist_list.append(cosine(mean_vector, anime[1]))\n",
    "dist_series = pd.Series(dist_list, index=rank_df.index)"
   ]
  },
  {
   "cell_type": "code",
   "execution_count": null,
   "metadata": {},
   "outputs": [],
   "source": [
    "dist_series"
   ]
  },
  {
   "cell_type": "code",
   "execution_count": null,
   "metadata": {
    "scrolled": true
   },
   "outputs": [],
   "source": [
    "title_list"
   ]
  },
  {
   "cell_type": "code",
   "execution_count": null,
   "metadata": {
    "scrolled": true
   },
   "outputs": [],
   "source": [
    "# USING AVERAGE FEATURE VECTOR TO FIND MOST SIMILAR ELEMENTS IN A SIMILARITY MATRIX\n",
    "# get the titles for our ids\n",
    "for num, _id in enumerate(list(dist_series.sort_values()[:30].index)):\n",
    "    print(num+1, get_title_from_id(_id))"
   ]
  },
  {
   "cell_type": "code",
   "execution_count": null,
   "metadata": {},
   "outputs": [],
   "source": []
  }
 ],
 "metadata": {
  "kernelspec": {
   "display_name": "Python 3",
   "language": "python",
   "name": "python3"
  },
  "language_info": {
   "codemirror_mode": {
    "name": "ipython",
    "version": 3
   },
   "file_extension": ".py",
   "mimetype": "text/x-python",
   "name": "python",
   "nbconvert_exporter": "python",
   "pygments_lexer": "ipython3",
   "version": "3.7.7"
  }
 },
 "nbformat": 4,
 "nbformat_minor": 4
}

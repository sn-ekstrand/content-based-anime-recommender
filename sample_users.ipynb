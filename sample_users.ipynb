{
 "cells": [
  {
   "cell_type": "code",
   "execution_count": 17,
   "metadata": {},
   "outputs": [],
   "source": [
    "import pandas as pd\n",
    "import numpy as np\n",
    "\n",
    "import matplotlib.pyplot as plt\n",
    "import seaborn as sns\n",
    "import pprint as pp\n",
    "\n",
    "import requests\n",
    "import json\n",
    "from difflib import get_close_matches\n",
    "from difflib import SequenceMatcher\n",
    "\n",
    "from sklearn.metrics.pairwise import cosine_similarity\n",
    "from sklearn.metrics.pairwise import pairwise_distances\n",
    "\n",
    "from scipy.spatial.distance import cosine\n",
    "\n",
    "plt.style.use('seaborn')"
   ]
  },
  {
   "cell_type": "code",
   "execution_count": 2,
   "metadata": {},
   "outputs": [],
   "source": [
    "genres_item_matrix = pd.read_csv('data/genres_item_matrix.csv', index_col='id')\n",
    "tag_item_matrix = pd.read_csv('data/tag_item_matrix.csv', index_col='id')\n",
    "tag_rank_item_matrix = pd.read_csv('data/tag_rank_item_matrix.csv', index_col='id')\n",
    "title_df = pd.read_csv('data/title_df.csv', index_col='id')\n",
    "adjusted_score_df = pd.read_csv('data/adjusted_score_df.csv', index_col='id')"
   ]
  },
  {
   "cell_type": "code",
   "execution_count": 3,
   "metadata": {},
   "outputs": [
    {
     "data": {
      "text/html": [
       "<div>\n",
       "<style scoped>\n",
       "    .dataframe tbody tr th:only-of-type {\n",
       "        vertical-align: middle;\n",
       "    }\n",
       "\n",
       "    .dataframe tbody tr th {\n",
       "        vertical-align: top;\n",
       "    }\n",
       "\n",
       "    .dataframe thead th {\n",
       "        text-align: right;\n",
       "    }\n",
       "</style>\n",
       "<table border=\"1\" class=\"dataframe\">\n",
       "  <thead>\n",
       "    <tr style=\"text-align: right;\">\n",
       "      <th></th>\n",
       "      <th>action</th>\n",
       "      <th>adventure</th>\n",
       "      <th>comedy</th>\n",
       "      <th>drama</th>\n",
       "      <th>ecchi</th>\n",
       "      <th>fantasy</th>\n",
       "      <th>horror</th>\n",
       "      <th>mahou_shoujo</th>\n",
       "      <th>mecha</th>\n",
       "      <th>music</th>\n",
       "      <th>...</th>\n",
       "      <th>witch</th>\n",
       "      <th>work</th>\n",
       "      <th>wrestling</th>\n",
       "      <th>writing</th>\n",
       "      <th>wuxia</th>\n",
       "      <th>yakuza</th>\n",
       "      <th>yandere</th>\n",
       "      <th>youkai</th>\n",
       "      <th>yuri</th>\n",
       "      <th>zombie</th>\n",
       "    </tr>\n",
       "    <tr>\n",
       "      <th>id</th>\n",
       "      <th></th>\n",
       "      <th></th>\n",
       "      <th></th>\n",
       "      <th></th>\n",
       "      <th></th>\n",
       "      <th></th>\n",
       "      <th></th>\n",
       "      <th></th>\n",
       "      <th></th>\n",
       "      <th></th>\n",
       "      <th></th>\n",
       "      <th></th>\n",
       "      <th></th>\n",
       "      <th></th>\n",
       "      <th></th>\n",
       "      <th></th>\n",
       "      <th></th>\n",
       "      <th></th>\n",
       "      <th></th>\n",
       "      <th></th>\n",
       "      <th></th>\n",
       "    </tr>\n",
       "  </thead>\n",
       "  <tbody>\n",
       "    <tr>\n",
       "      <th>10161</th>\n",
       "      <td>1</td>\n",
       "      <td>0</td>\n",
       "      <td>0</td>\n",
       "      <td>1</td>\n",
       "      <td>0</td>\n",
       "      <td>0</td>\n",
       "      <td>0</td>\n",
       "      <td>0</td>\n",
       "      <td>0</td>\n",
       "      <td>0</td>\n",
       "      <td>...</td>\n",
       "      <td>0</td>\n",
       "      <td>0</td>\n",
       "      <td>0</td>\n",
       "      <td>0</td>\n",
       "      <td>0</td>\n",
       "      <td>0</td>\n",
       "      <td>1</td>\n",
       "      <td>0</td>\n",
       "      <td>0</td>\n",
       "      <td>0</td>\n",
       "    </tr>\n",
       "    <tr>\n",
       "      <th>99726</th>\n",
       "      <td>0</td>\n",
       "      <td>1</td>\n",
       "      <td>1</td>\n",
       "      <td>0</td>\n",
       "      <td>0</td>\n",
       "      <td>1</td>\n",
       "      <td>0</td>\n",
       "      <td>0</td>\n",
       "      <td>0</td>\n",
       "      <td>0</td>\n",
       "      <td>...</td>\n",
       "      <td>0</td>\n",
       "      <td>0</td>\n",
       "      <td>0</td>\n",
       "      <td>0</td>\n",
       "      <td>0</td>\n",
       "      <td>0</td>\n",
       "      <td>0</td>\n",
       "      <td>0</td>\n",
       "      <td>0</td>\n",
       "      <td>0</td>\n",
       "    </tr>\n",
       "    <tr>\n",
       "      <th>98526</th>\n",
       "      <td>1</td>\n",
       "      <td>0</td>\n",
       "      <td>0</td>\n",
       "      <td>1</td>\n",
       "      <td>0</td>\n",
       "      <td>0</td>\n",
       "      <td>0</td>\n",
       "      <td>0</td>\n",
       "      <td>0</td>\n",
       "      <td>0</td>\n",
       "      <td>...</td>\n",
       "      <td>0</td>\n",
       "      <td>0</td>\n",
       "      <td>0</td>\n",
       "      <td>0</td>\n",
       "      <td>0</td>\n",
       "      <td>0</td>\n",
       "      <td>0</td>\n",
       "      <td>0</td>\n",
       "      <td>0</td>\n",
       "      <td>0</td>\n",
       "    </tr>\n",
       "    <tr>\n",
       "      <th>966</th>\n",
       "      <td>0</td>\n",
       "      <td>0</td>\n",
       "      <td>1</td>\n",
       "      <td>0</td>\n",
       "      <td>1</td>\n",
       "      <td>0</td>\n",
       "      <td>0</td>\n",
       "      <td>0</td>\n",
       "      <td>0</td>\n",
       "      <td>0</td>\n",
       "      <td>...</td>\n",
       "      <td>0</td>\n",
       "      <td>0</td>\n",
       "      <td>0</td>\n",
       "      <td>0</td>\n",
       "      <td>0</td>\n",
       "      <td>0</td>\n",
       "      <td>0</td>\n",
       "      <td>0</td>\n",
       "      <td>0</td>\n",
       "      <td>0</td>\n",
       "    </tr>\n",
       "    <tr>\n",
       "      <th>4876</th>\n",
       "      <td>1</td>\n",
       "      <td>1</td>\n",
       "      <td>0</td>\n",
       "      <td>1</td>\n",
       "      <td>0</td>\n",
       "      <td>0</td>\n",
       "      <td>0</td>\n",
       "      <td>0</td>\n",
       "      <td>0</td>\n",
       "      <td>0</td>\n",
       "      <td>...</td>\n",
       "      <td>0</td>\n",
       "      <td>0</td>\n",
       "      <td>0</td>\n",
       "      <td>0</td>\n",
       "      <td>0</td>\n",
       "      <td>0</td>\n",
       "      <td>0</td>\n",
       "      <td>0</td>\n",
       "      <td>0</td>\n",
       "      <td>0</td>\n",
       "    </tr>\n",
       "  </tbody>\n",
       "</table>\n",
       "<p>5 rows × 265 columns</p>\n",
       "</div>"
      ],
      "text/plain": [
       "       action  adventure  comedy  drama  ecchi  fantasy  horror  mahou_shoujo  \\\n",
       "id                                                                              \n",
       "10161       1          0       0      1      0        0       0             0   \n",
       "99726       0          1       1      0      0        1       0             0   \n",
       "98526       1          0       0      1      0        0       0             0   \n",
       "966         0          0       1      0      1        0       0             0   \n",
       "4876        1          1       0      1      0        0       0             0   \n",
       "\n",
       "       mecha  music  ...  witch  work  wrestling  writing  wuxia  yakuza  \\\n",
       "id                   ...                                                   \n",
       "10161      0      0  ...      0     0          0        0      0       0   \n",
       "99726      0      0  ...      0     0          0        0      0       0   \n",
       "98526      0      0  ...      0     0          0        0      0       0   \n",
       "966        0      0  ...      0     0          0        0      0       0   \n",
       "4876       0      0  ...      0     0          0        0      0       0   \n",
       "\n",
       "       yandere  youkai  yuri  zombie  \n",
       "id                                    \n",
       "10161        1       0     0       0  \n",
       "99726        0       0     0       0  \n",
       "98526        0       0     0       0  \n",
       "966          0       0     0       0  \n",
       "4876         0       0     0       0  \n",
       "\n",
       "[5 rows x 265 columns]"
      ]
     },
     "execution_count": 3,
     "metadata": {},
     "output_type": "execute_result"
    }
   ],
   "source": [
    "binary_df = pd.concat([genres_item_matrix, tag_item_matrix], axis=1)\n",
    "binary_df.head()"
   ]
  },
  {
   "cell_type": "code",
   "execution_count": 5,
   "metadata": {},
   "outputs": [],
   "source": [
    "def get_anime_id(_user_preferred_title):\n",
    "    id_list = []\n",
    "    anime_id = title_df[title_df['userPreferred'].isin([_user_preferred_title])].index\n",
    "    id_list.append(anime_id)\n",
    "    \n",
    "    return id_list[0].values[0]\n",
    "\n",
    "\n",
    "def get_top_n_recommendations(anime_id, dataframe, similarity_matrix, n=5):\n",
    "    positional_idx = dataframe.index.get_loc(anime_id)\n",
    "    \n",
    "    top_n = np.argsort(similarity_matrix[positional_idx,:])[-n-1:-1]\n",
    "    recom_titles = []\n",
    "    for idx, row in title_df.iloc[top_n,:].iterrows():\n",
    "        if type(row['english']) != float:\n",
    "            recom_titles.append(row['english'])\n",
    "        else:\n",
    "            recom_titles.append(row['userPreferred'])\n",
    "    \n",
    "    return recom_titles\n",
    "\n",
    "\n",
    "        \n",
    "def get_title_from_id(_id):\n",
    "    '''Searches the title dataframe based on an anime id and tries to return the english title. \n",
    "    If an english title is not available, the \"user preferred\" is give. '''\n",
    "    title = None\n",
    "    if pd.isna(title_df.loc[title_df.index == _id, 'english']).values[0]:\n",
    "        title = title_df.loc[title_df.index == _id, 'userPreferred'].values[0]\n",
    "    else:\n",
    "        title = title_df.loc[title_df.index == _id, 'english'].values[0]\n",
    "    \n",
    "    return title\n",
    "\n",
    "\n",
    "def get_user_preferred(initial_search):\n",
    "    '''Search the AniList API for a show based on a query.\n",
    "    \n",
    "    Returns the user preferred title \n",
    "    '''\n",
    "    query = '''\n",
    "    query ($search: String) {\n",
    "      Media (type: ANIME, search: $search) {\n",
    "        id\n",
    "        title {\n",
    "          romaji\n",
    "          english\n",
    "          native\n",
    "          userPreferred\n",
    "        }\n",
    "      }\n",
    "    }\n",
    "    '''\n",
    "    variables = {'search': initial_search}\n",
    "\n",
    "    url = 'https://graphql.anilist.co'\n",
    "    response = requests.post(url, \n",
    "                             json={'query': query, \n",
    "                                   'variables': variables})\n",
    "    user_preferred_title = response.json()['data']['Media']['title']['userPreferred']\n",
    "\n",
    "    return user_preferred_title\n",
    "\n",
    "\n",
    "def view_features(search_term, df):\n",
    "    _id = title_df[title_df['userPreferred'] == search_term].index\n",
    "    _df = df.loc[_id,:]\n",
    "\n",
    "    return list(_df.loc[:, (_df != 0).any(axis=0)].columns)\n",
    "\n",
    "\n",
    "\n",
    "def view_features_from_id(_id, _df):\n",
    "    single_show = _df.loc[_id,:]\n",
    "    \n",
    "    return set(single_show[single_show != 0].index)\n",
    "\n",
    "\n",
    "\n",
    "def get_common_tags(list_of_ids):\n",
    "    list_of_tags = [view_features_from_id(_id, binary_df) for _id in list_of_ids]\n",
    "\n",
    "    return set.intersection(*list_of_tags)"
   ]
  },
  {
   "cell_type": "code",
   "execution_count": 45,
   "metadata": {},
   "outputs": [],
   "source": [
    "def get_recommendations(search_term, similarity_matrix=sim_mat):\n",
    "    user_preferred_title = get_user_preferred(search_term)\n",
    "    _id = get_anime_id(user_preferred_title)\n",
    "    print('Getting recommendations for: ', get_title_from_id(_id))\n",
    "    rec_list = get_top_n_recommendations(_id, \n",
    "                                         rank_df, \n",
    "                                         similarity_matrix, \n",
    "                                         n=5)\n",
    "    return rec_list\n",
    "\n"
   ]
  },
  {
   "cell_type": "code",
   "execution_count": 6,
   "metadata": {},
   "outputs": [
    {
     "data": {
      "text/html": [
       "<div>\n",
       "<style scoped>\n",
       "    .dataframe tbody tr th:only-of-type {\n",
       "        vertical-align: middle;\n",
       "    }\n",
       "\n",
       "    .dataframe tbody tr th {\n",
       "        vertical-align: top;\n",
       "    }\n",
       "\n",
       "    .dataframe thead th {\n",
       "        text-align: right;\n",
       "    }\n",
       "</style>\n",
       "<table border=\"1\" class=\"dataframe\">\n",
       "  <thead>\n",
       "    <tr style=\"text-align: right;\">\n",
       "      <th></th>\n",
       "      <th>action</th>\n",
       "      <th>adventure</th>\n",
       "      <th>comedy</th>\n",
       "      <th>drama</th>\n",
       "      <th>ecchi</th>\n",
       "      <th>fantasy</th>\n",
       "      <th>horror</th>\n",
       "      <th>mahou_shoujo</th>\n",
       "      <th>mecha</th>\n",
       "      <th>music</th>\n",
       "      <th>...</th>\n",
       "      <th>witch</th>\n",
       "      <th>work</th>\n",
       "      <th>wrestling</th>\n",
       "      <th>writing</th>\n",
       "      <th>wuxia</th>\n",
       "      <th>yakuza</th>\n",
       "      <th>yandere</th>\n",
       "      <th>youkai</th>\n",
       "      <th>yuri</th>\n",
       "      <th>zombie</th>\n",
       "    </tr>\n",
       "    <tr>\n",
       "      <th>id</th>\n",
       "      <th></th>\n",
       "      <th></th>\n",
       "      <th></th>\n",
       "      <th></th>\n",
       "      <th></th>\n",
       "      <th></th>\n",
       "      <th></th>\n",
       "      <th></th>\n",
       "      <th></th>\n",
       "      <th></th>\n",
       "      <th></th>\n",
       "      <th></th>\n",
       "      <th></th>\n",
       "      <th></th>\n",
       "      <th></th>\n",
       "      <th></th>\n",
       "      <th></th>\n",
       "      <th></th>\n",
       "      <th></th>\n",
       "      <th></th>\n",
       "      <th></th>\n",
       "    </tr>\n",
       "  </thead>\n",
       "  <tbody>\n",
       "    <tr>\n",
       "      <th>10161</th>\n",
       "      <td>1</td>\n",
       "      <td>0</td>\n",
       "      <td>0</td>\n",
       "      <td>1</td>\n",
       "      <td>0</td>\n",
       "      <td>0</td>\n",
       "      <td>0</td>\n",
       "      <td>0</td>\n",
       "      <td>0</td>\n",
       "      <td>0</td>\n",
       "      <td>...</td>\n",
       "      <td>0.0</td>\n",
       "      <td>0.0</td>\n",
       "      <td>0.0</td>\n",
       "      <td>0.0</td>\n",
       "      <td>0.0</td>\n",
       "      <td>0.0</td>\n",
       "      <td>0.44</td>\n",
       "      <td>0.0</td>\n",
       "      <td>0.0</td>\n",
       "      <td>0.0</td>\n",
       "    </tr>\n",
       "    <tr>\n",
       "      <th>99726</th>\n",
       "      <td>0</td>\n",
       "      <td>1</td>\n",
       "      <td>1</td>\n",
       "      <td>0</td>\n",
       "      <td>0</td>\n",
       "      <td>1</td>\n",
       "      <td>0</td>\n",
       "      <td>0</td>\n",
       "      <td>0</td>\n",
       "      <td>0</td>\n",
       "      <td>...</td>\n",
       "      <td>0.0</td>\n",
       "      <td>0.0</td>\n",
       "      <td>0.0</td>\n",
       "      <td>0.0</td>\n",
       "      <td>0.0</td>\n",
       "      <td>0.0</td>\n",
       "      <td>0.00</td>\n",
       "      <td>0.0</td>\n",
       "      <td>0.0</td>\n",
       "      <td>0.0</td>\n",
       "    </tr>\n",
       "    <tr>\n",
       "      <th>98526</th>\n",
       "      <td>1</td>\n",
       "      <td>0</td>\n",
       "      <td>0</td>\n",
       "      <td>1</td>\n",
       "      <td>0</td>\n",
       "      <td>0</td>\n",
       "      <td>0</td>\n",
       "      <td>0</td>\n",
       "      <td>0</td>\n",
       "      <td>0</td>\n",
       "      <td>...</td>\n",
       "      <td>0.0</td>\n",
       "      <td>0.0</td>\n",
       "      <td>0.0</td>\n",
       "      <td>0.0</td>\n",
       "      <td>0.0</td>\n",
       "      <td>0.0</td>\n",
       "      <td>0.00</td>\n",
       "      <td>0.0</td>\n",
       "      <td>0.0</td>\n",
       "      <td>0.0</td>\n",
       "    </tr>\n",
       "    <tr>\n",
       "      <th>966</th>\n",
       "      <td>0</td>\n",
       "      <td>0</td>\n",
       "      <td>1</td>\n",
       "      <td>0</td>\n",
       "      <td>1</td>\n",
       "      <td>0</td>\n",
       "      <td>0</td>\n",
       "      <td>0</td>\n",
       "      <td>0</td>\n",
       "      <td>0</td>\n",
       "      <td>...</td>\n",
       "      <td>0.0</td>\n",
       "      <td>0.0</td>\n",
       "      <td>0.0</td>\n",
       "      <td>0.0</td>\n",
       "      <td>0.0</td>\n",
       "      <td>0.0</td>\n",
       "      <td>0.00</td>\n",
       "      <td>0.0</td>\n",
       "      <td>0.0</td>\n",
       "      <td>0.0</td>\n",
       "    </tr>\n",
       "    <tr>\n",
       "      <th>4876</th>\n",
       "      <td>1</td>\n",
       "      <td>1</td>\n",
       "      <td>0</td>\n",
       "      <td>1</td>\n",
       "      <td>0</td>\n",
       "      <td>0</td>\n",
       "      <td>0</td>\n",
       "      <td>0</td>\n",
       "      <td>0</td>\n",
       "      <td>0</td>\n",
       "      <td>...</td>\n",
       "      <td>0.0</td>\n",
       "      <td>0.0</td>\n",
       "      <td>0.0</td>\n",
       "      <td>0.0</td>\n",
       "      <td>0.0</td>\n",
       "      <td>0.0</td>\n",
       "      <td>0.00</td>\n",
       "      <td>0.0</td>\n",
       "      <td>0.0</td>\n",
       "      <td>0.0</td>\n",
       "    </tr>\n",
       "  </tbody>\n",
       "</table>\n",
       "<p>5 rows × 265 columns</p>\n",
       "</div>"
      ],
      "text/plain": [
       "       action  adventure  comedy  drama  ecchi  fantasy  horror  mahou_shoujo  \\\n",
       "id                                                                              \n",
       "10161       1          0       0      1      0        0       0             0   \n",
       "99726       0          1       1      0      0        1       0             0   \n",
       "98526       1          0       0      1      0        0       0             0   \n",
       "966         0          0       1      0      1        0       0             0   \n",
       "4876        1          1       0      1      0        0       0             0   \n",
       "\n",
       "       mecha  music  ...  witch  work  wrestling  writing  wuxia  yakuza  \\\n",
       "id                   ...                                                   \n",
       "10161      0      0  ...    0.0   0.0        0.0      0.0    0.0     0.0   \n",
       "99726      0      0  ...    0.0   0.0        0.0      0.0    0.0     0.0   \n",
       "98526      0      0  ...    0.0   0.0        0.0      0.0    0.0     0.0   \n",
       "966        0      0  ...    0.0   0.0        0.0      0.0    0.0     0.0   \n",
       "4876       0      0  ...    0.0   0.0        0.0      0.0    0.0     0.0   \n",
       "\n",
       "       yandere  youkai  yuri  zombie  \n",
       "id                                    \n",
       "10161     0.44     0.0   0.0     0.0  \n",
       "99726     0.00     0.0   0.0     0.0  \n",
       "98526     0.00     0.0   0.0     0.0  \n",
       "966       0.00     0.0   0.0     0.0  \n",
       "4876      0.00     0.0   0.0     0.0  \n",
       "\n",
       "[5 rows x 265 columns]"
      ]
     },
     "execution_count": 6,
     "metadata": {},
     "output_type": "execute_result"
    }
   ],
   "source": [
    "rank_df = pd.concat([genres_item_matrix, tag_rank_item_matrix], axis=1)\n",
    "rank_df.head()"
   ]
  },
  {
   "cell_type": "code",
   "execution_count": 9,
   "metadata": {},
   "outputs": [],
   "source": [
    "sim_mat = cosine_similarity(rank_df.values)"
   ]
  },
  {
   "cell_type": "code",
   "execution_count": 11,
   "metadata": {},
   "outputs": [
    {
     "name": "stdout",
     "output_type": "stream",
     "text": [
      "Getting recommendations for:  Akira\n"
     ]
    },
    {
     "data": {
      "text/plain": [
       "['Blame! Movie',\n",
       " 'X Densha de Ikou',\n",
       " 'Genocyber',\n",
       " 'Texhnolyze',\n",
       " 'Towanoquon: The Complicity of Dreams']"
      ]
     },
     "execution_count": 11,
     "metadata": {},
     "output_type": "execute_result"
    }
   ],
   "source": [
    "get_recommendations(\"Akira\")"
   ]
  },
  {
   "cell_type": "code",
   "execution_count": 12,
   "metadata": {},
   "outputs": [
    {
     "name": "stdout",
     "output_type": "stream",
     "text": [
      "Getting recommendations for:  Fullmetal Alchemist: Brotherhood\n"
     ]
    },
    {
     "data": {
      "text/plain": [
       "['Fullmetal Alchemist: The Sacred Star of Milos',\n",
       " 'Plunderer',\n",
       " 'Fullmetal Alchemist: Reflections',\n",
       " 'The Heroic Legend of Arslan',\n",
       " 'Fullmetal Alchemist']"
      ]
     },
     "execution_count": 12,
     "metadata": {},
     "output_type": "execute_result"
    }
   ],
   "source": [
    "get_recommendations('Fullmetal')"
   ]
  },
  {
   "cell_type": "code",
   "execution_count": null,
   "metadata": {},
   "outputs": [],
   "source": []
  },
  {
   "cell_type": "markdown",
   "metadata": {},
   "source": [
    "## Penalizing Lowly Rated Content"
   ]
  },
  {
   "cell_type": "code",
   "execution_count": 40,
   "metadata": {},
   "outputs": [
    {
     "data": {
      "text/html": [
       "<div>\n",
       "<style scoped>\n",
       "    .dataframe tbody tr th:only-of-type {\n",
       "        vertical-align: middle;\n",
       "    }\n",
       "\n",
       "    .dataframe tbody tr th {\n",
       "        vertical-align: top;\n",
       "    }\n",
       "\n",
       "    .dataframe thead th {\n",
       "        text-align: right;\n",
       "    }\n",
       "</style>\n",
       "<table border=\"1\" class=\"dataframe\">\n",
       "  <thead>\n",
       "    <tr style=\"text-align: right;\">\n",
       "      <th></th>\n",
       "      <th>pop_scaled</th>\n",
       "      <th>score_scaled</th>\n",
       "      <th>adjusted_score</th>\n",
       "    </tr>\n",
       "    <tr>\n",
       "      <th>id</th>\n",
       "      <th></th>\n",
       "      <th></th>\n",
       "      <th></th>\n",
       "    </tr>\n",
       "  </thead>\n",
       "  <tbody>\n",
       "    <tr>\n",
       "      <th>10161</th>\n",
       "      <td>0.158971</td>\n",
       "      <td>0.71</td>\n",
       "      <td>0.650287</td>\n",
       "    </tr>\n",
       "    <tr>\n",
       "      <th>99726</th>\n",
       "      <td>0.239225</td>\n",
       "      <td>0.75</td>\n",
       "      <td>0.692942</td>\n",
       "    </tr>\n",
       "    <tr>\n",
       "      <th>98526</th>\n",
       "      <td>0.010887</td>\n",
       "      <td>0.58</td>\n",
       "      <td>0.522631</td>\n",
       "    </tr>\n",
       "    <tr>\n",
       "      <th>966</th>\n",
       "      <td>0.026901</td>\n",
       "      <td>0.73</td>\n",
       "      <td>0.658964</td>\n",
       "    </tr>\n",
       "    <tr>\n",
       "      <th>4876</th>\n",
       "      <td>0.005242</td>\n",
       "      <td>0.61</td>\n",
       "      <td>0.549320</td>\n",
       "    </tr>\n",
       "  </tbody>\n",
       "</table>\n",
       "</div>"
      ],
      "text/plain": [
       "       pop_scaled  score_scaled  adjusted_score\n",
       "id                                             \n",
       "10161    0.158971          0.71        0.650287\n",
       "99726    0.239225          0.75        0.692942\n",
       "98526    0.010887          0.58        0.522631\n",
       "966      0.026901          0.73        0.658964\n",
       "4876     0.005242          0.61        0.549320"
      ]
     },
     "execution_count": 40,
     "metadata": {},
     "output_type": "execute_result"
    }
   ],
   "source": [
    "adjusted_score_df.head()"
   ]
  },
  {
   "cell_type": "code",
   "execution_count": 42,
   "metadata": {},
   "outputs": [
    {
     "data": {
      "text/plain": [
       "id\n",
       "10161     0.965029\n",
       "99726     0.969294\n",
       "98526     0.952263\n",
       "966       0.965896\n",
       "4876      0.954932\n",
       "            ...   \n",
       "99586     0.959066\n",
       "99916     0.968809\n",
       "101283    0.961290\n",
       "101633    0.966854\n",
       "101089    0.900000\n",
       "Name: adjusted_score, Length: 9832, dtype: float64"
      ]
     },
     "execution_count": 42,
     "metadata": {},
     "output_type": "execute_result"
    }
   ],
   "source": [
    "a = .1\n",
    "adjusted_scores = ((adjusted_score_df['adjusted_score'] * a) + .9)\n",
    "adjusted_scores"
   ]
  },
  {
   "cell_type": "code",
   "execution_count": 21,
   "metadata": {},
   "outputs": [
    {
     "data": {
      "text/plain": [
       "array([[1.        , 0.        , 0.50399334, ..., 0.        , 0.15144281,\n",
       "        0.        ],\n",
       "       [0.        , 1.        , 0.        , ..., 0.05894477, 0.23248034,\n",
       "        0.35867658],\n",
       "       [0.50399334, 0.        , 1.        , ..., 0.        , 0.21774329,\n",
       "        0.        ],\n",
       "       ...,\n",
       "       [0.        , 0.05894477, 0.        , ..., 1.        , 0.        ,\n",
       "        0.04412823],\n",
       "       [0.15144281, 0.23248034, 0.21774329, ..., 0.        , 1.        ,\n",
       "        0.34808671],\n",
       "       [0.        , 0.35867658, 0.        , ..., 0.04412823, 0.34808671,\n",
       "        1.        ]])"
      ]
     },
     "execution_count": 21,
     "metadata": {},
     "output_type": "execute_result"
    }
   ],
   "source": [
    "sim_mat"
   ]
  },
  {
   "cell_type": "code",
   "execution_count": 44,
   "metadata": {},
   "outputs": [
    {
     "data": {
      "text/plain": [
       "array([[0.96502869, 0.        , 0.47993428, ..., 0.        , 0.14642307,\n",
       "        0.        ],\n",
       "       [0.        , 0.96929419, 0.        , ..., 0.05666303, 0.22477452,\n",
       "        0.32280893],\n",
       "       [0.48636803, 0.        , 0.95226315, ..., 0.        , 0.21052595,\n",
       "        0.        ],\n",
       "       ...,\n",
       "       [0.        , 0.05713483, 0.        , ..., 0.96129011, 0.        ,\n",
       "        0.03971541],\n",
       "       [0.14614666, 0.22534184, 0.20734891, ..., 0.        , 0.96685389,\n",
       "        0.31327804],\n",
       "       [0.        , 0.34766313, 0.        , ..., 0.04242003, 0.33654899,\n",
       "        0.9       ]])"
      ]
     },
     "execution_count": 44,
     "metadata": {},
     "output_type": "execute_result"
    }
   ],
   "source": [
    "weighted_sim_mat = (sim_mat * adjusted_scores.to_numpy())\n",
    "weighted_sim_mat"
   ]
  },
  {
   "cell_type": "code",
   "execution_count": 46,
   "metadata": {},
   "outputs": [
    {
     "name": "stdout",
     "output_type": "stream",
     "text": [
      "Getting recommendations for:  Fullmetal Alchemist: Brotherhood\n"
     ]
    },
    {
     "data": {
      "text/plain": [
       "['Fullmetal Alchemist: The Sacred Star of Milos',\n",
       " 'Plunderer',\n",
       " 'Fullmetal Alchemist: Reflections',\n",
       " 'The Heroic Legend of Arslan',\n",
       " 'Fullmetal Alchemist']"
      ]
     },
     "execution_count": 46,
     "metadata": {},
     "output_type": "execute_result"
    }
   ],
   "source": [
    "get_recommendations('Fullmetal')"
   ]
  },
  {
   "cell_type": "code",
   "execution_count": 47,
   "metadata": {},
   "outputs": [
    {
     "name": "stdout",
     "output_type": "stream",
     "text": [
      "Getting recommendations for:  Fullmetal Alchemist: Brotherhood\n"
     ]
    },
    {
     "data": {
      "text/plain": [
       "['Fullmetal Alchemist: The Sacred Star of Milos',\n",
       " 'Fullmetal Alchemist: Reflections',\n",
       " 'Magi: The Kingdom of Magic',\n",
       " 'The Heroic Legend of Arslan',\n",
       " 'Fullmetal Alchemist']"
      ]
     },
     "execution_count": 47,
     "metadata": {},
     "output_type": "execute_result"
    }
   ],
   "source": [
    "get_recommendations('Fullmetal', weighted_sim_mat)"
   ]
  },
  {
   "cell_type": "code",
   "execution_count": 48,
   "metadata": {},
   "outputs": [
    {
     "name": "stdout",
     "output_type": "stream",
     "text": [
      "Getting recommendations for:  Wolf's Rain\n"
     ]
    },
    {
     "data": {
      "text/plain": [
       "['Wan Wan Chuushingura',\n",
       " \"Wolf's Rain OVA\",\n",
       " 'Galilei Donna',\n",
       " 'Jyu-Oh-Sei: Planet of the Beast King',\n",
       " 'Final Fantasy VII: Last Order']"
      ]
     },
     "execution_count": 48,
     "metadata": {},
     "output_type": "execute_result"
    }
   ],
   "source": [
    "get_recommendations(\"Wolf's Rain\")"
   ]
  },
  {
   "cell_type": "code",
   "execution_count": 49,
   "metadata": {},
   "outputs": [
    {
     "name": "stdout",
     "output_type": "stream",
     "text": [
      "Getting recommendations for:  Wolf's Rain\n"
     ]
    },
    {
     "data": {
      "text/plain": [
       "['Kingsglaive Final Fantasy XV',\n",
       " \"Wolf's Rain OVA\",\n",
       " 'Galilei Donna',\n",
       " 'Jyu-Oh-Sei: Planet of the Beast King',\n",
       " 'Final Fantasy VII: Last Order']"
      ]
     },
     "execution_count": 49,
     "metadata": {},
     "output_type": "execute_result"
    }
   ],
   "source": [
    "get_recommendations(\"Wolf's Rain\", weighted_sim_mat)"
   ]
  },
  {
   "cell_type": "markdown",
   "metadata": {},
   "source": [
    "<b> There we go! \"Wan Wan Chuushingura\" is out while mainting the rest of the top 5. </b>"
   ]
  },
  {
   "cell_type": "code",
   "execution_count": null,
   "metadata": {},
   "outputs": [],
   "source": []
  },
  {
   "cell_type": "markdown",
   "metadata": {},
   "source": [
    "## Recommendations for Sample User Profiles"
   ]
  },
  {
   "cell_type": "code",
   "execution_count": null,
   "metadata": {},
   "outputs": [],
   "source": [
    "title_list = ['Tokyo Ghoul', 'Ergo Proxy', 'Fullmetal Alchemist: Brotherhood']\n",
    "id_list = []\n",
    "for title in title_list:\n",
    "    user_preferred_title = get_user_preferred(title)\n",
    "    _id = get_anime_id(user_preferred_title)\n",
    "    id_list.append(_id)\n",
    "    print(user_preferred_title, _id)"
   ]
  },
  {
   "cell_type": "code",
   "execution_count": null,
   "metadata": {},
   "outputs": [],
   "source": [
    "df_rank_pca.loc[id_list,:]"
   ]
  },
  {
   "cell_type": "code",
   "execution_count": null,
   "metadata": {},
   "outputs": [],
   "source": [
    "# get the mean vector for a list of anime\n",
    "mean_vector = df_rank_pca.loc[id_list,:].mean(axis=0)\n",
    "mean_vector"
   ]
  },
  {
   "cell_type": "code",
   "execution_count": null,
   "metadata": {},
   "outputs": [],
   "source": [
    "# measure the cosine similarity between our mean vector and every item in our dataset\n",
    "dist_list = []\n",
    "for anime in df_rank_pca.iterrows():\n",
    "    dist_list.append(cosine(mean_vector, anime[1]))\n",
    "dist_series = pd.Series(dist_list, index=df_rank_pca.index)"
   ]
  },
  {
   "cell_type": "code",
   "execution_count": null,
   "metadata": {},
   "outputs": [],
   "source": [
    "dist_series"
   ]
  },
  {
   "cell_type": "code",
   "execution_count": null,
   "metadata": {},
   "outputs": [],
   "source": [
    "# get the ids for the 10 items closest to our mean vector\n",
    "list(dist_series.sort_values()[:10].index)"
   ]
  },
  {
   "cell_type": "code",
   "execution_count": null,
   "metadata": {},
   "outputs": [],
   "source": [
    "# exclude initial titles \n"
   ]
  },
  {
   "cell_type": "code",
   "execution_count": null,
   "metadata": {},
   "outputs": [],
   "source": [
    "# get the titles for our ids\n",
    "for _id in list(dist_series.sort_values()[:10].index):\n",
    "    print(get_title_from_id(_id))"
   ]
  },
  {
   "cell_type": "code",
   "execution_count": null,
   "metadata": {},
   "outputs": [],
   "source": []
  }
 ],
 "metadata": {
  "kernelspec": {
   "display_name": "Python 3",
   "language": "python",
   "name": "python3"
  },
  "language_info": {
   "codemirror_mode": {
    "name": "ipython",
    "version": 3
   },
   "file_extension": ".py",
   "mimetype": "text/x-python",
   "name": "python",
   "nbconvert_exporter": "python",
   "pygments_lexer": "ipython3",
   "version": "3.7.6"
  }
 },
 "nbformat": 4,
 "nbformat_minor": 4
}

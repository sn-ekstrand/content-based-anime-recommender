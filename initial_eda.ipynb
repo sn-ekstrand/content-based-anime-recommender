{
 "cells": [
  {
   "cell_type": "code",
   "execution_count": 1,
   "metadata": {},
   "outputs": [],
   "source": [
    "import pandas as pd\n",
    "import numpy as np\n",
    "\n",
    "import matplotlib.pyplot as plt\n",
    "import seaborn as sns\n",
    "from wordcloud import WordCloud\n",
    "\n",
    "import requests\n",
    "import json\n",
    "from difflib import get_close_matches\n",
    "from difflib import SequenceMatcher\n",
    "\n",
    "from sklearn.metrics.pairwise import cosine_similarity\n",
    "from sklearn.metrics.pairwise import pairwise_distances\n",
    "\n",
    "plt.style.use('seaborn')"
   ]
  },
  {
   "cell_type": "code",
   "execution_count": 3,
   "metadata": {},
   "outputs": [],
   "source": [
    "genres_item_matrix = pd.read_csv('data/genres_item_matrix.csv', index_col='id')\n",
    "tag_item_matrix = pd.read_csv('data/tag_item_matrix.csv', index_col='id')\n",
    "tag_rank_item_matrix = pd.read_csv('data/tag_rank_item_matrix.csv', index_col='id')\n",
    "title_df = pd.read_csv('data/title_df.csv', index_col='id')"
   ]
  },
  {
   "cell_type": "code",
   "execution_count": 4,
   "metadata": {},
   "outputs": [
    {
     "data": {
      "text/html": [
       "<div>\n",
       "<style scoped>\n",
       "    .dataframe tbody tr th:only-of-type {\n",
       "        vertical-align: middle;\n",
       "    }\n",
       "\n",
       "    .dataframe tbody tr th {\n",
       "        vertical-align: top;\n",
       "    }\n",
       "\n",
       "    .dataframe thead th {\n",
       "        text-align: right;\n",
       "    }\n",
       "</style>\n",
       "<table border=\"1\" class=\"dataframe\">\n",
       "  <thead>\n",
       "    <tr style=\"text-align: right;\">\n",
       "      <th></th>\n",
       "      <th>romaji</th>\n",
       "      <th>english</th>\n",
       "      <th>native</th>\n",
       "      <th>userPreferred</th>\n",
       "    </tr>\n",
       "    <tr>\n",
       "      <th>id</th>\n",
       "      <th></th>\n",
       "      <th></th>\n",
       "      <th></th>\n",
       "      <th></th>\n",
       "    </tr>\n",
       "  </thead>\n",
       "  <tbody>\n",
       "    <tr>\n",
       "      <th>10161</th>\n",
       "      <td>No.6</td>\n",
       "      <td>No.6</td>\n",
       "      <td>NO.6 ナンバー・シックス</td>\n",
       "      <td>No.6</td>\n",
       "    </tr>\n",
       "    <tr>\n",
       "      <th>99726</th>\n",
       "      <td>Net-juu no Susume</td>\n",
       "      <td>Recovery of an MMO Junkie</td>\n",
       "      <td>ネト充のススメ</td>\n",
       "      <td>Net-juu no Susume</td>\n",
       "    </tr>\n",
       "    <tr>\n",
       "      <th>98526</th>\n",
       "      <td>Robomasters The Animated Series</td>\n",
       "      <td>NaN</td>\n",
       "      <td>ROBOMASTERS THE ANIMATED SERIES</td>\n",
       "      <td>Robomasters The Animated Series</td>\n",
       "    </tr>\n",
       "    <tr>\n",
       "      <th>966</th>\n",
       "      <td>Crayon Shin-chan</td>\n",
       "      <td>Shin Chan</td>\n",
       "      <td>クレヨンしんちゃん</td>\n",
       "      <td>Crayon Shin-chan</td>\n",
       "    </tr>\n",
       "    <tr>\n",
       "      <th>4876</th>\n",
       "      <td>Hashire Melos!</td>\n",
       "      <td>Run Melos!</td>\n",
       "      <td>走れメロス</td>\n",
       "      <td>Hashire Melos!</td>\n",
       "    </tr>\n",
       "  </tbody>\n",
       "</table>\n",
       "</div>"
      ],
      "text/plain": [
       "                                romaji                    english  \\\n",
       "id                                                                  \n",
       "10161                             No.6                       No.6   \n",
       "99726                Net-juu no Susume  Recovery of an MMO Junkie   \n",
       "98526  Robomasters The Animated Series                        NaN   \n",
       "966                   Crayon Shin-chan                  Shin Chan   \n",
       "4876                    Hashire Melos!                 Run Melos!   \n",
       "\n",
       "                                native                    userPreferred  \n",
       "id                                                                       \n",
       "10161                   NO.6 ナンバー・シックス                             No.6  \n",
       "99726                          ネト充のススメ                Net-juu no Susume  \n",
       "98526  ROBOMASTERS THE ANIMATED SERIES  Robomasters The Animated Series  \n",
       "966                          クレヨンしんちゃん                 Crayon Shin-chan  \n",
       "4876                             走れメロス                   Hashire Melos!  "
      ]
     },
     "execution_count": 4,
     "metadata": {},
     "output_type": "execute_result"
    }
   ],
   "source": [
    "# We'll use this dataframe later for lookup\n",
    "title_df.head()"
   ]
  },
  {
   "cell_type": "code",
   "execution_count": 5,
   "metadata": {},
   "outputs": [
    {
     "data": {
      "text/html": [
       "<div>\n",
       "<style scoped>\n",
       "    .dataframe tbody tr th:only-of-type {\n",
       "        vertical-align: middle;\n",
       "    }\n",
       "\n",
       "    .dataframe tbody tr th {\n",
       "        vertical-align: top;\n",
       "    }\n",
       "\n",
       "    .dataframe thead th {\n",
       "        text-align: right;\n",
       "    }\n",
       "</style>\n",
       "<table border=\"1\" class=\"dataframe\">\n",
       "  <thead>\n",
       "    <tr style=\"text-align: right;\">\n",
       "      <th></th>\n",
       "      <th>action</th>\n",
       "      <th>adventure</th>\n",
       "      <th>comedy</th>\n",
       "      <th>drama</th>\n",
       "      <th>ecchi</th>\n",
       "      <th>fantasy</th>\n",
       "      <th>horror</th>\n",
       "      <th>mahou_shoujo</th>\n",
       "      <th>mecha</th>\n",
       "      <th>music</th>\n",
       "      <th>mystery</th>\n",
       "      <th>psychological</th>\n",
       "      <th>romance</th>\n",
       "      <th>sci_fi</th>\n",
       "      <th>slice_of_life</th>\n",
       "      <th>sports</th>\n",
       "      <th>supernatural</th>\n",
       "      <th>thriller</th>\n",
       "    </tr>\n",
       "    <tr>\n",
       "      <th>id</th>\n",
       "      <th></th>\n",
       "      <th></th>\n",
       "      <th></th>\n",
       "      <th></th>\n",
       "      <th></th>\n",
       "      <th></th>\n",
       "      <th></th>\n",
       "      <th></th>\n",
       "      <th></th>\n",
       "      <th></th>\n",
       "      <th></th>\n",
       "      <th></th>\n",
       "      <th></th>\n",
       "      <th></th>\n",
       "      <th></th>\n",
       "      <th></th>\n",
       "      <th></th>\n",
       "      <th></th>\n",
       "    </tr>\n",
       "  </thead>\n",
       "  <tbody>\n",
       "    <tr>\n",
       "      <th>10161</th>\n",
       "      <td>1</td>\n",
       "      <td>0</td>\n",
       "      <td>0</td>\n",
       "      <td>1</td>\n",
       "      <td>0</td>\n",
       "      <td>0</td>\n",
       "      <td>0</td>\n",
       "      <td>0</td>\n",
       "      <td>0</td>\n",
       "      <td>0</td>\n",
       "      <td>0</td>\n",
       "      <td>0</td>\n",
       "      <td>0</td>\n",
       "      <td>1</td>\n",
       "      <td>0</td>\n",
       "      <td>0</td>\n",
       "      <td>0</td>\n",
       "      <td>0</td>\n",
       "    </tr>\n",
       "    <tr>\n",
       "      <th>99726</th>\n",
       "      <td>0</td>\n",
       "      <td>1</td>\n",
       "      <td>1</td>\n",
       "      <td>0</td>\n",
       "      <td>0</td>\n",
       "      <td>1</td>\n",
       "      <td>0</td>\n",
       "      <td>0</td>\n",
       "      <td>0</td>\n",
       "      <td>0</td>\n",
       "      <td>0</td>\n",
       "      <td>0</td>\n",
       "      <td>1</td>\n",
       "      <td>0</td>\n",
       "      <td>1</td>\n",
       "      <td>0</td>\n",
       "      <td>0</td>\n",
       "      <td>0</td>\n",
       "    </tr>\n",
       "    <tr>\n",
       "      <th>98526</th>\n",
       "      <td>1</td>\n",
       "      <td>0</td>\n",
       "      <td>0</td>\n",
       "      <td>1</td>\n",
       "      <td>0</td>\n",
       "      <td>0</td>\n",
       "      <td>0</td>\n",
       "      <td>0</td>\n",
       "      <td>0</td>\n",
       "      <td>0</td>\n",
       "      <td>0</td>\n",
       "      <td>0</td>\n",
       "      <td>0</td>\n",
       "      <td>0</td>\n",
       "      <td>0</td>\n",
       "      <td>0</td>\n",
       "      <td>0</td>\n",
       "      <td>0</td>\n",
       "    </tr>\n",
       "    <tr>\n",
       "      <th>966</th>\n",
       "      <td>0</td>\n",
       "      <td>0</td>\n",
       "      <td>1</td>\n",
       "      <td>0</td>\n",
       "      <td>1</td>\n",
       "      <td>0</td>\n",
       "      <td>0</td>\n",
       "      <td>0</td>\n",
       "      <td>0</td>\n",
       "      <td>0</td>\n",
       "      <td>0</td>\n",
       "      <td>0</td>\n",
       "      <td>0</td>\n",
       "      <td>0</td>\n",
       "      <td>1</td>\n",
       "      <td>0</td>\n",
       "      <td>0</td>\n",
       "      <td>0</td>\n",
       "    </tr>\n",
       "    <tr>\n",
       "      <th>4876</th>\n",
       "      <td>1</td>\n",
       "      <td>1</td>\n",
       "      <td>0</td>\n",
       "      <td>1</td>\n",
       "      <td>0</td>\n",
       "      <td>0</td>\n",
       "      <td>0</td>\n",
       "      <td>0</td>\n",
       "      <td>0</td>\n",
       "      <td>0</td>\n",
       "      <td>0</td>\n",
       "      <td>0</td>\n",
       "      <td>0</td>\n",
       "      <td>0</td>\n",
       "      <td>0</td>\n",
       "      <td>0</td>\n",
       "      <td>0</td>\n",
       "      <td>0</td>\n",
       "    </tr>\n",
       "  </tbody>\n",
       "</table>\n",
       "</div>"
      ],
      "text/plain": [
       "       action  adventure  comedy  drama  ecchi  fantasy  horror  mahou_shoujo  \\\n",
       "id                                                                              \n",
       "10161       1          0       0      1      0        0       0             0   \n",
       "99726       0          1       1      0      0        1       0             0   \n",
       "98526       1          0       0      1      0        0       0             0   \n",
       "966         0          0       1      0      1        0       0             0   \n",
       "4876        1          1       0      1      0        0       0             0   \n",
       "\n",
       "       mecha  music  mystery  psychological  romance  sci_fi  slice_of_life  \\\n",
       "id                                                                            \n",
       "10161      0      0        0              0        0       1              0   \n",
       "99726      0      0        0              0        1       0              1   \n",
       "98526      0      0        0              0        0       0              0   \n",
       "966        0      0        0              0        0       0              1   \n",
       "4876       0      0        0              0        0       0              0   \n",
       "\n",
       "       sports  supernatural  thriller  \n",
       "id                                     \n",
       "10161       0             0         0  \n",
       "99726       0             0         0  \n",
       "98526       0             0         0  \n",
       "966         0             0         0  \n",
       "4876        0             0         0  "
      ]
     },
     "execution_count": 5,
     "metadata": {},
     "output_type": "execute_result"
    }
   ],
   "source": [
    "genres_item_matrix.head()"
   ]
  },
  {
   "cell_type": "code",
   "execution_count": 6,
   "metadata": {},
   "outputs": [
    {
     "data": {
      "text/html": [
       "<div>\n",
       "<style scoped>\n",
       "    .dataframe tbody tr th:only-of-type {\n",
       "        vertical-align: middle;\n",
       "    }\n",
       "\n",
       "    .dataframe tbody tr th {\n",
       "        vertical-align: top;\n",
       "    }\n",
       "\n",
       "    .dataframe thead th {\n",
       "        text-align: right;\n",
       "    }\n",
       "</style>\n",
       "<table border=\"1\" class=\"dataframe\">\n",
       "  <thead>\n",
       "    <tr style=\"text-align: right;\">\n",
       "      <th></th>\n",
       "      <th>4_koma</th>\n",
       "      <th>achronological_order</th>\n",
       "      <th>acting</th>\n",
       "      <th>advertisement</th>\n",
       "      <th>afterlife</th>\n",
       "      <th>age_gap</th>\n",
       "      <th>age_regression</th>\n",
       "      <th>agender</th>\n",
       "      <th>airsoft</th>\n",
       "      <th>aliens</th>\n",
       "      <th>...</th>\n",
       "      <th>witch</th>\n",
       "      <th>work</th>\n",
       "      <th>wrestling</th>\n",
       "      <th>writing</th>\n",
       "      <th>wuxia</th>\n",
       "      <th>yakuza</th>\n",
       "      <th>yandere</th>\n",
       "      <th>youkai</th>\n",
       "      <th>yuri</th>\n",
       "      <th>zombie</th>\n",
       "    </tr>\n",
       "    <tr>\n",
       "      <th>id</th>\n",
       "      <th></th>\n",
       "      <th></th>\n",
       "      <th></th>\n",
       "      <th></th>\n",
       "      <th></th>\n",
       "      <th></th>\n",
       "      <th></th>\n",
       "      <th></th>\n",
       "      <th></th>\n",
       "      <th></th>\n",
       "      <th></th>\n",
       "      <th></th>\n",
       "      <th></th>\n",
       "      <th></th>\n",
       "      <th></th>\n",
       "      <th></th>\n",
       "      <th></th>\n",
       "      <th></th>\n",
       "      <th></th>\n",
       "      <th></th>\n",
       "      <th></th>\n",
       "    </tr>\n",
       "  </thead>\n",
       "  <tbody>\n",
       "    <tr>\n",
       "      <th>10161</th>\n",
       "      <td>0</td>\n",
       "      <td>0</td>\n",
       "      <td>0</td>\n",
       "      <td>0</td>\n",
       "      <td>0</td>\n",
       "      <td>0</td>\n",
       "      <td>0</td>\n",
       "      <td>0</td>\n",
       "      <td>0</td>\n",
       "      <td>0</td>\n",
       "      <td>...</td>\n",
       "      <td>0</td>\n",
       "      <td>0</td>\n",
       "      <td>0</td>\n",
       "      <td>0</td>\n",
       "      <td>0</td>\n",
       "      <td>0</td>\n",
       "      <td>1</td>\n",
       "      <td>0</td>\n",
       "      <td>0</td>\n",
       "      <td>0</td>\n",
       "    </tr>\n",
       "    <tr>\n",
       "      <th>99726</th>\n",
       "      <td>0</td>\n",
       "      <td>0</td>\n",
       "      <td>0</td>\n",
       "      <td>0</td>\n",
       "      <td>0</td>\n",
       "      <td>0</td>\n",
       "      <td>0</td>\n",
       "      <td>0</td>\n",
       "      <td>0</td>\n",
       "      <td>0</td>\n",
       "      <td>...</td>\n",
       "      <td>0</td>\n",
       "      <td>0</td>\n",
       "      <td>0</td>\n",
       "      <td>0</td>\n",
       "      <td>0</td>\n",
       "      <td>0</td>\n",
       "      <td>0</td>\n",
       "      <td>0</td>\n",
       "      <td>0</td>\n",
       "      <td>0</td>\n",
       "    </tr>\n",
       "    <tr>\n",
       "      <th>98526</th>\n",
       "      <td>0</td>\n",
       "      <td>0</td>\n",
       "      <td>0</td>\n",
       "      <td>0</td>\n",
       "      <td>0</td>\n",
       "      <td>0</td>\n",
       "      <td>0</td>\n",
       "      <td>0</td>\n",
       "      <td>0</td>\n",
       "      <td>0</td>\n",
       "      <td>...</td>\n",
       "      <td>0</td>\n",
       "      <td>0</td>\n",
       "      <td>0</td>\n",
       "      <td>0</td>\n",
       "      <td>0</td>\n",
       "      <td>0</td>\n",
       "      <td>0</td>\n",
       "      <td>0</td>\n",
       "      <td>0</td>\n",
       "      <td>0</td>\n",
       "    </tr>\n",
       "    <tr>\n",
       "      <th>966</th>\n",
       "      <td>0</td>\n",
       "      <td>0</td>\n",
       "      <td>0</td>\n",
       "      <td>0</td>\n",
       "      <td>0</td>\n",
       "      <td>0</td>\n",
       "      <td>0</td>\n",
       "      <td>0</td>\n",
       "      <td>0</td>\n",
       "      <td>0</td>\n",
       "      <td>...</td>\n",
       "      <td>0</td>\n",
       "      <td>0</td>\n",
       "      <td>0</td>\n",
       "      <td>0</td>\n",
       "      <td>0</td>\n",
       "      <td>0</td>\n",
       "      <td>0</td>\n",
       "      <td>0</td>\n",
       "      <td>0</td>\n",
       "      <td>0</td>\n",
       "    </tr>\n",
       "    <tr>\n",
       "      <th>4876</th>\n",
       "      <td>0</td>\n",
       "      <td>0</td>\n",
       "      <td>0</td>\n",
       "      <td>0</td>\n",
       "      <td>0</td>\n",
       "      <td>0</td>\n",
       "      <td>0</td>\n",
       "      <td>0</td>\n",
       "      <td>0</td>\n",
       "      <td>0</td>\n",
       "      <td>...</td>\n",
       "      <td>0</td>\n",
       "      <td>0</td>\n",
       "      <td>0</td>\n",
       "      <td>0</td>\n",
       "      <td>0</td>\n",
       "      <td>0</td>\n",
       "      <td>0</td>\n",
       "      <td>0</td>\n",
       "      <td>0</td>\n",
       "      <td>0</td>\n",
       "    </tr>\n",
       "  </tbody>\n",
       "</table>\n",
       "<p>5 rows × 247 columns</p>\n",
       "</div>"
      ],
      "text/plain": [
       "       4_koma  achronological_order  acting  advertisement  afterlife  \\\n",
       "id                                                                      \n",
       "10161       0                     0       0              0          0   \n",
       "99726       0                     0       0              0          0   \n",
       "98526       0                     0       0              0          0   \n",
       "966         0                     0       0              0          0   \n",
       "4876        0                     0       0              0          0   \n",
       "\n",
       "       age_gap  age_regression  agender  airsoft  aliens  ...  witch  work  \\\n",
       "id                                                        ...                \n",
       "10161        0               0        0        0       0  ...      0     0   \n",
       "99726        0               0        0        0       0  ...      0     0   \n",
       "98526        0               0        0        0       0  ...      0     0   \n",
       "966          0               0        0        0       0  ...      0     0   \n",
       "4876         0               0        0        0       0  ...      0     0   \n",
       "\n",
       "       wrestling  writing  wuxia  yakuza  yandere  youkai  yuri  zombie  \n",
       "id                                                                       \n",
       "10161          0        0      0       0        1       0     0       0  \n",
       "99726          0        0      0       0        0       0     0       0  \n",
       "98526          0        0      0       0        0       0     0       0  \n",
       "966            0        0      0       0        0       0     0       0  \n",
       "4876           0        0      0       0        0       0     0       0  \n",
       "\n",
       "[5 rows x 247 columns]"
      ]
     },
     "execution_count": 6,
     "metadata": {},
     "output_type": "execute_result"
    }
   ],
   "source": [
    "tag_item_matrix.head()"
   ]
  },
  {
   "cell_type": "code",
   "execution_count": 7,
   "metadata": {},
   "outputs": [
    {
     "data": {
      "text/html": [
       "<div>\n",
       "<style scoped>\n",
       "    .dataframe tbody tr th:only-of-type {\n",
       "        vertical-align: middle;\n",
       "    }\n",
       "\n",
       "    .dataframe tbody tr th {\n",
       "        vertical-align: top;\n",
       "    }\n",
       "\n",
       "    .dataframe thead th {\n",
       "        text-align: right;\n",
       "    }\n",
       "</style>\n",
       "<table border=\"1\" class=\"dataframe\">\n",
       "  <thead>\n",
       "    <tr style=\"text-align: right;\">\n",
       "      <th></th>\n",
       "      <th>action</th>\n",
       "      <th>adventure</th>\n",
       "      <th>comedy</th>\n",
       "      <th>drama</th>\n",
       "      <th>ecchi</th>\n",
       "      <th>fantasy</th>\n",
       "      <th>horror</th>\n",
       "      <th>mahou_shoujo</th>\n",
       "      <th>mecha</th>\n",
       "      <th>music</th>\n",
       "      <th>...</th>\n",
       "      <th>witch</th>\n",
       "      <th>work</th>\n",
       "      <th>wrestling</th>\n",
       "      <th>writing</th>\n",
       "      <th>wuxia</th>\n",
       "      <th>yakuza</th>\n",
       "      <th>yandere</th>\n",
       "      <th>youkai</th>\n",
       "      <th>yuri</th>\n",
       "      <th>zombie</th>\n",
       "    </tr>\n",
       "    <tr>\n",
       "      <th>id</th>\n",
       "      <th></th>\n",
       "      <th></th>\n",
       "      <th></th>\n",
       "      <th></th>\n",
       "      <th></th>\n",
       "      <th></th>\n",
       "      <th></th>\n",
       "      <th></th>\n",
       "      <th></th>\n",
       "      <th></th>\n",
       "      <th></th>\n",
       "      <th></th>\n",
       "      <th></th>\n",
       "      <th></th>\n",
       "      <th></th>\n",
       "      <th></th>\n",
       "      <th></th>\n",
       "      <th></th>\n",
       "      <th></th>\n",
       "      <th></th>\n",
       "      <th></th>\n",
       "    </tr>\n",
       "  </thead>\n",
       "  <tbody>\n",
       "    <tr>\n",
       "      <th>10161</th>\n",
       "      <td>1</td>\n",
       "      <td>0</td>\n",
       "      <td>0</td>\n",
       "      <td>1</td>\n",
       "      <td>0</td>\n",
       "      <td>0</td>\n",
       "      <td>0</td>\n",
       "      <td>0</td>\n",
       "      <td>0</td>\n",
       "      <td>0</td>\n",
       "      <td>...</td>\n",
       "      <td>0</td>\n",
       "      <td>0</td>\n",
       "      <td>0</td>\n",
       "      <td>0</td>\n",
       "      <td>0</td>\n",
       "      <td>0</td>\n",
       "      <td>1</td>\n",
       "      <td>0</td>\n",
       "      <td>0</td>\n",
       "      <td>0</td>\n",
       "    </tr>\n",
       "    <tr>\n",
       "      <th>99726</th>\n",
       "      <td>0</td>\n",
       "      <td>1</td>\n",
       "      <td>1</td>\n",
       "      <td>0</td>\n",
       "      <td>0</td>\n",
       "      <td>1</td>\n",
       "      <td>0</td>\n",
       "      <td>0</td>\n",
       "      <td>0</td>\n",
       "      <td>0</td>\n",
       "      <td>...</td>\n",
       "      <td>0</td>\n",
       "      <td>0</td>\n",
       "      <td>0</td>\n",
       "      <td>0</td>\n",
       "      <td>0</td>\n",
       "      <td>0</td>\n",
       "      <td>0</td>\n",
       "      <td>0</td>\n",
       "      <td>0</td>\n",
       "      <td>0</td>\n",
       "    </tr>\n",
       "    <tr>\n",
       "      <th>98526</th>\n",
       "      <td>1</td>\n",
       "      <td>0</td>\n",
       "      <td>0</td>\n",
       "      <td>1</td>\n",
       "      <td>0</td>\n",
       "      <td>0</td>\n",
       "      <td>0</td>\n",
       "      <td>0</td>\n",
       "      <td>0</td>\n",
       "      <td>0</td>\n",
       "      <td>...</td>\n",
       "      <td>0</td>\n",
       "      <td>0</td>\n",
       "      <td>0</td>\n",
       "      <td>0</td>\n",
       "      <td>0</td>\n",
       "      <td>0</td>\n",
       "      <td>0</td>\n",
       "      <td>0</td>\n",
       "      <td>0</td>\n",
       "      <td>0</td>\n",
       "    </tr>\n",
       "    <tr>\n",
       "      <th>966</th>\n",
       "      <td>0</td>\n",
       "      <td>0</td>\n",
       "      <td>1</td>\n",
       "      <td>0</td>\n",
       "      <td>1</td>\n",
       "      <td>0</td>\n",
       "      <td>0</td>\n",
       "      <td>0</td>\n",
       "      <td>0</td>\n",
       "      <td>0</td>\n",
       "      <td>...</td>\n",
       "      <td>0</td>\n",
       "      <td>0</td>\n",
       "      <td>0</td>\n",
       "      <td>0</td>\n",
       "      <td>0</td>\n",
       "      <td>0</td>\n",
       "      <td>0</td>\n",
       "      <td>0</td>\n",
       "      <td>0</td>\n",
       "      <td>0</td>\n",
       "    </tr>\n",
       "    <tr>\n",
       "      <th>4876</th>\n",
       "      <td>1</td>\n",
       "      <td>1</td>\n",
       "      <td>0</td>\n",
       "      <td>1</td>\n",
       "      <td>0</td>\n",
       "      <td>0</td>\n",
       "      <td>0</td>\n",
       "      <td>0</td>\n",
       "      <td>0</td>\n",
       "      <td>0</td>\n",
       "      <td>...</td>\n",
       "      <td>0</td>\n",
       "      <td>0</td>\n",
       "      <td>0</td>\n",
       "      <td>0</td>\n",
       "      <td>0</td>\n",
       "      <td>0</td>\n",
       "      <td>0</td>\n",
       "      <td>0</td>\n",
       "      <td>0</td>\n",
       "      <td>0</td>\n",
       "    </tr>\n",
       "  </tbody>\n",
       "</table>\n",
       "<p>5 rows × 265 columns</p>\n",
       "</div>"
      ],
      "text/plain": [
       "       action  adventure  comedy  drama  ecchi  fantasy  horror  mahou_shoujo  \\\n",
       "id                                                                              \n",
       "10161       1          0       0      1      0        0       0             0   \n",
       "99726       0          1       1      0      0        1       0             0   \n",
       "98526       1          0       0      1      0        0       0             0   \n",
       "966         0          0       1      0      1        0       0             0   \n",
       "4876        1          1       0      1      0        0       0             0   \n",
       "\n",
       "       mecha  music  ...  witch  work  wrestling  writing  wuxia  yakuza  \\\n",
       "id                   ...                                                   \n",
       "10161      0      0  ...      0     0          0        0      0       0   \n",
       "99726      0      0  ...      0     0          0        0      0       0   \n",
       "98526      0      0  ...      0     0          0        0      0       0   \n",
       "966        0      0  ...      0     0          0        0      0       0   \n",
       "4876       0      0  ...      0     0          0        0      0       0   \n",
       "\n",
       "       yandere  youkai  yuri  zombie  \n",
       "id                                    \n",
       "10161        1       0     0       0  \n",
       "99726        0       0     0       0  \n",
       "98526        0       0     0       0  \n",
       "966          0       0     0       0  \n",
       "4876         0       0     0       0  \n",
       "\n",
       "[5 rows x 265 columns]"
      ]
     },
     "execution_count": 7,
     "metadata": {},
     "output_type": "execute_result"
    }
   ],
   "source": [
    "df = pd.concat([genres_item_matrix, tag_item_matrix], axis=1)\n",
    "df.head()"
   ]
  },
  {
   "cell_type": "code",
   "execution_count": 8,
   "metadata": {},
   "outputs": [
    {
     "data": {
      "text/html": [
       "<div>\n",
       "<style scoped>\n",
       "    .dataframe tbody tr th:only-of-type {\n",
       "        vertical-align: middle;\n",
       "    }\n",
       "\n",
       "    .dataframe tbody tr th {\n",
       "        vertical-align: top;\n",
       "    }\n",
       "\n",
       "    .dataframe thead th {\n",
       "        text-align: right;\n",
       "    }\n",
       "</style>\n",
       "<table border=\"1\" class=\"dataframe\">\n",
       "  <thead>\n",
       "    <tr style=\"text-align: right;\">\n",
       "      <th></th>\n",
       "      <th>action</th>\n",
       "      <th>adventure</th>\n",
       "      <th>comedy</th>\n",
       "      <th>drama</th>\n",
       "      <th>ecchi</th>\n",
       "      <th>fantasy</th>\n",
       "      <th>horror</th>\n",
       "      <th>mahou_shoujo</th>\n",
       "      <th>mecha</th>\n",
       "      <th>music</th>\n",
       "      <th>...</th>\n",
       "      <th>witch</th>\n",
       "      <th>work</th>\n",
       "      <th>wrestling</th>\n",
       "      <th>writing</th>\n",
       "      <th>wuxia</th>\n",
       "      <th>yakuza</th>\n",
       "      <th>yandere</th>\n",
       "      <th>youkai</th>\n",
       "      <th>yuri</th>\n",
       "      <th>zombie</th>\n",
       "    </tr>\n",
       "    <tr>\n",
       "      <th>id</th>\n",
       "      <th></th>\n",
       "      <th></th>\n",
       "      <th></th>\n",
       "      <th></th>\n",
       "      <th></th>\n",
       "      <th></th>\n",
       "      <th></th>\n",
       "      <th></th>\n",
       "      <th></th>\n",
       "      <th></th>\n",
       "      <th></th>\n",
       "      <th></th>\n",
       "      <th></th>\n",
       "      <th></th>\n",
       "      <th></th>\n",
       "      <th></th>\n",
       "      <th></th>\n",
       "      <th></th>\n",
       "      <th></th>\n",
       "      <th></th>\n",
       "      <th></th>\n",
       "    </tr>\n",
       "  </thead>\n",
       "  <tbody>\n",
       "    <tr>\n",
       "      <th>99586</th>\n",
       "      <td>0</td>\n",
       "      <td>0</td>\n",
       "      <td>0</td>\n",
       "      <td>0</td>\n",
       "      <td>1</td>\n",
       "      <td>0</td>\n",
       "      <td>0</td>\n",
       "      <td>0</td>\n",
       "      <td>0</td>\n",
       "      <td>0</td>\n",
       "      <td>...</td>\n",
       "      <td>0</td>\n",
       "      <td>0</td>\n",
       "      <td>0</td>\n",
       "      <td>0</td>\n",
       "      <td>0</td>\n",
       "      <td>0</td>\n",
       "      <td>0</td>\n",
       "      <td>0</td>\n",
       "      <td>0</td>\n",
       "      <td>0</td>\n",
       "    </tr>\n",
       "    <tr>\n",
       "      <th>99916</th>\n",
       "      <td>0</td>\n",
       "      <td>0</td>\n",
       "      <td>0</td>\n",
       "      <td>0</td>\n",
       "      <td>0</td>\n",
       "      <td>0</td>\n",
       "      <td>0</td>\n",
       "      <td>0</td>\n",
       "      <td>0</td>\n",
       "      <td>0</td>\n",
       "      <td>...</td>\n",
       "      <td>0</td>\n",
       "      <td>0</td>\n",
       "      <td>0</td>\n",
       "      <td>0</td>\n",
       "      <td>0</td>\n",
       "      <td>0</td>\n",
       "      <td>0</td>\n",
       "      <td>0</td>\n",
       "      <td>1</td>\n",
       "      <td>0</td>\n",
       "    </tr>\n",
       "    <tr>\n",
       "      <th>101283</th>\n",
       "      <td>0</td>\n",
       "      <td>0</td>\n",
       "      <td>0</td>\n",
       "      <td>0</td>\n",
       "      <td>0</td>\n",
       "      <td>0</td>\n",
       "      <td>1</td>\n",
       "      <td>0</td>\n",
       "      <td>0</td>\n",
       "      <td>0</td>\n",
       "      <td>...</td>\n",
       "      <td>0</td>\n",
       "      <td>0</td>\n",
       "      <td>0</td>\n",
       "      <td>0</td>\n",
       "      <td>0</td>\n",
       "      <td>0</td>\n",
       "      <td>0</td>\n",
       "      <td>0</td>\n",
       "      <td>0</td>\n",
       "      <td>0</td>\n",
       "    </tr>\n",
       "    <tr>\n",
       "      <th>101633</th>\n",
       "      <td>0</td>\n",
       "      <td>0</td>\n",
       "      <td>1</td>\n",
       "      <td>1</td>\n",
       "      <td>0</td>\n",
       "      <td>0</td>\n",
       "      <td>0</td>\n",
       "      <td>0</td>\n",
       "      <td>0</td>\n",
       "      <td>1</td>\n",
       "      <td>...</td>\n",
       "      <td>0</td>\n",
       "      <td>0</td>\n",
       "      <td>0</td>\n",
       "      <td>0</td>\n",
       "      <td>0</td>\n",
       "      <td>0</td>\n",
       "      <td>0</td>\n",
       "      <td>0</td>\n",
       "      <td>0</td>\n",
       "      <td>0</td>\n",
       "    </tr>\n",
       "    <tr>\n",
       "      <th>101089</th>\n",
       "      <td>0</td>\n",
       "      <td>0</td>\n",
       "      <td>0</td>\n",
       "      <td>0</td>\n",
       "      <td>0</td>\n",
       "      <td>0</td>\n",
       "      <td>0</td>\n",
       "      <td>0</td>\n",
       "      <td>0</td>\n",
       "      <td>0</td>\n",
       "      <td>...</td>\n",
       "      <td>0</td>\n",
       "      <td>0</td>\n",
       "      <td>0</td>\n",
       "      <td>0</td>\n",
       "      <td>0</td>\n",
       "      <td>0</td>\n",
       "      <td>0</td>\n",
       "      <td>0</td>\n",
       "      <td>0</td>\n",
       "      <td>0</td>\n",
       "    </tr>\n",
       "  </tbody>\n",
       "</table>\n",
       "<p>5 rows × 265 columns</p>\n",
       "</div>"
      ],
      "text/plain": [
       "        action  adventure  comedy  drama  ecchi  fantasy  horror  \\\n",
       "id                                                                 \n",
       "99586        0          0       0      0      1        0       0   \n",
       "99916        0          0       0      0      0        0       0   \n",
       "101283       0          0       0      0      0        0       1   \n",
       "101633       0          0       1      1      0        0       0   \n",
       "101089       0          0       0      0      0        0       0   \n",
       "\n",
       "        mahou_shoujo  mecha  music  ...  witch  work  wrestling  writing  \\\n",
       "id                                  ...                                    \n",
       "99586              0      0      0  ...      0     0          0        0   \n",
       "99916              0      0      0  ...      0     0          0        0   \n",
       "101283             0      0      0  ...      0     0          0        0   \n",
       "101633             0      0      1  ...      0     0          0        0   \n",
       "101089             0      0      0  ...      0     0          0        0   \n",
       "\n",
       "        wuxia  yakuza  yandere  youkai  yuri  zombie  \n",
       "id                                                    \n",
       "99586       0       0        0       0     0       0  \n",
       "99916       0       0        0       0     1       0  \n",
       "101283      0       0        0       0     0       0  \n",
       "101633      0       0        0       0     0       0  \n",
       "101089      0       0        0       0     0       0  \n",
       "\n",
       "[5 rows x 265 columns]"
      ]
     },
     "execution_count": 8,
     "metadata": {},
     "output_type": "execute_result"
    }
   ],
   "source": [
    "df.tail()"
   ]
  },
  {
   "cell_type": "code",
   "execution_count": 9,
   "metadata": {},
   "outputs": [
    {
     "name": "stdout",
     "output_type": "stream",
     "text": [
      "<class 'pandas.core.frame.DataFrame'>\n",
      "Int64Index: 9832 entries, 10161 to 101089\n",
      "Columns: 265 entries, action to zombie\n",
      "dtypes: int64(265)\n",
      "memory usage: 20.0 MB\n"
     ]
    }
   ],
   "source": [
    "df.info()"
   ]
  },
  {
   "cell_type": "code",
   "execution_count": 10,
   "metadata": {},
   "outputs": [
    {
     "data": {
      "text/html": [
       "<div>\n",
       "<style scoped>\n",
       "    .dataframe tbody tr th:only-of-type {\n",
       "        vertical-align: middle;\n",
       "    }\n",
       "\n",
       "    .dataframe tbody tr th {\n",
       "        vertical-align: top;\n",
       "    }\n",
       "\n",
       "    .dataframe thead th {\n",
       "        text-align: right;\n",
       "    }\n",
       "</style>\n",
       "<table border=\"1\" class=\"dataframe\">\n",
       "  <thead>\n",
       "    <tr style=\"text-align: right;\">\n",
       "      <th></th>\n",
       "      <th>action</th>\n",
       "      <th>adventure</th>\n",
       "      <th>comedy</th>\n",
       "      <th>drama</th>\n",
       "      <th>ecchi</th>\n",
       "      <th>fantasy</th>\n",
       "      <th>horror</th>\n",
       "      <th>mahou_shoujo</th>\n",
       "      <th>mecha</th>\n",
       "      <th>music</th>\n",
       "      <th>...</th>\n",
       "      <th>witch</th>\n",
       "      <th>work</th>\n",
       "      <th>wrestling</th>\n",
       "      <th>writing</th>\n",
       "      <th>wuxia</th>\n",
       "      <th>yakuza</th>\n",
       "      <th>yandere</th>\n",
       "      <th>youkai</th>\n",
       "      <th>yuri</th>\n",
       "      <th>zombie</th>\n",
       "    </tr>\n",
       "  </thead>\n",
       "  <tbody>\n",
       "    <tr>\n",
       "      <th>count</th>\n",
       "      <td>9832.000000</td>\n",
       "      <td>9832.000000</td>\n",
       "      <td>9832.000000</td>\n",
       "      <td>9832.000000</td>\n",
       "      <td>9832.000000</td>\n",
       "      <td>9832.000000</td>\n",
       "      <td>9832.000000</td>\n",
       "      <td>9832.000000</td>\n",
       "      <td>9832.000000</td>\n",
       "      <td>9832.000000</td>\n",
       "      <td>...</td>\n",
       "      <td>9832.000000</td>\n",
       "      <td>9832.000000</td>\n",
       "      <td>9832.000000</td>\n",
       "      <td>9832.000000</td>\n",
       "      <td>9832.000000</td>\n",
       "      <td>9832.000000</td>\n",
       "      <td>9832.000000</td>\n",
       "      <td>9832.000000</td>\n",
       "      <td>9832.000000</td>\n",
       "      <td>9832.000000</td>\n",
       "    </tr>\n",
       "    <tr>\n",
       "      <th>mean</th>\n",
       "      <td>0.268002</td>\n",
       "      <td>0.213283</td>\n",
       "      <td>0.391172</td>\n",
       "      <td>0.190704</td>\n",
       "      <td>0.062449</td>\n",
       "      <td>0.198841</td>\n",
       "      <td>0.034886</td>\n",
       "      <td>0.025325</td>\n",
       "      <td>0.082994</td>\n",
       "      <td>0.097539</td>\n",
       "      <td>...</td>\n",
       "      <td>0.006001</td>\n",
       "      <td>0.018206</td>\n",
       "      <td>0.002034</td>\n",
       "      <td>0.001526</td>\n",
       "      <td>0.000305</td>\n",
       "      <td>0.003458</td>\n",
       "      <td>0.004577</td>\n",
       "      <td>0.011086</td>\n",
       "      <td>0.025427</td>\n",
       "      <td>0.005391</td>\n",
       "    </tr>\n",
       "    <tr>\n",
       "      <th>std</th>\n",
       "      <td>0.442941</td>\n",
       "      <td>0.409647</td>\n",
       "      <td>0.488038</td>\n",
       "      <td>0.392876</td>\n",
       "      <td>0.241982</td>\n",
       "      <td>0.399148</td>\n",
       "      <td>0.183501</td>\n",
       "      <td>0.157120</td>\n",
       "      <td>0.275888</td>\n",
       "      <td>0.297048</td>\n",
       "      <td>...</td>\n",
       "      <td>0.077236</td>\n",
       "      <td>0.133702</td>\n",
       "      <td>0.045058</td>\n",
       "      <td>0.039032</td>\n",
       "      <td>0.017466</td>\n",
       "      <td>0.058707</td>\n",
       "      <td>0.067501</td>\n",
       "      <td>0.104711</td>\n",
       "      <td>0.157427</td>\n",
       "      <td>0.073226</td>\n",
       "    </tr>\n",
       "    <tr>\n",
       "      <th>min</th>\n",
       "      <td>0.000000</td>\n",
       "      <td>0.000000</td>\n",
       "      <td>0.000000</td>\n",
       "      <td>0.000000</td>\n",
       "      <td>0.000000</td>\n",
       "      <td>0.000000</td>\n",
       "      <td>0.000000</td>\n",
       "      <td>0.000000</td>\n",
       "      <td>0.000000</td>\n",
       "      <td>0.000000</td>\n",
       "      <td>...</td>\n",
       "      <td>0.000000</td>\n",
       "      <td>0.000000</td>\n",
       "      <td>0.000000</td>\n",
       "      <td>0.000000</td>\n",
       "      <td>0.000000</td>\n",
       "      <td>0.000000</td>\n",
       "      <td>0.000000</td>\n",
       "      <td>0.000000</td>\n",
       "      <td>0.000000</td>\n",
       "      <td>0.000000</td>\n",
       "    </tr>\n",
       "    <tr>\n",
       "      <th>25%</th>\n",
       "      <td>0.000000</td>\n",
       "      <td>0.000000</td>\n",
       "      <td>0.000000</td>\n",
       "      <td>0.000000</td>\n",
       "      <td>0.000000</td>\n",
       "      <td>0.000000</td>\n",
       "      <td>0.000000</td>\n",
       "      <td>0.000000</td>\n",
       "      <td>0.000000</td>\n",
       "      <td>0.000000</td>\n",
       "      <td>...</td>\n",
       "      <td>0.000000</td>\n",
       "      <td>0.000000</td>\n",
       "      <td>0.000000</td>\n",
       "      <td>0.000000</td>\n",
       "      <td>0.000000</td>\n",
       "      <td>0.000000</td>\n",
       "      <td>0.000000</td>\n",
       "      <td>0.000000</td>\n",
       "      <td>0.000000</td>\n",
       "      <td>0.000000</td>\n",
       "    </tr>\n",
       "    <tr>\n",
       "      <th>50%</th>\n",
       "      <td>0.000000</td>\n",
       "      <td>0.000000</td>\n",
       "      <td>0.000000</td>\n",
       "      <td>0.000000</td>\n",
       "      <td>0.000000</td>\n",
       "      <td>0.000000</td>\n",
       "      <td>0.000000</td>\n",
       "      <td>0.000000</td>\n",
       "      <td>0.000000</td>\n",
       "      <td>0.000000</td>\n",
       "      <td>...</td>\n",
       "      <td>0.000000</td>\n",
       "      <td>0.000000</td>\n",
       "      <td>0.000000</td>\n",
       "      <td>0.000000</td>\n",
       "      <td>0.000000</td>\n",
       "      <td>0.000000</td>\n",
       "      <td>0.000000</td>\n",
       "      <td>0.000000</td>\n",
       "      <td>0.000000</td>\n",
       "      <td>0.000000</td>\n",
       "    </tr>\n",
       "    <tr>\n",
       "      <th>75%</th>\n",
       "      <td>1.000000</td>\n",
       "      <td>0.000000</td>\n",
       "      <td>1.000000</td>\n",
       "      <td>0.000000</td>\n",
       "      <td>0.000000</td>\n",
       "      <td>0.000000</td>\n",
       "      <td>0.000000</td>\n",
       "      <td>0.000000</td>\n",
       "      <td>0.000000</td>\n",
       "      <td>0.000000</td>\n",
       "      <td>...</td>\n",
       "      <td>0.000000</td>\n",
       "      <td>0.000000</td>\n",
       "      <td>0.000000</td>\n",
       "      <td>0.000000</td>\n",
       "      <td>0.000000</td>\n",
       "      <td>0.000000</td>\n",
       "      <td>0.000000</td>\n",
       "      <td>0.000000</td>\n",
       "      <td>0.000000</td>\n",
       "      <td>0.000000</td>\n",
       "    </tr>\n",
       "    <tr>\n",
       "      <th>max</th>\n",
       "      <td>1.000000</td>\n",
       "      <td>1.000000</td>\n",
       "      <td>1.000000</td>\n",
       "      <td>1.000000</td>\n",
       "      <td>1.000000</td>\n",
       "      <td>1.000000</td>\n",
       "      <td>1.000000</td>\n",
       "      <td>1.000000</td>\n",
       "      <td>1.000000</td>\n",
       "      <td>2.000000</td>\n",
       "      <td>...</td>\n",
       "      <td>1.000000</td>\n",
       "      <td>1.000000</td>\n",
       "      <td>1.000000</td>\n",
       "      <td>1.000000</td>\n",
       "      <td>1.000000</td>\n",
       "      <td>1.000000</td>\n",
       "      <td>1.000000</td>\n",
       "      <td>1.000000</td>\n",
       "      <td>1.000000</td>\n",
       "      <td>1.000000</td>\n",
       "    </tr>\n",
       "  </tbody>\n",
       "</table>\n",
       "<p>8 rows × 265 columns</p>\n",
       "</div>"
      ],
      "text/plain": [
       "            action    adventure       comedy        drama        ecchi  \\\n",
       "count  9832.000000  9832.000000  9832.000000  9832.000000  9832.000000   \n",
       "mean      0.268002     0.213283     0.391172     0.190704     0.062449   \n",
       "std       0.442941     0.409647     0.488038     0.392876     0.241982   \n",
       "min       0.000000     0.000000     0.000000     0.000000     0.000000   \n",
       "25%       0.000000     0.000000     0.000000     0.000000     0.000000   \n",
       "50%       0.000000     0.000000     0.000000     0.000000     0.000000   \n",
       "75%       1.000000     0.000000     1.000000     0.000000     0.000000   \n",
       "max       1.000000     1.000000     1.000000     1.000000     1.000000   \n",
       "\n",
       "           fantasy       horror  mahou_shoujo        mecha        music  ...  \\\n",
       "count  9832.000000  9832.000000   9832.000000  9832.000000  9832.000000  ...   \n",
       "mean      0.198841     0.034886      0.025325     0.082994     0.097539  ...   \n",
       "std       0.399148     0.183501      0.157120     0.275888     0.297048  ...   \n",
       "min       0.000000     0.000000      0.000000     0.000000     0.000000  ...   \n",
       "25%       0.000000     0.000000      0.000000     0.000000     0.000000  ...   \n",
       "50%       0.000000     0.000000      0.000000     0.000000     0.000000  ...   \n",
       "75%       0.000000     0.000000      0.000000     0.000000     0.000000  ...   \n",
       "max       1.000000     1.000000      1.000000     1.000000     2.000000  ...   \n",
       "\n",
       "             witch         work    wrestling      writing        wuxia  \\\n",
       "count  9832.000000  9832.000000  9832.000000  9832.000000  9832.000000   \n",
       "mean      0.006001     0.018206     0.002034     0.001526     0.000305   \n",
       "std       0.077236     0.133702     0.045058     0.039032     0.017466   \n",
       "min       0.000000     0.000000     0.000000     0.000000     0.000000   \n",
       "25%       0.000000     0.000000     0.000000     0.000000     0.000000   \n",
       "50%       0.000000     0.000000     0.000000     0.000000     0.000000   \n",
       "75%       0.000000     0.000000     0.000000     0.000000     0.000000   \n",
       "max       1.000000     1.000000     1.000000     1.000000     1.000000   \n",
       "\n",
       "            yakuza      yandere       youkai         yuri       zombie  \n",
       "count  9832.000000  9832.000000  9832.000000  9832.000000  9832.000000  \n",
       "mean      0.003458     0.004577     0.011086     0.025427     0.005391  \n",
       "std       0.058707     0.067501     0.104711     0.157427     0.073226  \n",
       "min       0.000000     0.000000     0.000000     0.000000     0.000000  \n",
       "25%       0.000000     0.000000     0.000000     0.000000     0.000000  \n",
       "50%       0.000000     0.000000     0.000000     0.000000     0.000000  \n",
       "75%       0.000000     0.000000     0.000000     0.000000     0.000000  \n",
       "max       1.000000     1.000000     1.000000     1.000000     1.000000  \n",
       "\n",
       "[8 rows x 265 columns]"
      ]
     },
     "execution_count": 10,
     "metadata": {},
     "output_type": "execute_result"
    }
   ],
   "source": [
    "df.describe()"
   ]
  },
  {
   "cell_type": "code",
   "execution_count": 11,
   "metadata": {},
   "outputs": [
    {
     "data": {
      "text/plain": [
       "action       2635\n",
       "adventure    2097\n",
       "comedy       3846\n",
       "drama        1875\n",
       "ecchi         614\n",
       "             ... \n",
       "yakuza         34\n",
       "yandere        45\n",
       "youkai        109\n",
       "yuri          250\n",
       "zombie         53\n",
       "Length: 265, dtype: int64"
      ]
     },
     "execution_count": 11,
     "metadata": {},
     "output_type": "execute_result"
    }
   ],
   "source": [
    "total_per_feature = df.sum(axis=0)\n",
    "total_per_feature"
   ]
  },
  {
   "cell_type": "code",
   "execution_count": 12,
   "metadata": {},
   "outputs": [
    {
     "data": {
      "text/plain": [
       "id\n",
       "10161      9\n",
       "99726     13\n",
       "98526      5\n",
       "966        9\n",
       "4876      11\n",
       "          ..\n",
       "99586     11\n",
       "99916      7\n",
       "101283    18\n",
       "101633    12\n",
       "101089     3\n",
       "Length: 9832, dtype: int64"
      ]
     },
     "execution_count": 12,
     "metadata": {},
     "output_type": "execute_result"
    }
   ],
   "source": [
    "total_per_show = df.sum(axis=1)\n",
    "total_per_show"
   ]
  },
  {
   "cell_type": "code",
   "execution_count": 13,
   "metadata": {},
   "outputs": [
    {
     "data": {
      "text/plain": [
       "id\n",
       "10161      9\n",
       "99726     13\n",
       "98526      5\n",
       "966        9\n",
       "4876      11\n",
       "          ..\n",
       "99586     11\n",
       "99916      7\n",
       "101283    18\n",
       "101633    12\n",
       "101089     3\n",
       "Name: total_features_per_show, Length: 9832, dtype: int64"
      ]
     },
     "execution_count": 13,
     "metadata": {},
     "output_type": "execute_result"
    }
   ],
   "source": [
    "total_per_show.rename('total_features_per_show')"
   ]
  },
  {
   "cell_type": "code",
   "execution_count": 14,
   "metadata": {},
   "outputs": [
    {
     "data": {
      "image/png": "[encoded data removed]",
      "text/plain": [
       "<Figure size 576x396 with 1 Axes>"
      ]
     },
     "metadata": {},
     "output_type": "display_data"
    }
   ],
   "source": [
    "sns.boxplot(total_per_show);"
   ]
  },
  {
   "cell_type": "markdown",
   "metadata": {},
   "source": [
    "This seems potentially problematic. A majority of the shows don't have very many features. How many are needed to make an acurate recommendation?"
   ]
  },
  {
   "cell_type": "code",
   "execution_count": 15,
   "metadata": {},
   "outputs": [],
   "source": [
    "def count_for_n_features(series, n):\n",
    "    print('{0:.1%}'.format(len(series[series <= n]) / len(series)), \n",
    "          'or', len(series[series <= n]), f'shows have {n} or fewer features describing them.')\n"
   ]
  },
  {
   "cell_type": "code",
   "execution_count": 16,
   "metadata": {},
   "outputs": [
    {
     "name": "stdout",
     "output_type": "stream",
     "text": [
      "28.5% or 2805 shows have 2 or fewer features describing them.\n"
     ]
    }
   ],
   "source": [
    "count_for_n_features(total_per_show, 2)"
   ]
  },
  {
   "cell_type": "code",
   "execution_count": 17,
   "metadata": {},
   "outputs": [
    {
     "name": "stdout",
     "output_type": "stream",
     "text": [
      "41.0% or 4034 shows have 3 or fewer features describing them.\n"
     ]
    }
   ],
   "source": [
    "count_for_n_features(total_per_show, 3)"
   ]
  },
  {
   "cell_type": "code",
   "execution_count": 18,
   "metadata": {},
   "outputs": [
    {
     "name": "stdout",
     "output_type": "stream",
     "text": [
      "51.3% or 5047 shows have 4 or fewer features describing them.\n"
     ]
    }
   ],
   "source": [
    "count_for_n_features(total_per_show, 4)"
   ]
  },
  {
   "cell_type": "code",
   "execution_count": null,
   "metadata": {},
   "outputs": [],
   "source": []
  },
  {
   "cell_type": "markdown",
   "metadata": {},
   "source": [
    "While selecting which tags to keep, many were cut out because of a low \"rank\" score. Let's go back and keep all tags but normalize(standardize?) them. "
   ]
  },
  {
   "cell_type": "code",
   "execution_count": null,
   "metadata": {},
   "outputs": [],
   "source": []
  },
  {
   "cell_type": "code",
   "execution_count": 19,
   "metadata": {},
   "outputs": [
    {
     "data": {
      "image/png": "[encoded data removed]",
      "text/plain": [
       "<Figure size 576x396 with 1 Axes>"
      ]
     },
     "metadata": {},
     "output_type": "display_data"
    }
   ],
   "source": [
    "sns.boxplot(total_per_feature);"
   ]
  },
  {
   "cell_type": "code",
   "execution_count": 20,
   "metadata": {},
   "outputs": [
    {
     "data": {
      "text/plain": [
       "airsoft         5\n",
       "asexual         4\n",
       "badminton       2\n",
       "bondage         5\n",
       "calligraphy     4\n",
       "centaur         5\n",
       "cheerleading    5\n",
       "ero_guro        4\n",
       "feet            1\n",
       "full_color      1\n",
       "go              4\n",
       "lacrosse        4\n",
       "masturbation    1\n",
       "netorare        4\n",
       "pov             1\n",
       "prostitution    1\n",
       "reformation     1\n",
       "rugby           3\n",
       "surfing         3\n",
       "table_tennis    4\n",
       "teens_love      3\n",
       "urination       1\n",
       "vikings         2\n",
       "voyeur          1\n",
       "wuxia           3\n",
       "dtype: int64"
      ]
     },
     "execution_count": 20,
     "metadata": {},
     "output_type": "execute_result"
    }
   ],
   "source": [
    "# the tags below each describe 5 or fewer anime. They can be dropped without losing too much.\n",
    "total_per_feature[total_per_feature < 6]"
   ]
  },
  {
   "cell_type": "code",
   "execution_count": null,
   "metadata": {},
   "outputs": [],
   "source": []
  },
  {
   "cell_type": "markdown",
   "metadata": {},
   "source": [
    "## Getting Recommendations"
   ]
  },
  {
   "cell_type": "code",
   "execution_count": 71,
   "metadata": {},
   "outputs": [],
   "source": [
    "def jaccard_similarity(df):\n",
    "    return (1 - pairwise_distances(df, metric=\"jaccard\"))\n",
    "\n",
    "def get_recommended_titles(recommendations_df):\n",
    "    recom_titles = []\n",
    "    for idx, row in recommendations_df.iterrows():\n",
    "        if type(row['english']) != float:\n",
    "            recom_titles.append(row['english'])\n",
    "        else:\n",
    "            recom_titles.append(row['userPreferred'])\n",
    "    \n",
    "    return recom_titles\n",
    "\n",
    "\n",
    "def get_top_n_recommendations(search_term, dataframe, content_item_matrix, n=5):\n",
    "    search_result = get_close_matches(search_term, \n",
    "                                      title_df['userPreferred'], \n",
    "                                      cutoff=0.25, \n",
    "                                      n=1)\n",
    "    print('Closest match: ', search_result)\n",
    "    \n",
    "    search_result_idx = title_df[title_df['userPreferred'].isin(search_result)].index\n",
    "    dataframe.loc[search_result_idx, :]\n",
    "\n",
    "    # get position of anime (id in index)\n",
    "    positional_idx = dataframe.index.get_loc(int(search_result_idx.values))\n",
    "    \n",
    "    # get top n indicies. The top match will always be the initial item.\n",
    "    top_n = np.argsort(content_item_matrix[positional_idx,:])[-n-1:-1]\n",
    "    recom_titles = get_recommended_titles(title_df.iloc[top_n,:])\n",
    "    \n",
    "    return recom_titles\n",
    "\n",
    "\n",
    "def view_title_similarity(search_term, recom_titles):\n",
    "    for title in recom_titles:\n",
    "        seq_matcher = SequenceMatcher(None, search_term, title)\n",
    "        print(f'The terms \"{search_term}\" and \"{title}\" are ' \n",
    "              + '{0:.2%}'.format(seq_matcher.quick_ratio()) + ' alike.')"
   ]
  },
  {
   "cell_type": "code",
   "execution_count": 22,
   "metadata": {},
   "outputs": [
    {
     "name": "stderr",
     "output_type": "stream",
     "text": [
      "/home/sean/anaconda3/lib/python3.7/site-packages/sklearn/metrics/pairwise.py:1735: DataConversionWarning: Data was converted to boolean for metric jaccard\n",
      "  warnings.warn(msg, DataConversionWarning)\n"
     ]
    }
   ],
   "source": [
    "cos_sim = cosine_similarity(df.values)\n",
    "\n",
    "jac_sim = jaccard_similarity(df.values)"
   ]
  },
  {
   "cell_type": "markdown",
   "metadata": {},
   "source": [
    "<b>Recommendations should probably exclude titles from the same franchise.  \n",
    "For example, try getting recommendations for Ghost in the Shell.  \n",
    "If you already know you like Ghost in the Shell, it's pretty easy to find others in the same franchise if that's what you want.  </b>"
   ]
  },
  {
   "cell_type": "code",
   "execution_count": null,
   "metadata": {},
   "outputs": [],
   "source": []
  },
  {
   "cell_type": "markdown",
   "metadata": {},
   "source": [
    "First of all, our rudimentary search engine is failing..."
   ]
  },
  {
   "cell_type": "code",
   "execution_count": 23,
   "metadata": {},
   "outputs": [
    {
     "name": "stdout",
     "output_type": "stream",
     "text": [
      "Closest match:  ['Ghost Hunt']\n"
     ]
    },
    {
     "data": {
      "text/plain": [
       "['Gregory Horror Show: The Bloody Karte',\n",
       " 'Dusk Maiden of Amnesia: Exorcism Maiden',\n",
       " 'Spooky Kitaro',\n",
       " 'Gregory Horror Show: The Last Train',\n",
       " 'Gregory Horror Show',\n",
       " 'Gegege no Kitarou (1968)',\n",
       " 'Purple Eyes in the Dark',\n",
       " 'Gui Shui Yi Yun',\n",
       " 'Zekkyou Gakkyuu: Tensei',\n",
       " \"Nanana's Buried Treasure\"]"
      ]
     },
     "execution_count": 23,
     "metadata": {},
     "output_type": "execute_result"
    }
   ],
   "source": [
    "search_term='Ghost in the Shell'\n",
    "rec_list = get_top_n_recommendations(search_term, df, cos_sim, n=10)\n",
    "rec_list"
   ]
  },
  {
   "cell_type": "code",
   "execution_count": null,
   "metadata": {},
   "outputs": [],
   "source": []
  },
  {
   "cell_type": "code",
   "execution_count": 24,
   "metadata": {},
   "outputs": [
    {
     "name": "stdout",
     "output_type": "stream",
     "text": [
      "Closest match:  [\"Wolf's Rain\"]\n",
      "-----\n",
      "Top 5 based on Wolf's Rain: \n",
      "['Pokémon: Lucario and the Mystery of Mew', 'Final Fantasy VII: Last Order', 'Texhnolyze', 'Wan Wan Chuushingura', \"Wolf's Rain OVA\"]\n"
     ]
    }
   ],
   "source": [
    "search_term= \"Wolf's Rain\"\n",
    "n = 5\n",
    "rec_list = get_top_n_recommendations(search_term, df, cos_sim, n=n)\n",
    "print('-----')\n",
    "print(f'Top {n} based on {search_term}: \\n{rec_list}')"
   ]
  },
  {
   "cell_type": "code",
   "execution_count": 25,
   "metadata": {
    "scrolled": true
   },
   "outputs": [
    {
     "name": "stdout",
     "output_type": "stream",
     "text": [
      "The terms \"Wolf's Rain\" and \"Pokémon: Lucario and the Mystery of Mew\" are 28.00% alike.\n",
      "The terms \"Wolf's Rain\" and \"Final Fantasy VII: Last Order\" are 30.00% alike.\n",
      "The terms \"Wolf's Rain\" and \"Texhnolyze\" are 28.57% alike.\n",
      "The terms \"Wolf's Rain\" and \"Wan Wan Chuushingura\" are 38.71% alike.\n",
      "The terms \"Wolf's Rain\" and \"Wolf's Rain OVA\" are 84.62% alike.\n"
     ]
    }
   ],
   "source": [
    "view_title_similarity(search_term, rec_list)"
   ]
  },
  {
   "cell_type": "markdown",
   "metadata": {},
   "source": [
    "Why is a Pokemon movie showing up as a recommendation based on Wolf's Rain?"
   ]
  },
  {
   "cell_type": "markdown",
   "metadata": {},
   "source": [
    "## Understanding Bad Recommendations"
   ]
  },
  {
   "cell_type": "markdown",
   "metadata": {},
   "source": [
    "<tr>\n",
    "    <td> <img src=\"https://upload.wikimedia.org/wikipedia/en/thumb/4/43/Wolf%27s_Rain_Region_2_Volume_1.jpg/220px-Wolf%27s_Rain_Region_2_Volume_1.jpg\" alt=\"Drawing\" style=\"width: 250px;\"/> </td>\n",
    "    <td> <img src=\"https://upload.wikimedia.org/wikipedia/en/thumb/9/95/Pok%C3%A9mon_Lucario_film_poster.jpg/220px-Pok%C3%A9mon_Lucario_film_poster.jpg\" alt=\"Drawing\" style=\"width: 250px;\"/> </td>\n",
    "    </tr>"
   ]
  },
  {
   "cell_type": "code",
   "execution_count": 26,
   "metadata": {},
   "outputs": [],
   "source": [
    "wr_id = title_df[title_df['english'] == \"Wolf's Rain\"].index\n",
    "wr_df = df.loc[wr_id,:]"
   ]
  },
  {
   "cell_type": "code",
   "execution_count": 27,
   "metadata": {},
   "outputs": [
    {
     "data": {
      "text/html": [
       "<div>\n",
       "<style scoped>\n",
       "    .dataframe tbody tr th:only-of-type {\n",
       "        vertical-align: middle;\n",
       "    }\n",
       "\n",
       "    .dataframe tbody tr th {\n",
       "        vertical-align: top;\n",
       "    }\n",
       "\n",
       "    .dataframe thead th {\n",
       "        text-align: right;\n",
       "    }\n",
       "</style>\n",
       "<table border=\"1\" class=\"dataframe\">\n",
       "  <thead>\n",
       "    <tr style=\"text-align: right;\">\n",
       "      <th></th>\n",
       "      <th>action</th>\n",
       "      <th>adventure</th>\n",
       "      <th>drama</th>\n",
       "      <th>fantasy</th>\n",
       "      <th>mystery</th>\n",
       "      <th>sci_fi</th>\n",
       "      <th>animals</th>\n",
       "      <th>dystopian</th>\n",
       "      <th>post_apocalyptic</th>\n",
       "      <th>primarily_adult_cast</th>\n",
       "      <th>survival</th>\n",
       "      <th>tragedy</th>\n",
       "      <th>werewolf</th>\n",
       "    </tr>\n",
       "    <tr>\n",
       "      <th>id</th>\n",
       "      <th></th>\n",
       "      <th></th>\n",
       "      <th></th>\n",
       "      <th></th>\n",
       "      <th></th>\n",
       "      <th></th>\n",
       "      <th></th>\n",
       "      <th></th>\n",
       "      <th></th>\n",
       "      <th></th>\n",
       "      <th></th>\n",
       "      <th></th>\n",
       "      <th></th>\n",
       "    </tr>\n",
       "  </thead>\n",
       "  <tbody>\n",
       "    <tr>\n",
       "      <th>202</th>\n",
       "      <td>1</td>\n",
       "      <td>1</td>\n",
       "      <td>1</td>\n",
       "      <td>1</td>\n",
       "      <td>1</td>\n",
       "      <td>1</td>\n",
       "      <td>1</td>\n",
       "      <td>1</td>\n",
       "      <td>1</td>\n",
       "      <td>1</td>\n",
       "      <td>1</td>\n",
       "      <td>1</td>\n",
       "      <td>1</td>\n",
       "    </tr>\n",
       "  </tbody>\n",
       "</table>\n",
       "</div>"
      ],
      "text/plain": [
       "     action  adventure  drama  fantasy  mystery  sci_fi  animals  dystopian  \\\n",
       "id                                                                            \n",
       "202       1          1      1        1        1       1        1          1   \n",
       "\n",
       "     post_apocalyptic  primarily_adult_cast  survival  tragedy  werewolf  \n",
       "id                                                                        \n",
       "202                 1                     1         1        1         1  "
      ]
     },
     "execution_count": 27,
     "metadata": {},
     "output_type": "execute_result"
    }
   ],
   "source": [
    "# Genres and tags for Wolf's Rain\n",
    "wr_df.loc[:, (wr_df != 0).any(axis=0)]"
   ]
  },
  {
   "cell_type": "code",
   "execution_count": 28,
   "metadata": {},
   "outputs": [],
   "source": [
    "pk_id = title_df[title_df['english'] == \"Pokémon: Lucario and the Mystery of Mew\"].index\n",
    "pk_df = df.loc[pk_id,:]"
   ]
  },
  {
   "cell_type": "code",
   "execution_count": 29,
   "metadata": {},
   "outputs": [
    {
     "data": {
      "text/html": [
       "<div>\n",
       "<style scoped>\n",
       "    .dataframe tbody tr th:only-of-type {\n",
       "        vertical-align: middle;\n",
       "    }\n",
       "\n",
       "    .dataframe tbody tr th {\n",
       "        vertical-align: top;\n",
       "    }\n",
       "\n",
       "    .dataframe thead th {\n",
       "        text-align: right;\n",
       "    }\n",
       "</style>\n",
       "<table border=\"1\" class=\"dataframe\">\n",
       "  <thead>\n",
       "    <tr style=\"text-align: right;\">\n",
       "      <th></th>\n",
       "      <th>action</th>\n",
       "      <th>adventure</th>\n",
       "      <th>drama</th>\n",
       "      <th>fantasy</th>\n",
       "      <th>animals</th>\n",
       "      <th>kids</th>\n",
       "    </tr>\n",
       "    <tr>\n",
       "      <th>id</th>\n",
       "      <th></th>\n",
       "      <th></th>\n",
       "      <th></th>\n",
       "      <th></th>\n",
       "      <th></th>\n",
       "      <th></th>\n",
       "    </tr>\n",
       "  </thead>\n",
       "  <tbody>\n",
       "    <tr>\n",
       "      <th>1526</th>\n",
       "      <td>1</td>\n",
       "      <td>1</td>\n",
       "      <td>1</td>\n",
       "      <td>1</td>\n",
       "      <td>1</td>\n",
       "      <td>1</td>\n",
       "    </tr>\n",
       "  </tbody>\n",
       "</table>\n",
       "</div>"
      ],
      "text/plain": [
       "      action  adventure  drama  fantasy  animals  kids\n",
       "id                                                    \n",
       "1526       1          1      1        1        1     1"
      ]
     },
     "execution_count": 29,
     "metadata": {},
     "output_type": "execute_result"
    }
   ],
   "source": [
    "# Genres and tags for Pokémon: Lucario and the Mystery of Mew\n",
    "pk_df.loc[:, (pk_df != 0).any(axis=0)]"
   ]
  },
  {
   "cell_type": "markdown",
   "metadata": {},
   "source": [
    "Would it be wise to give a heavier weight to the \"kids\" column?"
   ]
  },
  {
   "cell_type": "code",
   "execution_count": 30,
   "metadata": {},
   "outputs": [
    {
     "data": {
      "text/plain": [
       "782"
      ]
     },
     "execution_count": 30,
     "metadata": {},
     "output_type": "execute_result"
    }
   ],
   "source": [
    "sum(df['kids'])"
   ]
  },
  {
   "cell_type": "code",
   "execution_count": 31,
   "metadata": {},
   "outputs": [
    {
     "data": {
      "image/png": "[encoded data removed]",
      "text/plain": [
       "<Figure size 576x396 with 1 Axes>"
      ]
     },
     "metadata": {},
     "output_type": "display_data"
    }
   ],
   "source": [
    "plt.hist(df['kids']);"
   ]
  },
  {
   "cell_type": "code",
   "execution_count": 32,
   "metadata": {},
   "outputs": [
    {
     "data": {
      "image/png": "[encoded data removed]",
      "text/plain": [
       "<Figure size 576x396 with 1 Axes>"
      ]
     },
     "metadata": {},
     "output_type": "display_data"
    }
   ],
   "source": [
    "plt.hist(total_per_feature, bins=50)\n",
    "plt.ylabel('Number of Tags')\n",
    "plt.xlabel('Total Number of Shows Per Tag');"
   ]
  },
  {
   "cell_type": "code",
   "execution_count": 33,
   "metadata": {},
   "outputs": [
    {
     "name": "stdout",
     "output_type": "stream",
     "text": [
      "comedy 3846\n",
      "action 2635\n",
      "adventure 2097\n",
      "fantasy 1955\n",
      "drama 1875\n",
      "sci_fi 1830\n",
      "shounen 1681\n",
      "romance 1413\n",
      "school 1390\n",
      "slice_of_life 1252\n",
      "male_protagonist 1235\n",
      "female_protagonist 1031\n",
      "music 959\n",
      "supernatural 946\n",
      "magic 857\n",
      "mecha 816\n",
      "kids 782\n",
      "primarily_female_cast 773\n",
      "super_power 640\n",
      "ecchi 614\n",
      "seinen 612\n",
      "historical 610\n",
      "shoujo 576\n",
      "sports 521\n",
      "mystery 518\n",
      "military 438\n",
      "parody 434\n",
      "tragedy 411\n",
      "primarily_adult_cast 386\n",
      "space 377\n",
      "demons 370\n",
      "harem 364\n",
      "horror 343\n",
      "primarily_male_cast 340\n",
      "nudity 338\n",
      "animals 336\n",
      "aliens 319\n",
      "psychological 318\n",
      "cute_girls_doing_cute_things 313\n",
      "episodic 310\n",
      "swordplay 297\n",
      "henshin 287\n",
      "ensemble_cast 287\n",
      "cgi 279\n",
      "urban_fantasy 270\n",
      "coming_of_age 269\n",
      "love_triangle 252\n",
      "yuri 250\n",
      "war 249\n",
      "mahou_shoujo 249\n",
      "idol 245\n",
      "robots 244\n",
      "isekai 243\n",
      "foreign 240\n",
      "gore 238\n",
      "police 207\n",
      "school_club 203\n",
      "primarily_child_cast 191\n",
      "time_manipulation 191\n",
      "full_cgi 186\n",
      "guns 181\n",
      "work 179\n",
      "post_apocalyptic 172\n",
      "gods 168\n",
      "super_robot 167\n",
      "meta 167\n",
      "surreal_comedy 166\n",
      "real_robot 159\n",
      "martial_arts 152\n",
      "chibi 148\n",
      "revenge 147\n",
      "tsundere 145\n",
      "rural 144\n",
      "philosophy 143\n",
      "mythology 140\n",
      "politics 135\n",
      "anti_hero 135\n",
      "family_life 135\n",
      "amnesia 131\n",
      "vampire 128\n",
      "slapstick 123\n",
      "twins 121\n",
      "boys_love 121\n",
      "crossdressing 117\n",
      "thriller 114\n",
      "detective 113\n",
      "dystopian 111\n",
      "alternate_universe 111\n",
      "food 109\n",
      "youkai 109\n",
      "musical 106\n",
      "fugitive 106\n",
      "time_skip 105\n",
      "advertisement 103\n",
      "ghost 103\n",
      "classic_literature 102\n",
      "dragons 102\n",
      "artificial_intelligence 101\n",
      "bullying 97\n",
      "educational 95\n",
      "cyberpunk 94\n",
      "band 92\n",
      "card_battle 91\n",
      "iyashikei 91\n",
      "otaku_culture 91\n",
      "memory_manipulation 91\n",
      "samurai 89\n",
      "crime 88\n",
      "video_games 87\n",
      "virtual_world 86\n",
      "trains 82\n",
      "kemonomimi 82\n",
      "cars 82\n",
      "conspiracy 81\n",
      "no_dialogue 81\n",
      "body_horror 80\n",
      "stop_motion 78\n",
      "urban 78\n",
      "maids 78\n",
      "baseball 78\n",
      "gender_bending 77\n",
      "delinquents 73\n",
      "age_gap 72\n",
      "reverse_harem 71\n",
      "dancing 69\n",
      "aviation 68\n",
      "survival 66\n",
      "crossover 66\n",
      "reincarnation 66\n",
      "dissociative_identities 66\n",
      "age_regression 65\n",
      "ninja 65\n",
      "superhero 63\n",
      "monster_girl 61\n",
      "nekomimi 60\n",
      "witch 59\n",
      "pirates 58\n",
      "achronological_order 58\n",
      "kaiju 57\n",
      "space_opera 57\n",
      "josei 56\n",
      "lost_civilization 56\n",
      "battle_royale 55\n",
      "motorcycles 55\n",
      "ships 55\n",
      "assassins 55\n",
      "gangs 55\n",
      "terrorism 54\n",
      "chuunibyou 54\n",
      "zombie 53\n",
      "anachronism 53\n",
      "teacher 52\n",
      "satire 50\n",
      "football 49\n",
      "afterlife 49\n",
      "environmental 47\n",
      "yandere 45\n",
      "elf 44\n",
      "drawing 43\n",
      "steampunk 43\n",
      "acting 43\n",
      "college 43\n",
      "lgbtq_issues 42\n",
      "body_swapping 36\n",
      "mafia 36\n",
      "tennis 35\n",
      "basketball 35\n",
      "boxing 34\n",
      "anthology 34\n",
      "yakuza 34\n",
      "tokusatsu 32\n",
      "shrine_maiden 32\n",
      "rehabilitation 32\n",
      "cultivation 31\n",
      "outdoor 31\n",
      "denpa 31\n",
      "photography 30\n",
      "slavery 30\n",
      "drugs 30\n",
      "espionage 30\n",
      "swimming 29\n",
      "hikikomori 29\n",
      "fairy_tale 29\n",
      "cosmic_horror 28\n",
      "dinosaurs 27\n",
      "language_barrier 27\n",
      "mermaid 27\n",
      "archery 27\n",
      "bar 27\n",
      "skeleton 25\n",
      "werewolf 24\n",
      "tanks 23\n",
      "fashion 23\n",
      "bisexual 23\n",
      "noir 22\n",
      "rape 22\n",
      "volleyball 22\n",
      "fishing 21\n",
      "cycling 21\n",
      "death_game 21\n",
      "gambling 21\n",
      "wrestling 20\n",
      "athletics 20\n",
      "flash 20\n",
      "cosplay 19\n",
      "circus 19\n",
      "office_lady 18\n",
      "succubus 17\n",
      "puppetry 17\n",
      "mahjong 17\n",
      "goblin 17\n",
      "astronomy 17\n",
      "writing 15\n",
      "mopeds 15\n",
      "dungeon 15\n",
      "medicine 15\n",
      "dullahan 15\n",
      "software_development 15\n",
      "augmented_reality 15\n",
      "nun 15\n",
      "incest 14\n",
      "fitness 14\n",
      "economics 14\n",
      "gyaru 13\n",
      "ice_skating 13\n",
      "biographical 12\n",
      "agender 12\n",
      "rotoscoping 11\n",
      "4_koma 9\n",
      "autobiographical 9\n",
      "triads 8\n",
      "cult 8\n",
      "golf 8\n",
      "oiran 8\n",
      "poker 6\n",
      "karuta 6\n",
      "shogi 6\n",
      "american_football 6\n",
      "rakugo 6\n",
      "firefighters 6\n",
      "cheerleading 5\n",
      "centaur 5\n",
      "bondage 5\n",
      "airsoft 5\n",
      "netorare 4\n",
      "go 4\n",
      "asexual 4\n",
      "calligraphy 4\n",
      "table_tennis 4\n",
      "lacrosse 4\n",
      "ero_guro 4\n",
      "surfing 3\n",
      "rugby 3\n",
      "wuxia 3\n",
      "teens_love 3\n",
      "vikings 2\n",
      "badminton 2\n",
      "masturbation 1\n",
      "feet 1\n",
      "voyeur 1\n",
      "urination 1\n",
      "full_color 1\n",
      "pov 1\n",
      "prostitution 1\n",
      "reformation 1\n"
     ]
    }
   ],
   "source": [
    "for tag, count in total_per_feature.sort_values(ascending=False).iteritems():\n",
    "    print(tag, count)"
   ]
  },
  {
   "cell_type": "markdown",
   "metadata": {},
   "source": [
    "<b>Would like to penalize features that describe a large number of shows (i.e. comedy) and give a heavier weight to those that describe fewer shows.  \n",
    "The normalization should be strong enough to not recommend a Pokemon movie when looking at \"Wolf's Rain\" but not so strong that all recommendations are based on the rarest tag. </b>"
   ]
  },
  {
   "cell_type": "code",
   "execution_count": null,
   "metadata": {},
   "outputs": [],
   "source": []
  },
  {
   "cell_type": "code",
   "execution_count": null,
   "metadata": {},
   "outputs": [],
   "source": []
  },
  {
   "cell_type": "markdown",
   "metadata": {},
   "source": [
    "## Using Anilist's API search"
   ]
  },
  {
   "cell_type": "code",
   "execution_count": 34,
   "metadata": {},
   "outputs": [],
   "source": [
    "def get_search_term(initial_search):\n",
    "    '''Search the AniList API for a show based on a query.\n",
    "    \n",
    "    Returns the user preferred title \n",
    "    '''\n",
    "    query = '''\n",
    "    query ($search: String) {\n",
    "      Media (type: ANIME, search: $search) {\n",
    "        id\n",
    "        title {\n",
    "          romaji\n",
    "          english\n",
    "          native\n",
    "          userPreferred\n",
    "        }\n",
    "      }\n",
    "    }\n",
    "    '''\n",
    "    variables = {'search': initial_search}\n",
    "\n",
    "    url = 'https://graphql.anilist.co'\n",
    "    response = requests.post(url, \n",
    "                             json={'query': query, \n",
    "                                   'variables': variables})\n",
    "    user_preferred_title = response.json()['data']['Media']['title']['userPreferred']\n",
    "\n",
    "    return user_preferred_title"
   ]
  },
  {
   "cell_type": "code",
   "execution_count": 47,
   "metadata": {},
   "outputs": [],
   "source": [
    "initial_search = 'Ghost in the Shell'"
   ]
  },
  {
   "cell_type": "code",
   "execution_count": 36,
   "metadata": {},
   "outputs": [
    {
     "name": "stdout",
     "output_type": "stream",
     "text": [
      "Closest match:  ['Koukaku Kidoutai']\n"
     ]
    },
    {
     "data": {
      "text/plain": [
       "['Ghost in the Shell: Stand Alone Complex - The Laughing Man',\n",
       " 'Ghost in the Shell: Stand Alone Complex 2nd GIG',\n",
       " 'PSYCHO-PASS 2',\n",
       " 'Ghost in the Shell: Stand Alone Complex',\n",
       " 'PSYCHO-PASS']"
      ]
     },
     "execution_count": 36,
     "metadata": {},
     "output_type": "execute_result"
    }
   ],
   "source": [
    "# using cosine similarity \n",
    "search_term = get_search_term(initial_search)\n",
    "rec_list = get_top_n_recommendations(search_term, df, cos_sim, n=5)\n",
    "rec_list"
   ]
  },
  {
   "cell_type": "markdown",
   "metadata": {},
   "source": [
    "<b> The search is working but maybe we're returning too many from the same franchise.</b>"
   ]
  },
  {
   "cell_type": "code",
   "execution_count": 37,
   "metadata": {},
   "outputs": [
    {
     "name": "stdout",
     "output_type": "stream",
     "text": [
      "The terms \"Ghost in the Shell\" and \"Ghost in the Shell: Stand Alone Complex - The Laughing Man\" are 47.37% alike.\n",
      "The terms \"Ghost in the Shell\" and \"Ghost in the Shell: Stand Alone Complex 2nd GIG\" are 55.38% alike.\n",
      "The terms \"Ghost in the Shell\" and \"PSYCHO-PASS 2\" are 12.90% alike.\n",
      "The terms \"Ghost in the Shell\" and \"Ghost in the Shell: Stand Alone Complex\" are 63.16% alike.\n",
      "The terms \"Ghost in the Shell\" and \"PSYCHO-PASS\" are 6.90% alike.\n"
     ]
    }
   ],
   "source": [
    "view_title_similarity('Ghost in the Shell', rec_list)"
   ]
  },
  {
   "cell_type": "code",
   "execution_count": 38,
   "metadata": {},
   "outputs": [
    {
     "data": {
      "text/plain": [
       "0.5979381443298969"
      ]
     },
     "execution_count": 38,
     "metadata": {},
     "output_type": "execute_result"
    }
   ],
   "source": [
    "seq_matcher = SequenceMatcher(None, \n",
    "                              \"Ghost in the Shell Arise: Alternative Architecture\", \n",
    "                              \"Ghost in the Shell: Stand Alone Complex 2nd GIG\")\n",
    "seq_matcher.quick_ratio()"
   ]
  },
  {
   "cell_type": "markdown",
   "metadata": {},
   "source": [
    "This is one problem with the recommender. The recommendations are good but too many are not very useful for a user. Future work on the project would include going through and filtering out titles from the same franchise or only including one title per franchise. "
   ]
  },
  {
   "cell_type": "code",
   "execution_count": 99,
   "metadata": {},
   "outputs": [
    {
     "name": "stdout",
     "output_type": "stream",
     "text": [
      "Closest match:  ['Koukaku Kidoutai']\n"
     ]
    },
    {
     "data": {
      "text/plain": [
       "['Psycho-Pass: The Movie',\n",
       " 'Mardock Scramble: The First Compression',\n",
       " 'Ergo Proxy',\n",
       " 'Ghost in the Shell: SAC_2045',\n",
       " 'The Animatrix',\n",
       " 'Mardock Scramble: The Second Combustion',\n",
       " 'Ghost in the Shell: Arise - Border:2 Ghost Whispers',\n",
       " 'Ghost in the Shell: Arise - Border:3 Ghost Tears',\n",
       " 'Ghost in the Shell: Arise - Border:1 Ghost Pain',\n",
       " 'Ghost in the Shell: Arise - Border:4 Ghost Stands Alone',\n",
       " 'Ghost in the Shell: Stand Alone Complex - Solid State Society',\n",
       " 'Harmony',\n",
       " 'Ghost in the Shell Arise: Alternative Architecture',\n",
       " 'PSYCHO-PASS Sinners of the System Case 1: Tsumi to Batsu',\n",
       " 'Ghost in the Shell 2: Innocence',\n",
       " 'Ghost in the Shell: Stand Alone Complex - The Laughing Man',\n",
       " 'Ghost in the Shell: Stand Alone Complex 2nd GIG',\n",
       " 'PSYCHO-PASS 2',\n",
       " 'Ghost in the Shell: Stand Alone Complex',\n",
       " 'PSYCHO-PASS']"
      ]
     },
     "execution_count": 99,
     "metadata": {},
     "output_type": "execute_result"
    }
   ],
   "source": [
    "search_term = get_search_term(initial_search)\n",
    "rec_list = get_top_n_recommendations(search_term, df, cos_sim, n=20)\n",
    "rec_list"
   ]
  },
  {
   "cell_type": "code",
   "execution_count": null,
   "metadata": {},
   "outputs": [],
   "source": []
  },
  {
   "cell_type": "code",
   "execution_count": null,
   "metadata": {},
   "outputs": [],
   "source": []
  },
  {
   "cell_type": "markdown",
   "metadata": {},
   "source": [
    "## Comparing Cosine Similarity and Jaccard"
   ]
  },
  {
   "cell_type": "markdown",
   "metadata": {},
   "source": [
    "We can do Jaccard because our data is still binary"
   ]
  },
  {
   "cell_type": "markdown",
   "metadata": {},
   "source": [
    "### Samurai Champloo"
   ]
  },
  {
   "cell_type": "code",
   "execution_count": 39,
   "metadata": {},
   "outputs": [
    {
     "name": "stdout",
     "output_type": "stream",
     "text": [
      "What would you like to search for?Samurai Champloo\n"
     ]
    }
   ],
   "source": [
    "initial_search = 'Samurai Champloo'"
   ]
  },
  {
   "cell_type": "code",
   "execution_count": 40,
   "metadata": {},
   "outputs": [
    {
     "name": "stdout",
     "output_type": "stream",
     "text": [
      "Closest match:  ['Samurai Champloo']\n"
     ]
    },
    {
     "data": {
      "text/plain": [
       "['Boruto: Jump Festa 2016 Special',\n",
       " 'Samurai X Recap',\n",
       " 'Golden Kamuy OVA',\n",
       " 'Blade of the Immortal',\n",
       " \"Ranma ½: One Flew Over the Kuno's Nest\",\n",
       " 'Virtua Fighter',\n",
       " 'Lupin III: The Columbus Files',\n",
       " 'Time of Shura',\n",
       " 'Carried by the Wind: Tsukikage Ran',\n",
       " 'Rurouni Kenshin']"
      ]
     },
     "execution_count": 40,
     "metadata": {},
     "output_type": "execute_result"
    }
   ],
   "source": [
    "search_term = get_search_term(initial_search)\n",
    "rec_list = get_top_n_recommendations(search_term, df, cos_sim, n=10)\n",
    "rec_list"
   ]
  },
  {
   "cell_type": "code",
   "execution_count": 41,
   "metadata": {},
   "outputs": [
    {
     "name": "stdout",
     "output_type": "stream",
     "text": [
      "Closest match:  ['Samurai Champloo']\n"
     ]
    },
    {
     "data": {
      "text/plain": [
       "['Boruto: Jump Festa 2016 Special',\n",
       " 'Boruto: Naruto the Movie',\n",
       " 'Samurai X Recap',\n",
       " 'Peacemaker',\n",
       " 'DRIFTERS OVA',\n",
       " 'Virtua Fighter',\n",
       " 'Lupin III: The Columbus Files',\n",
       " 'Carried by the Wind: Tsukikage Ran',\n",
       " 'Time of Shura',\n",
       " 'Rurouni Kenshin']"
      ]
     },
     "execution_count": 41,
     "metadata": {},
     "output_type": "execute_result"
    }
   ],
   "source": [
    "search_term = get_search_term(initial_search)\n",
    "rec_list = get_top_n_recommendations(search_term, df, jac_sim, n=10)\n",
    "rec_list"
   ]
  },
  {
   "cell_type": "markdown",
   "metadata": {},
   "source": [
    "Cosine similarity and jaccard similarity are returning similar results."
   ]
  },
  {
   "cell_type": "code",
   "execution_count": 102,
   "metadata": {},
   "outputs": [],
   "source": [
    "def view_features(search_term, df):\n",
    "    _id = title_df[title_df['userPreferred'] == search_term].index\n",
    "    _df = df.loc[_id,:]\n",
    "    return list(_df.loc[:, (_df != 0).any(axis=0)].columns)"
   ]
  },
  {
   "cell_type": "code",
   "execution_count": 51,
   "metadata": {},
   "outputs": [
    {
     "data": {
      "text/plain": [
       "['action',\n",
       " 'adventure',\n",
       " 'comedy',\n",
       " 'anachronism',\n",
       " 'baseball',\n",
       " 'historical',\n",
       " 'martial_arts',\n",
       " 'primarily_adult_cast',\n",
       " 'rural',\n",
       " 'samurai',\n",
       " 'shounen',\n",
       " 'swordplay',\n",
       " 'yakuza']"
      ]
     },
     "execution_count": 51,
     "metadata": {},
     "output_type": "execute_result"
    }
   ],
   "source": [
    "champloo_tags = view_features(get_search_term('Samurai Champloo'), df)\n",
    "champloo_tags"
   ]
  },
  {
   "cell_type": "code",
   "execution_count": 48,
   "metadata": {},
   "outputs": [
    {
     "data": {
      "text/plain": [
       "['action', 'adventure', 'supernatural', 'historical', 'samurai', 'swordplay']"
      ]
     },
     "execution_count": 48,
     "metadata": {},
     "output_type": "execute_result"
    }
   ],
   "source": [
    "# Blade of the Immortal scored higher with cosine similarity than jaccard similarity\n",
    "blade_immortal_tags = view_features(get_search_term(\"Blade of the Immortal\"), df)\n",
    "blade_immortal_tags"
   ]
  },
  {
   "cell_type": "code",
   "execution_count": 49,
   "metadata": {},
   "outputs": [
    {
     "data": {
      "text/plain": [
       "['action', 'adventure', 'comedy', 'supernatural', 'martial_arts', 'shounen']"
      ]
     },
     "execution_count": 49,
     "metadata": {},
     "output_type": "execute_result"
    }
   ],
   "source": [
    "# \"Ranma ½: One Flew Over the Kuno's Nest\" scored higher with jaccard similarity than cosine similarity\n",
    "ranma_tags = view_features(get_search_term(\"Ranma ½: One Flew Over the Kuno's Nest\"), df)\n",
    "ranma_tags"
   ]
  },
  {
   "cell_type": "code",
   "execution_count": null,
   "metadata": {},
   "outputs": [],
   "source": []
  },
  {
   "cell_type": "markdown",
   "metadata": {},
   "source": [
    "Both have a \"supernatural\" tag while \"Samurai Champloo\" does not.  \n",
    "\"Action\" and \"Adventure\" are present for all three.  \n",
    "\"Blade of the Immortal\" shares \"historical\", \"samurai\", and \"swordplay\"  \n",
    "\"Ranma ½: One Flew Over the Kuno's Nest\" shares \"comedy\", \"martial_arts\", and \"shounen\"."
   ]
  },
  {
   "cell_type": "code",
   "execution_count": 100,
   "metadata": {
    "scrolled": true
   },
   "outputs": [
    {
     "data": {
      "image/png": "[encoded data removed]",
      "text/plain": [
       "<Figure size 576x396 with 1 Axes>"
      ]
     },
     "metadata": {},
     "output_type": "display_data"
    }
   ],
   "source": [
    "temp_categories = total_per_feature[total_per_feature.index.isin(['action', \n",
    "                                                                  'adventure', \n",
    "                                                                  'supernatural', \n",
    "                                                                  'historical', \n",
    "                                                                  'samurai', \n",
    "                                                                  'swordplay', \n",
    "                                                                  'comedy', \n",
    "                                                                  'martial_arts', \n",
    "                                                                  'shounen'])]\n",
    "plt.bar(temp_categories.index, temp_categories)\n",
    "plt.title('Number of Shows Per Genre/Tag');"
   ]
  },
  {
   "cell_type": "markdown",
   "metadata": {},
   "source": [
    "Not sure what's going on but it appears jaccard similarity may be favoring more common features.  \n",
    "To Be Continued..."
   ]
  },
  {
   "cell_type": "code",
   "execution_count": null,
   "metadata": {},
   "outputs": [],
   "source": []
  },
  {
   "cell_type": "markdown",
   "metadata": {},
   "source": [
    "## Diving into EDA"
   ]
  },
  {
   "cell_type": "code",
   "execution_count": 66,
   "metadata": {},
   "outputs": [
    {
     "data": {
      "image/png": "[encoded data removed]",
      "text/plain": [
       "<Figure size 864x576 with 2 Axes>"
      ]
     },
     "metadata": {},
     "output_type": "display_data"
    }
   ],
   "source": [
    "fig, ax = plt.subplots(2, 1, figsize=(12,8), sharex=True)\n",
    "ax[0].hist(total_per_feature, bins=100)\n",
    "ax[0].set_title('Number of Shows Per Genre/Tag')\n",
    "ax[0].set_ylabel('Tag Count')\n",
    "\n",
    "ax[1].boxplot(total_per_feature, vert=False)\n",
    "ax[1].set_xlabel('Anime Count');"
   ]
  },
  {
   "cell_type": "code",
   "execution_count": null,
   "metadata": {},
   "outputs": [],
   "source": []
  },
  {
   "cell_type": "markdown",
   "metadata": {},
   "source": [
    "## Weighing Features"
   ]
  },
  {
   "cell_type": "code",
   "execution_count": 68,
   "metadata": {},
   "outputs": [
    {
     "data": {
      "text/html": [
       "<div>\n",
       "<style scoped>\n",
       "    .dataframe tbody tr th:only-of-type {\n",
       "        vertical-align: middle;\n",
       "    }\n",
       "\n",
       "    .dataframe tbody tr th {\n",
       "        vertical-align: top;\n",
       "    }\n",
       "\n",
       "    .dataframe thead th {\n",
       "        text-align: right;\n",
       "    }\n",
       "</style>\n",
       "<table border=\"1\" class=\"dataframe\">\n",
       "  <thead>\n",
       "    <tr style=\"text-align: right;\">\n",
       "      <th></th>\n",
       "      <th>4_koma</th>\n",
       "      <th>achronological_order</th>\n",
       "      <th>acting</th>\n",
       "      <th>advertisement</th>\n",
       "      <th>afterlife</th>\n",
       "      <th>age_gap</th>\n",
       "      <th>age_regression</th>\n",
       "      <th>agender</th>\n",
       "      <th>airsoft</th>\n",
       "      <th>aliens</th>\n",
       "      <th>...</th>\n",
       "      <th>witch</th>\n",
       "      <th>work</th>\n",
       "      <th>wrestling</th>\n",
       "      <th>writing</th>\n",
       "      <th>wuxia</th>\n",
       "      <th>yakuza</th>\n",
       "      <th>yandere</th>\n",
       "      <th>youkai</th>\n",
       "      <th>yuri</th>\n",
       "      <th>zombie</th>\n",
       "    </tr>\n",
       "    <tr>\n",
       "      <th>id</th>\n",
       "      <th></th>\n",
       "      <th></th>\n",
       "      <th></th>\n",
       "      <th></th>\n",
       "      <th></th>\n",
       "      <th></th>\n",
       "      <th></th>\n",
       "      <th></th>\n",
       "      <th></th>\n",
       "      <th></th>\n",
       "      <th></th>\n",
       "      <th></th>\n",
       "      <th></th>\n",
       "      <th></th>\n",
       "      <th></th>\n",
       "      <th></th>\n",
       "      <th></th>\n",
       "      <th></th>\n",
       "      <th></th>\n",
       "      <th></th>\n",
       "      <th></th>\n",
       "    </tr>\n",
       "  </thead>\n",
       "  <tbody>\n",
       "    <tr>\n",
       "      <th>10161</th>\n",
       "      <td>0.0</td>\n",
       "      <td>0.0</td>\n",
       "      <td>0.0</td>\n",
       "      <td>0.0</td>\n",
       "      <td>0.0</td>\n",
       "      <td>0.0</td>\n",
       "      <td>0.0</td>\n",
       "      <td>0.0</td>\n",
       "      <td>0.0</td>\n",
       "      <td>0.0</td>\n",
       "      <td>...</td>\n",
       "      <td>0.0</td>\n",
       "      <td>0.0</td>\n",
       "      <td>0.0</td>\n",
       "      <td>0.0</td>\n",
       "      <td>0.0</td>\n",
       "      <td>0.0</td>\n",
       "      <td>0.44</td>\n",
       "      <td>0.0</td>\n",
       "      <td>0.0</td>\n",
       "      <td>0.0</td>\n",
       "    </tr>\n",
       "    <tr>\n",
       "      <th>99726</th>\n",
       "      <td>0.0</td>\n",
       "      <td>0.0</td>\n",
       "      <td>0.0</td>\n",
       "      <td>0.0</td>\n",
       "      <td>0.0</td>\n",
       "      <td>0.0</td>\n",
       "      <td>0.0</td>\n",
       "      <td>0.0</td>\n",
       "      <td>0.0</td>\n",
       "      <td>0.0</td>\n",
       "      <td>...</td>\n",
       "      <td>0.0</td>\n",
       "      <td>0.0</td>\n",
       "      <td>0.0</td>\n",
       "      <td>0.0</td>\n",
       "      <td>0.0</td>\n",
       "      <td>0.0</td>\n",
       "      <td>0.00</td>\n",
       "      <td>0.0</td>\n",
       "      <td>0.0</td>\n",
       "      <td>0.0</td>\n",
       "    </tr>\n",
       "    <tr>\n",
       "      <th>98526</th>\n",
       "      <td>0.0</td>\n",
       "      <td>0.0</td>\n",
       "      <td>0.0</td>\n",
       "      <td>0.0</td>\n",
       "      <td>0.0</td>\n",
       "      <td>0.0</td>\n",
       "      <td>0.0</td>\n",
       "      <td>0.0</td>\n",
       "      <td>0.0</td>\n",
       "      <td>0.0</td>\n",
       "      <td>...</td>\n",
       "      <td>0.0</td>\n",
       "      <td>0.0</td>\n",
       "      <td>0.0</td>\n",
       "      <td>0.0</td>\n",
       "      <td>0.0</td>\n",
       "      <td>0.0</td>\n",
       "      <td>0.00</td>\n",
       "      <td>0.0</td>\n",
       "      <td>0.0</td>\n",
       "      <td>0.0</td>\n",
       "    </tr>\n",
       "    <tr>\n",
       "      <th>966</th>\n",
       "      <td>0.0</td>\n",
       "      <td>0.0</td>\n",
       "      <td>0.0</td>\n",
       "      <td>0.0</td>\n",
       "      <td>0.0</td>\n",
       "      <td>0.0</td>\n",
       "      <td>0.0</td>\n",
       "      <td>0.0</td>\n",
       "      <td>0.0</td>\n",
       "      <td>0.0</td>\n",
       "      <td>...</td>\n",
       "      <td>0.0</td>\n",
       "      <td>0.0</td>\n",
       "      <td>0.0</td>\n",
       "      <td>0.0</td>\n",
       "      <td>0.0</td>\n",
       "      <td>0.0</td>\n",
       "      <td>0.00</td>\n",
       "      <td>0.0</td>\n",
       "      <td>0.0</td>\n",
       "      <td>0.0</td>\n",
       "    </tr>\n",
       "    <tr>\n",
       "      <th>4876</th>\n",
       "      <td>0.0</td>\n",
       "      <td>0.0</td>\n",
       "      <td>0.0</td>\n",
       "      <td>0.0</td>\n",
       "      <td>0.0</td>\n",
       "      <td>0.0</td>\n",
       "      <td>0.0</td>\n",
       "      <td>0.0</td>\n",
       "      <td>0.0</td>\n",
       "      <td>0.0</td>\n",
       "      <td>...</td>\n",
       "      <td>0.0</td>\n",
       "      <td>0.0</td>\n",
       "      <td>0.0</td>\n",
       "      <td>0.0</td>\n",
       "      <td>0.0</td>\n",
       "      <td>0.0</td>\n",
       "      <td>0.00</td>\n",
       "      <td>0.0</td>\n",
       "      <td>0.0</td>\n",
       "      <td>0.0</td>\n",
       "    </tr>\n",
       "  </tbody>\n",
       "</table>\n",
       "<p>5 rows × 247 columns</p>\n",
       "</div>"
      ],
      "text/plain": [
       "       4_koma  achronological_order  acting  advertisement  afterlife  \\\n",
       "id                                                                      \n",
       "10161     0.0                   0.0     0.0            0.0        0.0   \n",
       "99726     0.0                   0.0     0.0            0.0        0.0   \n",
       "98526     0.0                   0.0     0.0            0.0        0.0   \n",
       "966       0.0                   0.0     0.0            0.0        0.0   \n",
       "4876      0.0                   0.0     0.0            0.0        0.0   \n",
       "\n",
       "       age_gap  age_regression  agender  airsoft  aliens  ...  witch  work  \\\n",
       "id                                                        ...                \n",
       "10161      0.0             0.0      0.0      0.0     0.0  ...    0.0   0.0   \n",
       "99726      0.0             0.0      0.0      0.0     0.0  ...    0.0   0.0   \n",
       "98526      0.0             0.0      0.0      0.0     0.0  ...    0.0   0.0   \n",
       "966        0.0             0.0      0.0      0.0     0.0  ...    0.0   0.0   \n",
       "4876       0.0             0.0      0.0      0.0     0.0  ...    0.0   0.0   \n",
       "\n",
       "       wrestling  writing  wuxia  yakuza  yandere  youkai  yuri  zombie  \n",
       "id                                                                       \n",
       "10161        0.0      0.0    0.0     0.0     0.44     0.0   0.0     0.0  \n",
       "99726        0.0      0.0    0.0     0.0     0.00     0.0   0.0     0.0  \n",
       "98526        0.0      0.0    0.0     0.0     0.00     0.0   0.0     0.0  \n",
       "966          0.0      0.0    0.0     0.0     0.00     0.0   0.0     0.0  \n",
       "4876         0.0      0.0    0.0     0.0     0.00     0.0   0.0     0.0  \n",
       "\n",
       "[5 rows x 247 columns]"
      ]
     },
     "execution_count": 68,
     "metadata": {},
     "output_type": "execute_result"
    }
   ],
   "source": [
    "tag_rank_item_matrix.head()"
   ]
  },
  {
   "cell_type": "code",
   "execution_count": 69,
   "metadata": {},
   "outputs": [
    {
     "data": {
      "text/html": [
       "<div>\n",
       "<style scoped>\n",
       "    .dataframe tbody tr th:only-of-type {\n",
       "        vertical-align: middle;\n",
       "    }\n",
       "\n",
       "    .dataframe tbody tr th {\n",
       "        vertical-align: top;\n",
       "    }\n",
       "\n",
       "    .dataframe thead th {\n",
       "        text-align: right;\n",
       "    }\n",
       "</style>\n",
       "<table border=\"1\" class=\"dataframe\">\n",
       "  <thead>\n",
       "    <tr style=\"text-align: right;\">\n",
       "      <th></th>\n",
       "      <th>action</th>\n",
       "      <th>adventure</th>\n",
       "      <th>comedy</th>\n",
       "      <th>drama</th>\n",
       "      <th>ecchi</th>\n",
       "      <th>fantasy</th>\n",
       "      <th>horror</th>\n",
       "      <th>mahou_shoujo</th>\n",
       "      <th>mecha</th>\n",
       "      <th>music</th>\n",
       "      <th>...</th>\n",
       "      <th>witch</th>\n",
       "      <th>work</th>\n",
       "      <th>wrestling</th>\n",
       "      <th>writing</th>\n",
       "      <th>wuxia</th>\n",
       "      <th>yakuza</th>\n",
       "      <th>yandere</th>\n",
       "      <th>youkai</th>\n",
       "      <th>yuri</th>\n",
       "      <th>zombie</th>\n",
       "    </tr>\n",
       "    <tr>\n",
       "      <th>id</th>\n",
       "      <th></th>\n",
       "      <th></th>\n",
       "      <th></th>\n",
       "      <th></th>\n",
       "      <th></th>\n",
       "      <th></th>\n",
       "      <th></th>\n",
       "      <th></th>\n",
       "      <th></th>\n",
       "      <th></th>\n",
       "      <th></th>\n",
       "      <th></th>\n",
       "      <th></th>\n",
       "      <th></th>\n",
       "      <th></th>\n",
       "      <th></th>\n",
       "      <th></th>\n",
       "      <th></th>\n",
       "      <th></th>\n",
       "      <th></th>\n",
       "      <th></th>\n",
       "    </tr>\n",
       "  </thead>\n",
       "  <tbody>\n",
       "    <tr>\n",
       "      <th>10161</th>\n",
       "      <td>1</td>\n",
       "      <td>0</td>\n",
       "      <td>0</td>\n",
       "      <td>1</td>\n",
       "      <td>0</td>\n",
       "      <td>0</td>\n",
       "      <td>0</td>\n",
       "      <td>0</td>\n",
       "      <td>0</td>\n",
       "      <td>0</td>\n",
       "      <td>...</td>\n",
       "      <td>0.0</td>\n",
       "      <td>0.0</td>\n",
       "      <td>0.0</td>\n",
       "      <td>0.0</td>\n",
       "      <td>0.0</td>\n",
       "      <td>0.0</td>\n",
       "      <td>0.44</td>\n",
       "      <td>0.0</td>\n",
       "      <td>0.0</td>\n",
       "      <td>0.0</td>\n",
       "    </tr>\n",
       "    <tr>\n",
       "      <th>99726</th>\n",
       "      <td>0</td>\n",
       "      <td>1</td>\n",
       "      <td>1</td>\n",
       "      <td>0</td>\n",
       "      <td>0</td>\n",
       "      <td>1</td>\n",
       "      <td>0</td>\n",
       "      <td>0</td>\n",
       "      <td>0</td>\n",
       "      <td>0</td>\n",
       "      <td>...</td>\n",
       "      <td>0.0</td>\n",
       "      <td>0.0</td>\n",
       "      <td>0.0</td>\n",
       "      <td>0.0</td>\n",
       "      <td>0.0</td>\n",
       "      <td>0.0</td>\n",
       "      <td>0.00</td>\n",
       "      <td>0.0</td>\n",
       "      <td>0.0</td>\n",
       "      <td>0.0</td>\n",
       "    </tr>\n",
       "    <tr>\n",
       "      <th>98526</th>\n",
       "      <td>1</td>\n",
       "      <td>0</td>\n",
       "      <td>0</td>\n",
       "      <td>1</td>\n",
       "      <td>0</td>\n",
       "      <td>0</td>\n",
       "      <td>0</td>\n",
       "      <td>0</td>\n",
       "      <td>0</td>\n",
       "      <td>0</td>\n",
       "      <td>...</td>\n",
       "      <td>0.0</td>\n",
       "      <td>0.0</td>\n",
       "      <td>0.0</td>\n",
       "      <td>0.0</td>\n",
       "      <td>0.0</td>\n",
       "      <td>0.0</td>\n",
       "      <td>0.00</td>\n",
       "      <td>0.0</td>\n",
       "      <td>0.0</td>\n",
       "      <td>0.0</td>\n",
       "    </tr>\n",
       "    <tr>\n",
       "      <th>966</th>\n",
       "      <td>0</td>\n",
       "      <td>0</td>\n",
       "      <td>1</td>\n",
       "      <td>0</td>\n",
       "      <td>1</td>\n",
       "      <td>0</td>\n",
       "      <td>0</td>\n",
       "      <td>0</td>\n",
       "      <td>0</td>\n",
       "      <td>0</td>\n",
       "      <td>...</td>\n",
       "      <td>0.0</td>\n",
       "      <td>0.0</td>\n",
       "      <td>0.0</td>\n",
       "      <td>0.0</td>\n",
       "      <td>0.0</td>\n",
       "      <td>0.0</td>\n",
       "      <td>0.00</td>\n",
       "      <td>0.0</td>\n",
       "      <td>0.0</td>\n",
       "      <td>0.0</td>\n",
       "    </tr>\n",
       "    <tr>\n",
       "      <th>4876</th>\n",
       "      <td>1</td>\n",
       "      <td>1</td>\n",
       "      <td>0</td>\n",
       "      <td>1</td>\n",
       "      <td>0</td>\n",
       "      <td>0</td>\n",
       "      <td>0</td>\n",
       "      <td>0</td>\n",
       "      <td>0</td>\n",
       "      <td>0</td>\n",
       "      <td>...</td>\n",
       "      <td>0.0</td>\n",
       "      <td>0.0</td>\n",
       "      <td>0.0</td>\n",
       "      <td>0.0</td>\n",
       "      <td>0.0</td>\n",
       "      <td>0.0</td>\n",
       "      <td>0.00</td>\n",
       "      <td>0.0</td>\n",
       "      <td>0.0</td>\n",
       "      <td>0.0</td>\n",
       "    </tr>\n",
       "  </tbody>\n",
       "</table>\n",
       "<p>5 rows × 265 columns</p>\n",
       "</div>"
      ],
      "text/plain": [
       "       action  adventure  comedy  drama  ecchi  fantasy  horror  mahou_shoujo  \\\n",
       "id                                                                              \n",
       "10161       1          0       0      1      0        0       0             0   \n",
       "99726       0          1       1      0      0        1       0             0   \n",
       "98526       1          0       0      1      0        0       0             0   \n",
       "966         0          0       1      0      1        0       0             0   \n",
       "4876        1          1       0      1      0        0       0             0   \n",
       "\n",
       "       mecha  music  ...  witch  work  wrestling  writing  wuxia  yakuza  \\\n",
       "id                   ...                                                   \n",
       "10161      0      0  ...    0.0   0.0        0.0      0.0    0.0     0.0   \n",
       "99726      0      0  ...    0.0   0.0        0.0      0.0    0.0     0.0   \n",
       "98526      0      0  ...    0.0   0.0        0.0      0.0    0.0     0.0   \n",
       "966        0      0  ...    0.0   0.0        0.0      0.0    0.0     0.0   \n",
       "4876       0      0  ...    0.0   0.0        0.0      0.0    0.0     0.0   \n",
       "\n",
       "       yandere  youkai  yuri  zombie  \n",
       "id                                    \n",
       "10161     0.44     0.0   0.0     0.0  \n",
       "99726     0.00     0.0   0.0     0.0  \n",
       "98526     0.00     0.0   0.0     0.0  \n",
       "966       0.00     0.0   0.0     0.0  \n",
       "4876      0.00     0.0   0.0     0.0  \n",
       "\n",
       "[5 rows x 265 columns]"
      ]
     },
     "execution_count": 69,
     "metadata": {},
     "output_type": "execute_result"
    }
   ],
   "source": [
    "df_w_rank = pd.concat([genres_item_matrix, tag_rank_item_matrix], axis=1)\n",
    "df_w_rank.head()"
   ]
  },
  {
   "cell_type": "code",
   "execution_count": 77,
   "metadata": {},
   "outputs": [],
   "source": [
    "cos_sim_rank = cosine_similarity(df_w_rank.values)\n",
    "cos_sim = cosine_similarity(df.values)\n",
    "\n"
   ]
  },
  {
   "cell_type": "code",
   "execution_count": 105,
   "metadata": {},
   "outputs": [
    {
     "name": "stdout",
     "output_type": "stream",
     "text": [
      "Closest match:  [\"Wolf's Rain\"]\n"
     ]
    },
    {
     "data": {
      "text/plain": [
       "['Pokémon: Lucario and the Mystery of Mew',\n",
       " 'Final Fantasy VII: Last Order',\n",
       " 'Texhnolyze',\n",
       " 'Wan Wan Chuushingura',\n",
       " \"Wolf's Rain OVA\"]"
      ]
     },
     "execution_count": 105,
     "metadata": {},
     "output_type": "execute_result"
    }
   ],
   "source": [
    "# boolean matrix\n",
    "search_term= \"Wolf's Rain\"\n",
    "rec_list = get_top_n_recommendations(search_term, df, cos_sim, n=5)\n",
    "rec_list"
   ]
  },
  {
   "cell_type": "code",
   "execution_count": 104,
   "metadata": {},
   "outputs": [
    {
     "name": "stdout",
     "output_type": "stream",
     "text": [
      "Closest match:  [\"Wolf's Rain\"]\n"
     ]
    },
    {
     "data": {
      "text/plain": [
       "['Wan Wan Chuushingura',\n",
       " \"Wolf's Rain OVA\",\n",
       " 'Galilei Donna',\n",
       " 'Jyu-Oh-Sei: Planet of the Beast King',\n",
       " 'Final Fantasy VII: Last Order']"
      ]
     },
     "execution_count": 104,
     "metadata": {},
     "output_type": "execute_result"
    }
   ],
   "source": [
    "# Accounting for tag relevance to title\n",
    "search_term= \"Wolf's Rain\"\n",
    "rec_list = get_top_n_recommendations(search_term, df_w_rank, cos_sim_rank, n=5)\n",
    "rec_list"
   ]
  },
  {
   "cell_type": "markdown",
   "metadata": {},
   "source": [
    "<b>Using rank got rid of the Pokemon recommendation! That's a good sign.</b>  \n",
    "'Wan Wan Chuushingura' is still present through. Why?"
   ]
  },
  {
   "cell_type": "code",
   "execution_count": 106,
   "metadata": {},
   "outputs": [
    {
     "data": {
      "text/plain": [
       "['action',\n",
       " 'adventure',\n",
       " 'drama',\n",
       " 'fantasy',\n",
       " 'mystery',\n",
       " 'sci_fi',\n",
       " 'animals',\n",
       " 'dystopian',\n",
       " 'post_apocalyptic',\n",
       " 'primarily_adult_cast',\n",
       " 'survival',\n",
       " 'tragedy',\n",
       " 'werewolf']"
      ]
     },
     "execution_count": 106,
     "metadata": {},
     "output_type": "execute_result"
    }
   ],
   "source": [
    "view_features(get_search_term(\"Wolf's Rain\"), df_w_rank)"
   ]
  },
  {
   "cell_type": "code",
   "execution_count": 103,
   "metadata": {},
   "outputs": [
    {
     "data": {
      "text/plain": [
       "['action', 'adventure', 'drama', 'fantasy', 'animals']"
      ]
     },
     "execution_count": 103,
     "metadata": {},
     "output_type": "execute_result"
    }
   ],
   "source": [
    "view_features(get_search_term('Wan Wan Chuushingura'), df_w_rank)"
   ]
  },
  {
   "cell_type": "markdown",
   "metadata": {},
   "source": [
    "All of the tags for \"Wan Wan Chuushingura\" are also tags for \"Wolf's Rain\" but there are a few missing that are very important. This goes back to a problem noticed earlier. Our data is more sparce than what is ideal. We need more tags for \"Wan Wan Chuushingura\" for our recommender to see that maybe this isn't a great suggestion based on Wolf's Rain.  \n",
    "Would it be worth penalizing titles with fewer features?  \n",
    "Or maybe we just cut out titles with fewer features? "
   ]
  },
  {
   "cell_type": "code",
   "execution_count": null,
   "metadata": {},
   "outputs": [],
   "source": []
  },
  {
   "cell_type": "markdown",
   "metadata": {},
   "source": [
    "## PCA"
   ]
  },
  {
   "cell_type": "code",
   "execution_count": null,
   "metadata": {},
   "outputs": [],
   "source": []
  },
  {
   "cell_type": "code",
   "execution_count": null,
   "metadata": {},
   "outputs": [],
   "source": []
  },
  {
   "cell_type": "code",
   "execution_count": null,
   "metadata": {},
   "outputs": [],
   "source": []
  }
 ],
 "metadata": {
  "kernelspec": {
   "display_name": "Python 3",
   "language": "python",
   "name": "python3"
  },
  "language_info": {
   "codemirror_mode": {
    "name": "ipython",
    "version": 3
   },
   "file_extension": ".py",
   "mimetype": "text/x-python",
   "name": "python",
   "nbconvert_exporter": "python",
   "pygments_lexer": "ipython3",
   "version": "3.7.7"
  }
 },
 "nbformat": 4,
 "nbformat_minor": 4
}

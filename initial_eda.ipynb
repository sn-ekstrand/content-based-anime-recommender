{
 "cells": [
  {
   "cell_type": "code",
   "execution_count": 113,
   "metadata": {},
   "outputs": [],
   "source": [
    "import pandas as pd\n",
    "import numpy as np\n",
    "\n",
    "import matplotlib.pyplot as plt\n",
    "import seaborn as sns\n",
    "from wordcloud import WordCloud\n",
    "\n",
    "import requests\n",
    "import json\n",
    "from difflib import get_close_matches\n",
    "from difflib import SequenceMatcher\n",
    "\n",
    "from sklearn.metrics.pairwise import cosine_similarity\n",
    "from sklearn.metrics.pairwise import pairwise_distances\n",
    "\n",
    "from sklearn.preprocessing import StandardScaler, MinMaxScaler\n",
    "from sklearn.decomposition import PCA\n",
    "\n",
    "plt.style.use('seaborn')"
   ]
  },
  {
   "cell_type": "code",
   "execution_count": 3,
   "metadata": {},
   "outputs": [],
   "source": [
    "genres_item_matrix = pd.read_csv('data/genres_item_matrix.csv', index_col='id')\n",
    "tag_item_matrix = pd.read_csv('data/tag_item_matrix.csv', index_col='id')\n",
    "tag_rank_item_matrix = pd.read_csv('data/tag_rank_item_matrix.csv', index_col='id')\n",
    "title_df = pd.read_csv('data/title_df.csv', index_col='id')"
   ]
  },
  {
   "cell_type": "code",
   "execution_count": 4,
   "metadata": {},
   "outputs": [
    {
     "data": {
      "text/html": [
       "<div>\n",
       "<style scoped>\n",
       "    .dataframe tbody tr th:only-of-type {\n",
       "        vertical-align: middle;\n",
       "    }\n",
       "\n",
       "    .dataframe tbody tr th {\n",
       "        vertical-align: top;\n",
       "    }\n",
       "\n",
       "    .dataframe thead th {\n",
       "        text-align: right;\n",
       "    }\n",
       "</style>\n",
       "<table border=\"1\" class=\"dataframe\">\n",
       "  <thead>\n",
       "    <tr style=\"text-align: right;\">\n",
       "      <th></th>\n",
       "      <th>romaji</th>\n",
       "      <th>english</th>\n",
       "      <th>native</th>\n",
       "      <th>userPreferred</th>\n",
       "    </tr>\n",
       "    <tr>\n",
       "      <th>id</th>\n",
       "      <th></th>\n",
       "      <th></th>\n",
       "      <th></th>\n",
       "      <th></th>\n",
       "    </tr>\n",
       "  </thead>\n",
       "  <tbody>\n",
       "    <tr>\n",
       "      <th>10161</th>\n",
       "      <td>No.6</td>\n",
       "      <td>No.6</td>\n",
       "      <td>NO.6 ナンバー・シックス</td>\n",
       "      <td>No.6</td>\n",
       "    </tr>\n",
       "    <tr>\n",
       "      <th>99726</th>\n",
       "      <td>Net-juu no Susume</td>\n",
       "      <td>Recovery of an MMO Junkie</td>\n",
       "      <td>ネト充のススメ</td>\n",
       "      <td>Net-juu no Susume</td>\n",
       "    </tr>\n",
       "    <tr>\n",
       "      <th>98526</th>\n",
       "      <td>Robomasters The Animated Series</td>\n",
       "      <td>NaN</td>\n",
       "      <td>ROBOMASTERS THE ANIMATED SERIES</td>\n",
       "      <td>Robomasters The Animated Series</td>\n",
       "    </tr>\n",
       "    <tr>\n",
       "      <th>966</th>\n",
       "      <td>Crayon Shin-chan</td>\n",
       "      <td>Shin Chan</td>\n",
       "      <td>クレヨンしんちゃん</td>\n",
       "      <td>Crayon Shin-chan</td>\n",
       "    </tr>\n",
       "    <tr>\n",
       "      <th>4876</th>\n",
       "      <td>Hashire Melos!</td>\n",
       "      <td>Run Melos!</td>\n",
       "      <td>走れメロス</td>\n",
       "      <td>Hashire Melos!</td>\n",
       "    </tr>\n",
       "  </tbody>\n",
       "</table>\n",
       "</div>"
      ],
      "text/plain": [
       "                                romaji                    english  \\\n",
       "id                                                                  \n",
       "10161                             No.6                       No.6   \n",
       "99726                Net-juu no Susume  Recovery of an MMO Junkie   \n",
       "98526  Robomasters The Animated Series                        NaN   \n",
       "966                   Crayon Shin-chan                  Shin Chan   \n",
       "4876                    Hashire Melos!                 Run Melos!   \n",
       "\n",
       "                                native                    userPreferred  \n",
       "id                                                                       \n",
       "10161                   NO.6 ナンバー・シックス                             No.6  \n",
       "99726                          ネト充のススメ                Net-juu no Susume  \n",
       "98526  ROBOMASTERS THE ANIMATED SERIES  Robomasters The Animated Series  \n",
       "966                          クレヨンしんちゃん                 Crayon Shin-chan  \n",
       "4876                             走れメロス                   Hashire Melos!  "
      ]
     },
     "execution_count": 4,
     "metadata": {},
     "output_type": "execute_result"
    }
   ],
   "source": [
    "# We'll use this dataframe later for lookup\n",
    "title_df.head()"
   ]
  },
  {
   "cell_type": "code",
   "execution_count": 5,
   "metadata": {},
   "outputs": [
    {
     "data": {
      "text/html": [
       "<div>\n",
       "<style scoped>\n",
       "    .dataframe tbody tr th:only-of-type {\n",
       "        vertical-align: middle;\n",
       "    }\n",
       "\n",
       "    .dataframe tbody tr th {\n",
       "        vertical-align: top;\n",
       "    }\n",
       "\n",
       "    .dataframe thead th {\n",
       "        text-align: right;\n",
       "    }\n",
       "</style>\n",
       "<table border=\"1\" class=\"dataframe\">\n",
       "  <thead>\n",
       "    <tr style=\"text-align: right;\">\n",
       "      <th></th>\n",
       "      <th>action</th>\n",
       "      <th>adventure</th>\n",
       "      <th>comedy</th>\n",
       "      <th>drama</th>\n",
       "      <th>ecchi</th>\n",
       "      <th>fantasy</th>\n",
       "      <th>horror</th>\n",
       "      <th>mahou_shoujo</th>\n",
       "      <th>mecha</th>\n",
       "      <th>music</th>\n",
       "      <th>mystery</th>\n",
       "      <th>psychological</th>\n",
       "      <th>romance</th>\n",
       "      <th>sci_fi</th>\n",
       "      <th>slice_of_life</th>\n",
       "      <th>sports</th>\n",
       "      <th>supernatural</th>\n",
       "      <th>thriller</th>\n",
       "    </tr>\n",
       "    <tr>\n",
       "      <th>id</th>\n",
       "      <th></th>\n",
       "      <th></th>\n",
       "      <th></th>\n",
       "      <th></th>\n",
       "      <th></th>\n",
       "      <th></th>\n",
       "      <th></th>\n",
       "      <th></th>\n",
       "      <th></th>\n",
       "      <th></th>\n",
       "      <th></th>\n",
       "      <th></th>\n",
       "      <th></th>\n",
       "      <th></th>\n",
       "      <th></th>\n",
       "      <th></th>\n",
       "      <th></th>\n",
       "      <th></th>\n",
       "    </tr>\n",
       "  </thead>\n",
       "  <tbody>\n",
       "    <tr>\n",
       "      <th>10161</th>\n",
       "      <td>1</td>\n",
       "      <td>0</td>\n",
       "      <td>0</td>\n",
       "      <td>1</td>\n",
       "      <td>0</td>\n",
       "      <td>0</td>\n",
       "      <td>0</td>\n",
       "      <td>0</td>\n",
       "      <td>0</td>\n",
       "      <td>0</td>\n",
       "      <td>0</td>\n",
       "      <td>0</td>\n",
       "      <td>0</td>\n",
       "      <td>1</td>\n",
       "      <td>0</td>\n",
       "      <td>0</td>\n",
       "      <td>0</td>\n",
       "      <td>0</td>\n",
       "    </tr>\n",
       "    <tr>\n",
       "      <th>99726</th>\n",
       "      <td>0</td>\n",
       "      <td>1</td>\n",
       "      <td>1</td>\n",
       "      <td>0</td>\n",
       "      <td>0</td>\n",
       "      <td>1</td>\n",
       "      <td>0</td>\n",
       "      <td>0</td>\n",
       "      <td>0</td>\n",
       "      <td>0</td>\n",
       "      <td>0</td>\n",
       "      <td>0</td>\n",
       "      <td>1</td>\n",
       "      <td>0</td>\n",
       "      <td>1</td>\n",
       "      <td>0</td>\n",
       "      <td>0</td>\n",
       "      <td>0</td>\n",
       "    </tr>\n",
       "    <tr>\n",
       "      <th>98526</th>\n",
       "      <td>1</td>\n",
       "      <td>0</td>\n",
       "      <td>0</td>\n",
       "      <td>1</td>\n",
       "      <td>0</td>\n",
       "      <td>0</td>\n",
       "      <td>0</td>\n",
       "      <td>0</td>\n",
       "      <td>0</td>\n",
       "      <td>0</td>\n",
       "      <td>0</td>\n",
       "      <td>0</td>\n",
       "      <td>0</td>\n",
       "      <td>0</td>\n",
       "      <td>0</td>\n",
       "      <td>0</td>\n",
       "      <td>0</td>\n",
       "      <td>0</td>\n",
       "    </tr>\n",
       "    <tr>\n",
       "      <th>966</th>\n",
       "      <td>0</td>\n",
       "      <td>0</td>\n",
       "      <td>1</td>\n",
       "      <td>0</td>\n",
       "      <td>1</td>\n",
       "      <td>0</td>\n",
       "      <td>0</td>\n",
       "      <td>0</td>\n",
       "      <td>0</td>\n",
       "      <td>0</td>\n",
       "      <td>0</td>\n",
       "      <td>0</td>\n",
       "      <td>0</td>\n",
       "      <td>0</td>\n",
       "      <td>1</td>\n",
       "      <td>0</td>\n",
       "      <td>0</td>\n",
       "      <td>0</td>\n",
       "    </tr>\n",
       "    <tr>\n",
       "      <th>4876</th>\n",
       "      <td>1</td>\n",
       "      <td>1</td>\n",
       "      <td>0</td>\n",
       "      <td>1</td>\n",
       "      <td>0</td>\n",
       "      <td>0</td>\n",
       "      <td>0</td>\n",
       "      <td>0</td>\n",
       "      <td>0</td>\n",
       "      <td>0</td>\n",
       "      <td>0</td>\n",
       "      <td>0</td>\n",
       "      <td>0</td>\n",
       "      <td>0</td>\n",
       "      <td>0</td>\n",
       "      <td>0</td>\n",
       "      <td>0</td>\n",
       "      <td>0</td>\n",
       "    </tr>\n",
       "  </tbody>\n",
       "</table>\n",
       "</div>"
      ],
      "text/plain": [
       "       action  adventure  comedy  drama  ecchi  fantasy  horror  mahou_shoujo  \\\n",
       "id                                                                              \n",
       "10161       1          0       0      1      0        0       0             0   \n",
       "99726       0          1       1      0      0        1       0             0   \n",
       "98526       1          0       0      1      0        0       0             0   \n",
       "966         0          0       1      0      1        0       0             0   \n",
       "4876        1          1       0      1      0        0       0             0   \n",
       "\n",
       "       mecha  music  mystery  psychological  romance  sci_fi  slice_of_life  \\\n",
       "id                                                                            \n",
       "10161      0      0        0              0        0       1              0   \n",
       "99726      0      0        0              0        1       0              1   \n",
       "98526      0      0        0              0        0       0              0   \n",
       "966        0      0        0              0        0       0              1   \n",
       "4876       0      0        0              0        0       0              0   \n",
       "\n",
       "       sports  supernatural  thriller  \n",
       "id                                     \n",
       "10161       0             0         0  \n",
       "99726       0             0         0  \n",
       "98526       0             0         0  \n",
       "966         0             0         0  \n",
       "4876        0             0         0  "
      ]
     },
     "execution_count": 5,
     "metadata": {},
     "output_type": "execute_result"
    }
   ],
   "source": [
    "genres_item_matrix.head()"
   ]
  },
  {
   "cell_type": "code",
   "execution_count": 6,
   "metadata": {},
   "outputs": [
    {
     "data": {
      "text/html": [
       "<div>\n",
       "<style scoped>\n",
       "    .dataframe tbody tr th:only-of-type {\n",
       "        vertical-align: middle;\n",
       "    }\n",
       "\n",
       "    .dataframe tbody tr th {\n",
       "        vertical-align: top;\n",
       "    }\n",
       "\n",
       "    .dataframe thead th {\n",
       "        text-align: right;\n",
       "    }\n",
       "</style>\n",
       "<table border=\"1\" class=\"dataframe\">\n",
       "  <thead>\n",
       "    <tr style=\"text-align: right;\">\n",
       "      <th></th>\n",
       "      <th>4_koma</th>\n",
       "      <th>achronological_order</th>\n",
       "      <th>acting</th>\n",
       "      <th>advertisement</th>\n",
       "      <th>afterlife</th>\n",
       "      <th>age_gap</th>\n",
       "      <th>age_regression</th>\n",
       "      <th>agender</th>\n",
       "      <th>airsoft</th>\n",
       "      <th>aliens</th>\n",
       "      <th>...</th>\n",
       "      <th>witch</th>\n",
       "      <th>work</th>\n",
       "      <th>wrestling</th>\n",
       "      <th>writing</th>\n",
       "      <th>wuxia</th>\n",
       "      <th>yakuza</th>\n",
       "      <th>yandere</th>\n",
       "      <th>youkai</th>\n",
       "      <th>yuri</th>\n",
       "      <th>zombie</th>\n",
       "    </tr>\n",
       "    <tr>\n",
       "      <th>id</th>\n",
       "      <th></th>\n",
       "      <th></th>\n",
       "      <th></th>\n",
       "      <th></th>\n",
       "      <th></th>\n",
       "      <th></th>\n",
       "      <th></th>\n",
       "      <th></th>\n",
       "      <th></th>\n",
       "      <th></th>\n",
       "      <th></th>\n",
       "      <th></th>\n",
       "      <th></th>\n",
       "      <th></th>\n",
       "      <th></th>\n",
       "      <th></th>\n",
       "      <th></th>\n",
       "      <th></th>\n",
       "      <th></th>\n",
       "      <th></th>\n",
       "      <th></th>\n",
       "    </tr>\n",
       "  </thead>\n",
       "  <tbody>\n",
       "    <tr>\n",
       "      <th>10161</th>\n",
       "      <td>0</td>\n",
       "      <td>0</td>\n",
       "      <td>0</td>\n",
       "      <td>0</td>\n",
       "      <td>0</td>\n",
       "      <td>0</td>\n",
       "      <td>0</td>\n",
       "      <td>0</td>\n",
       "      <td>0</td>\n",
       "      <td>0</td>\n",
       "      <td>...</td>\n",
       "      <td>0</td>\n",
       "      <td>0</td>\n",
       "      <td>0</td>\n",
       "      <td>0</td>\n",
       "      <td>0</td>\n",
       "      <td>0</td>\n",
       "      <td>1</td>\n",
       "      <td>0</td>\n",
       "      <td>0</td>\n",
       "      <td>0</td>\n",
       "    </tr>\n",
       "    <tr>\n",
       "      <th>99726</th>\n",
       "      <td>0</td>\n",
       "      <td>0</td>\n",
       "      <td>0</td>\n",
       "      <td>0</td>\n",
       "      <td>0</td>\n",
       "      <td>0</td>\n",
       "      <td>0</td>\n",
       "      <td>0</td>\n",
       "      <td>0</td>\n",
       "      <td>0</td>\n",
       "      <td>...</td>\n",
       "      <td>0</td>\n",
       "      <td>0</td>\n",
       "      <td>0</td>\n",
       "      <td>0</td>\n",
       "      <td>0</td>\n",
       "      <td>0</td>\n",
       "      <td>0</td>\n",
       "      <td>0</td>\n",
       "      <td>0</td>\n",
       "      <td>0</td>\n",
       "    </tr>\n",
       "    <tr>\n",
       "      <th>98526</th>\n",
       "      <td>0</td>\n",
       "      <td>0</td>\n",
       "      <td>0</td>\n",
       "      <td>0</td>\n",
       "      <td>0</td>\n",
       "      <td>0</td>\n",
       "      <td>0</td>\n",
       "      <td>0</td>\n",
       "      <td>0</td>\n",
       "      <td>0</td>\n",
       "      <td>...</td>\n",
       "      <td>0</td>\n",
       "      <td>0</td>\n",
       "      <td>0</td>\n",
       "      <td>0</td>\n",
       "      <td>0</td>\n",
       "      <td>0</td>\n",
       "      <td>0</td>\n",
       "      <td>0</td>\n",
       "      <td>0</td>\n",
       "      <td>0</td>\n",
       "    </tr>\n",
       "    <tr>\n",
       "      <th>966</th>\n",
       "      <td>0</td>\n",
       "      <td>0</td>\n",
       "      <td>0</td>\n",
       "      <td>0</td>\n",
       "      <td>0</td>\n",
       "      <td>0</td>\n",
       "      <td>0</td>\n",
       "      <td>0</td>\n",
       "      <td>0</td>\n",
       "      <td>0</td>\n",
       "      <td>...</td>\n",
       "      <td>0</td>\n",
       "      <td>0</td>\n",
       "      <td>0</td>\n",
       "      <td>0</td>\n",
       "      <td>0</td>\n",
       "      <td>0</td>\n",
       "      <td>0</td>\n",
       "      <td>0</td>\n",
       "      <td>0</td>\n",
       "      <td>0</td>\n",
       "    </tr>\n",
       "    <tr>\n",
       "      <th>4876</th>\n",
       "      <td>0</td>\n",
       "      <td>0</td>\n",
       "      <td>0</td>\n",
       "      <td>0</td>\n",
       "      <td>0</td>\n",
       "      <td>0</td>\n",
       "      <td>0</td>\n",
       "      <td>0</td>\n",
       "      <td>0</td>\n",
       "      <td>0</td>\n",
       "      <td>...</td>\n",
       "      <td>0</td>\n",
       "      <td>0</td>\n",
       "      <td>0</td>\n",
       "      <td>0</td>\n",
       "      <td>0</td>\n",
       "      <td>0</td>\n",
       "      <td>0</td>\n",
       "      <td>0</td>\n",
       "      <td>0</td>\n",
       "      <td>0</td>\n",
       "    </tr>\n",
       "  </tbody>\n",
       "</table>\n",
       "<p>5 rows × 247 columns</p>\n",
       "</div>"
      ],
      "text/plain": [
       "       4_koma  achronological_order  acting  advertisement  afterlife  \\\n",
       "id                                                                      \n",
       "10161       0                     0       0              0          0   \n",
       "99726       0                     0       0              0          0   \n",
       "98526       0                     0       0              0          0   \n",
       "966         0                     0       0              0          0   \n",
       "4876        0                     0       0              0          0   \n",
       "\n",
       "       age_gap  age_regression  agender  airsoft  aliens  ...  witch  work  \\\n",
       "id                                                        ...                \n",
       "10161        0               0        0        0       0  ...      0     0   \n",
       "99726        0               0        0        0       0  ...      0     0   \n",
       "98526        0               0        0        0       0  ...      0     0   \n",
       "966          0               0        0        0       0  ...      0     0   \n",
       "4876         0               0        0        0       0  ...      0     0   \n",
       "\n",
       "       wrestling  writing  wuxia  yakuza  yandere  youkai  yuri  zombie  \n",
       "id                                                                       \n",
       "10161          0        0      0       0        1       0     0       0  \n",
       "99726          0        0      0       0        0       0     0       0  \n",
       "98526          0        0      0       0        0       0     0       0  \n",
       "966            0        0      0       0        0       0     0       0  \n",
       "4876           0        0      0       0        0       0     0       0  \n",
       "\n",
       "[5 rows x 247 columns]"
      ]
     },
     "execution_count": 6,
     "metadata": {},
     "output_type": "execute_result"
    }
   ],
   "source": [
    "tag_item_matrix.head()"
   ]
  },
  {
   "cell_type": "code",
   "execution_count": 7,
   "metadata": {},
   "outputs": [
    {
     "data": {
      "text/html": [
       "<div>\n",
       "<style scoped>\n",
       "    .dataframe tbody tr th:only-of-type {\n",
       "        vertical-align: middle;\n",
       "    }\n",
       "\n",
       "    .dataframe tbody tr th {\n",
       "        vertical-align: top;\n",
       "    }\n",
       "\n",
       "    .dataframe thead th {\n",
       "        text-align: right;\n",
       "    }\n",
       "</style>\n",
       "<table border=\"1\" class=\"dataframe\">\n",
       "  <thead>\n",
       "    <tr style=\"text-align: right;\">\n",
       "      <th></th>\n",
       "      <th>action</th>\n",
       "      <th>adventure</th>\n",
       "      <th>comedy</th>\n",
       "      <th>drama</th>\n",
       "      <th>ecchi</th>\n",
       "      <th>fantasy</th>\n",
       "      <th>horror</th>\n",
       "      <th>mahou_shoujo</th>\n",
       "      <th>mecha</th>\n",
       "      <th>music</th>\n",
       "      <th>...</th>\n",
       "      <th>witch</th>\n",
       "      <th>work</th>\n",
       "      <th>wrestling</th>\n",
       "      <th>writing</th>\n",
       "      <th>wuxia</th>\n",
       "      <th>yakuza</th>\n",
       "      <th>yandere</th>\n",
       "      <th>youkai</th>\n",
       "      <th>yuri</th>\n",
       "      <th>zombie</th>\n",
       "    </tr>\n",
       "    <tr>\n",
       "      <th>id</th>\n",
       "      <th></th>\n",
       "      <th></th>\n",
       "      <th></th>\n",
       "      <th></th>\n",
       "      <th></th>\n",
       "      <th></th>\n",
       "      <th></th>\n",
       "      <th></th>\n",
       "      <th></th>\n",
       "      <th></th>\n",
       "      <th></th>\n",
       "      <th></th>\n",
       "      <th></th>\n",
       "      <th></th>\n",
       "      <th></th>\n",
       "      <th></th>\n",
       "      <th></th>\n",
       "      <th></th>\n",
       "      <th></th>\n",
       "      <th></th>\n",
       "      <th></th>\n",
       "    </tr>\n",
       "  </thead>\n",
       "  <tbody>\n",
       "    <tr>\n",
       "      <th>10161</th>\n",
       "      <td>1</td>\n",
       "      <td>0</td>\n",
       "      <td>0</td>\n",
       "      <td>1</td>\n",
       "      <td>0</td>\n",
       "      <td>0</td>\n",
       "      <td>0</td>\n",
       "      <td>0</td>\n",
       "      <td>0</td>\n",
       "      <td>0</td>\n",
       "      <td>...</td>\n",
       "      <td>0</td>\n",
       "      <td>0</td>\n",
       "      <td>0</td>\n",
       "      <td>0</td>\n",
       "      <td>0</td>\n",
       "      <td>0</td>\n",
       "      <td>1</td>\n",
       "      <td>0</td>\n",
       "      <td>0</td>\n",
       "      <td>0</td>\n",
       "    </tr>\n",
       "    <tr>\n",
       "      <th>99726</th>\n",
       "      <td>0</td>\n",
       "      <td>1</td>\n",
       "      <td>1</td>\n",
       "      <td>0</td>\n",
       "      <td>0</td>\n",
       "      <td>1</td>\n",
       "      <td>0</td>\n",
       "      <td>0</td>\n",
       "      <td>0</td>\n",
       "      <td>0</td>\n",
       "      <td>...</td>\n",
       "      <td>0</td>\n",
       "      <td>0</td>\n",
       "      <td>0</td>\n",
       "      <td>0</td>\n",
       "      <td>0</td>\n",
       "      <td>0</td>\n",
       "      <td>0</td>\n",
       "      <td>0</td>\n",
       "      <td>0</td>\n",
       "      <td>0</td>\n",
       "    </tr>\n",
       "    <tr>\n",
       "      <th>98526</th>\n",
       "      <td>1</td>\n",
       "      <td>0</td>\n",
       "      <td>0</td>\n",
       "      <td>1</td>\n",
       "      <td>0</td>\n",
       "      <td>0</td>\n",
       "      <td>0</td>\n",
       "      <td>0</td>\n",
       "      <td>0</td>\n",
       "      <td>0</td>\n",
       "      <td>...</td>\n",
       "      <td>0</td>\n",
       "      <td>0</td>\n",
       "      <td>0</td>\n",
       "      <td>0</td>\n",
       "      <td>0</td>\n",
       "      <td>0</td>\n",
       "      <td>0</td>\n",
       "      <td>0</td>\n",
       "      <td>0</td>\n",
       "      <td>0</td>\n",
       "    </tr>\n",
       "    <tr>\n",
       "      <th>966</th>\n",
       "      <td>0</td>\n",
       "      <td>0</td>\n",
       "      <td>1</td>\n",
       "      <td>0</td>\n",
       "      <td>1</td>\n",
       "      <td>0</td>\n",
       "      <td>0</td>\n",
       "      <td>0</td>\n",
       "      <td>0</td>\n",
       "      <td>0</td>\n",
       "      <td>...</td>\n",
       "      <td>0</td>\n",
       "      <td>0</td>\n",
       "      <td>0</td>\n",
       "      <td>0</td>\n",
       "      <td>0</td>\n",
       "      <td>0</td>\n",
       "      <td>0</td>\n",
       "      <td>0</td>\n",
       "      <td>0</td>\n",
       "      <td>0</td>\n",
       "    </tr>\n",
       "    <tr>\n",
       "      <th>4876</th>\n",
       "      <td>1</td>\n",
       "      <td>1</td>\n",
       "      <td>0</td>\n",
       "      <td>1</td>\n",
       "      <td>0</td>\n",
       "      <td>0</td>\n",
       "      <td>0</td>\n",
       "      <td>0</td>\n",
       "      <td>0</td>\n",
       "      <td>0</td>\n",
       "      <td>...</td>\n",
       "      <td>0</td>\n",
       "      <td>0</td>\n",
       "      <td>0</td>\n",
       "      <td>0</td>\n",
       "      <td>0</td>\n",
       "      <td>0</td>\n",
       "      <td>0</td>\n",
       "      <td>0</td>\n",
       "      <td>0</td>\n",
       "      <td>0</td>\n",
       "    </tr>\n",
       "  </tbody>\n",
       "</table>\n",
       "<p>5 rows × 265 columns</p>\n",
       "</div>"
      ],
      "text/plain": [
       "       action  adventure  comedy  drama  ecchi  fantasy  horror  mahou_shoujo  \\\n",
       "id                                                                              \n",
       "10161       1          0       0      1      0        0       0             0   \n",
       "99726       0          1       1      0      0        1       0             0   \n",
       "98526       1          0       0      1      0        0       0             0   \n",
       "966         0          0       1      0      1        0       0             0   \n",
       "4876        1          1       0      1      0        0       0             0   \n",
       "\n",
       "       mecha  music  ...  witch  work  wrestling  writing  wuxia  yakuza  \\\n",
       "id                   ...                                                   \n",
       "10161      0      0  ...      0     0          0        0      0       0   \n",
       "99726      0      0  ...      0     0          0        0      0       0   \n",
       "98526      0      0  ...      0     0          0        0      0       0   \n",
       "966        0      0  ...      0     0          0        0      0       0   \n",
       "4876       0      0  ...      0     0          0        0      0       0   \n",
       "\n",
       "       yandere  youkai  yuri  zombie  \n",
       "id                                    \n",
       "10161        1       0     0       0  \n",
       "99726        0       0     0       0  \n",
       "98526        0       0     0       0  \n",
       "966          0       0     0       0  \n",
       "4876         0       0     0       0  \n",
       "\n",
       "[5 rows x 265 columns]"
      ]
     },
     "execution_count": 7,
     "metadata": {},
     "output_type": "execute_result"
    }
   ],
   "source": [
    "df = pd.concat([genres_item_matrix, tag_item_matrix], axis=1)\n",
    "df.head()"
   ]
  },
  {
   "cell_type": "code",
   "execution_count": 8,
   "metadata": {},
   "outputs": [
    {
     "data": {
      "text/html": [
       "<div>\n",
       "<style scoped>\n",
       "    .dataframe tbody tr th:only-of-type {\n",
       "        vertical-align: middle;\n",
       "    }\n",
       "\n",
       "    .dataframe tbody tr th {\n",
       "        vertical-align: top;\n",
       "    }\n",
       "\n",
       "    .dataframe thead th {\n",
       "        text-align: right;\n",
       "    }\n",
       "</style>\n",
       "<table border=\"1\" class=\"dataframe\">\n",
       "  <thead>\n",
       "    <tr style=\"text-align: right;\">\n",
       "      <th></th>\n",
       "      <th>action</th>\n",
       "      <th>adventure</th>\n",
       "      <th>comedy</th>\n",
       "      <th>drama</th>\n",
       "      <th>ecchi</th>\n",
       "      <th>fantasy</th>\n",
       "      <th>horror</th>\n",
       "      <th>mahou_shoujo</th>\n",
       "      <th>mecha</th>\n",
       "      <th>music</th>\n",
       "      <th>...</th>\n",
       "      <th>witch</th>\n",
       "      <th>work</th>\n",
       "      <th>wrestling</th>\n",
       "      <th>writing</th>\n",
       "      <th>wuxia</th>\n",
       "      <th>yakuza</th>\n",
       "      <th>yandere</th>\n",
       "      <th>youkai</th>\n",
       "      <th>yuri</th>\n",
       "      <th>zombie</th>\n",
       "    </tr>\n",
       "    <tr>\n",
       "      <th>id</th>\n",
       "      <th></th>\n",
       "      <th></th>\n",
       "      <th></th>\n",
       "      <th></th>\n",
       "      <th></th>\n",
       "      <th></th>\n",
       "      <th></th>\n",
       "      <th></th>\n",
       "      <th></th>\n",
       "      <th></th>\n",
       "      <th></th>\n",
       "      <th></th>\n",
       "      <th></th>\n",
       "      <th></th>\n",
       "      <th></th>\n",
       "      <th></th>\n",
       "      <th></th>\n",
       "      <th></th>\n",
       "      <th></th>\n",
       "      <th></th>\n",
       "      <th></th>\n",
       "    </tr>\n",
       "  </thead>\n",
       "  <tbody>\n",
       "    <tr>\n",
       "      <th>99586</th>\n",
       "      <td>0</td>\n",
       "      <td>0</td>\n",
       "      <td>0</td>\n",
       "      <td>0</td>\n",
       "      <td>1</td>\n",
       "      <td>0</td>\n",
       "      <td>0</td>\n",
       "      <td>0</td>\n",
       "      <td>0</td>\n",
       "      <td>0</td>\n",
       "      <td>...</td>\n",
       "      <td>0</td>\n",
       "      <td>0</td>\n",
       "      <td>0</td>\n",
       "      <td>0</td>\n",
       "      <td>0</td>\n",
       "      <td>0</td>\n",
       "      <td>0</td>\n",
       "      <td>0</td>\n",
       "      <td>0</td>\n",
       "      <td>0</td>\n",
       "    </tr>\n",
       "    <tr>\n",
       "      <th>99916</th>\n",
       "      <td>0</td>\n",
       "      <td>0</td>\n",
       "      <td>0</td>\n",
       "      <td>0</td>\n",
       "      <td>0</td>\n",
       "      <td>0</td>\n",
       "      <td>0</td>\n",
       "      <td>0</td>\n",
       "      <td>0</td>\n",
       "      <td>0</td>\n",
       "      <td>...</td>\n",
       "      <td>0</td>\n",
       "      <td>0</td>\n",
       "      <td>0</td>\n",
       "      <td>0</td>\n",
       "      <td>0</td>\n",
       "      <td>0</td>\n",
       "      <td>0</td>\n",
       "      <td>0</td>\n",
       "      <td>1</td>\n",
       "      <td>0</td>\n",
       "    </tr>\n",
       "    <tr>\n",
       "      <th>101283</th>\n",
       "      <td>0</td>\n",
       "      <td>0</td>\n",
       "      <td>0</td>\n",
       "      <td>0</td>\n",
       "      <td>0</td>\n",
       "      <td>0</td>\n",
       "      <td>1</td>\n",
       "      <td>0</td>\n",
       "      <td>0</td>\n",
       "      <td>0</td>\n",
       "      <td>...</td>\n",
       "      <td>0</td>\n",
       "      <td>0</td>\n",
       "      <td>0</td>\n",
       "      <td>0</td>\n",
       "      <td>0</td>\n",
       "      <td>0</td>\n",
       "      <td>0</td>\n",
       "      <td>0</td>\n",
       "      <td>0</td>\n",
       "      <td>0</td>\n",
       "    </tr>\n",
       "    <tr>\n",
       "      <th>101633</th>\n",
       "      <td>0</td>\n",
       "      <td>0</td>\n",
       "      <td>1</td>\n",
       "      <td>1</td>\n",
       "      <td>0</td>\n",
       "      <td>0</td>\n",
       "      <td>0</td>\n",
       "      <td>0</td>\n",
       "      <td>0</td>\n",
       "      <td>1</td>\n",
       "      <td>...</td>\n",
       "      <td>0</td>\n",
       "      <td>0</td>\n",
       "      <td>0</td>\n",
       "      <td>0</td>\n",
       "      <td>0</td>\n",
       "      <td>0</td>\n",
       "      <td>0</td>\n",
       "      <td>0</td>\n",
       "      <td>0</td>\n",
       "      <td>0</td>\n",
       "    </tr>\n",
       "    <tr>\n",
       "      <th>101089</th>\n",
       "      <td>0</td>\n",
       "      <td>0</td>\n",
       "      <td>0</td>\n",
       "      <td>0</td>\n",
       "      <td>0</td>\n",
       "      <td>0</td>\n",
       "      <td>0</td>\n",
       "      <td>0</td>\n",
       "      <td>0</td>\n",
       "      <td>0</td>\n",
       "      <td>...</td>\n",
       "      <td>0</td>\n",
       "      <td>0</td>\n",
       "      <td>0</td>\n",
       "      <td>0</td>\n",
       "      <td>0</td>\n",
       "      <td>0</td>\n",
       "      <td>0</td>\n",
       "      <td>0</td>\n",
       "      <td>0</td>\n",
       "      <td>0</td>\n",
       "    </tr>\n",
       "  </tbody>\n",
       "</table>\n",
       "<p>5 rows × 265 columns</p>\n",
       "</div>"
      ],
      "text/plain": [
       "        action  adventure  comedy  drama  ecchi  fantasy  horror  \\\n",
       "id                                                                 \n",
       "99586        0          0       0      0      1        0       0   \n",
       "99916        0          0       0      0      0        0       0   \n",
       "101283       0          0       0      0      0        0       1   \n",
       "101633       0          0       1      1      0        0       0   \n",
       "101089       0          0       0      0      0        0       0   \n",
       "\n",
       "        mahou_shoujo  mecha  music  ...  witch  work  wrestling  writing  \\\n",
       "id                                  ...                                    \n",
       "99586              0      0      0  ...      0     0          0        0   \n",
       "99916              0      0      0  ...      0     0          0        0   \n",
       "101283             0      0      0  ...      0     0          0        0   \n",
       "101633             0      0      1  ...      0     0          0        0   \n",
       "101089             0      0      0  ...      0     0          0        0   \n",
       "\n",
       "        wuxia  yakuza  yandere  youkai  yuri  zombie  \n",
       "id                                                    \n",
       "99586       0       0        0       0     0       0  \n",
       "99916       0       0        0       0     1       0  \n",
       "101283      0       0        0       0     0       0  \n",
       "101633      0       0        0       0     0       0  \n",
       "101089      0       0        0       0     0       0  \n",
       "\n",
       "[5 rows x 265 columns]"
      ]
     },
     "execution_count": 8,
     "metadata": {},
     "output_type": "execute_result"
    }
   ],
   "source": [
    "df.tail()"
   ]
  },
  {
   "cell_type": "code",
   "execution_count": 9,
   "metadata": {},
   "outputs": [
    {
     "name": "stdout",
     "output_type": "stream",
     "text": [
      "<class 'pandas.core.frame.DataFrame'>\n",
      "Int64Index: 9832 entries, 10161 to 101089\n",
      "Columns: 265 entries, action to zombie\n",
      "dtypes: int64(265)\n",
      "memory usage: 20.0 MB\n"
     ]
    }
   ],
   "source": [
    "df.info()"
   ]
  },
  {
   "cell_type": "code",
   "execution_count": 10,
   "metadata": {},
   "outputs": [
    {
     "data": {
      "text/html": [
       "<div>\n",
       "<style scoped>\n",
       "    .dataframe tbody tr th:only-of-type {\n",
       "        vertical-align: middle;\n",
       "    }\n",
       "\n",
       "    .dataframe tbody tr th {\n",
       "        vertical-align: top;\n",
       "    }\n",
       "\n",
       "    .dataframe thead th {\n",
       "        text-align: right;\n",
       "    }\n",
       "</style>\n",
       "<table border=\"1\" class=\"dataframe\">\n",
       "  <thead>\n",
       "    <tr style=\"text-align: right;\">\n",
       "      <th></th>\n",
       "      <th>action</th>\n",
       "      <th>adventure</th>\n",
       "      <th>comedy</th>\n",
       "      <th>drama</th>\n",
       "      <th>ecchi</th>\n",
       "      <th>fantasy</th>\n",
       "      <th>horror</th>\n",
       "      <th>mahou_shoujo</th>\n",
       "      <th>mecha</th>\n",
       "      <th>music</th>\n",
       "      <th>...</th>\n",
       "      <th>witch</th>\n",
       "      <th>work</th>\n",
       "      <th>wrestling</th>\n",
       "      <th>writing</th>\n",
       "      <th>wuxia</th>\n",
       "      <th>yakuza</th>\n",
       "      <th>yandere</th>\n",
       "      <th>youkai</th>\n",
       "      <th>yuri</th>\n",
       "      <th>zombie</th>\n",
       "    </tr>\n",
       "  </thead>\n",
       "  <tbody>\n",
       "    <tr>\n",
       "      <th>count</th>\n",
       "      <td>9832.000000</td>\n",
       "      <td>9832.000000</td>\n",
       "      <td>9832.000000</td>\n",
       "      <td>9832.000000</td>\n",
       "      <td>9832.000000</td>\n",
       "      <td>9832.000000</td>\n",
       "      <td>9832.000000</td>\n",
       "      <td>9832.000000</td>\n",
       "      <td>9832.000000</td>\n",
       "      <td>9832.000000</td>\n",
       "      <td>...</td>\n",
       "      <td>9832.000000</td>\n",
       "      <td>9832.000000</td>\n",
       "      <td>9832.000000</td>\n",
       "      <td>9832.000000</td>\n",
       "      <td>9832.000000</td>\n",
       "      <td>9832.000000</td>\n",
       "      <td>9832.000000</td>\n",
       "      <td>9832.000000</td>\n",
       "      <td>9832.000000</td>\n",
       "      <td>9832.000000</td>\n",
       "    </tr>\n",
       "    <tr>\n",
       "      <th>mean</th>\n",
       "      <td>0.268002</td>\n",
       "      <td>0.213283</td>\n",
       "      <td>0.391172</td>\n",
       "      <td>0.190704</td>\n",
       "      <td>0.062449</td>\n",
       "      <td>0.198841</td>\n",
       "      <td>0.034886</td>\n",
       "      <td>0.025325</td>\n",
       "      <td>0.082994</td>\n",
       "      <td>0.097539</td>\n",
       "      <td>...</td>\n",
       "      <td>0.006001</td>\n",
       "      <td>0.018206</td>\n",
       "      <td>0.002034</td>\n",
       "      <td>0.001526</td>\n",
       "      <td>0.000305</td>\n",
       "      <td>0.003458</td>\n",
       "      <td>0.004577</td>\n",
       "      <td>0.011086</td>\n",
       "      <td>0.025427</td>\n",
       "      <td>0.005391</td>\n",
       "    </tr>\n",
       "    <tr>\n",
       "      <th>std</th>\n",
       "      <td>0.442941</td>\n",
       "      <td>0.409647</td>\n",
       "      <td>0.488038</td>\n",
       "      <td>0.392876</td>\n",
       "      <td>0.241982</td>\n",
       "      <td>0.399148</td>\n",
       "      <td>0.183501</td>\n",
       "      <td>0.157120</td>\n",
       "      <td>0.275888</td>\n",
       "      <td>0.297048</td>\n",
       "      <td>...</td>\n",
       "      <td>0.077236</td>\n",
       "      <td>0.133702</td>\n",
       "      <td>0.045058</td>\n",
       "      <td>0.039032</td>\n",
       "      <td>0.017466</td>\n",
       "      <td>0.058707</td>\n",
       "      <td>0.067501</td>\n",
       "      <td>0.104711</td>\n",
       "      <td>0.157427</td>\n",
       "      <td>0.073226</td>\n",
       "    </tr>\n",
       "    <tr>\n",
       "      <th>min</th>\n",
       "      <td>0.000000</td>\n",
       "      <td>0.000000</td>\n",
       "      <td>0.000000</td>\n",
       "      <td>0.000000</td>\n",
       "      <td>0.000000</td>\n",
       "      <td>0.000000</td>\n",
       "      <td>0.000000</td>\n",
       "      <td>0.000000</td>\n",
       "      <td>0.000000</td>\n",
       "      <td>0.000000</td>\n",
       "      <td>...</td>\n",
       "      <td>0.000000</td>\n",
       "      <td>0.000000</td>\n",
       "      <td>0.000000</td>\n",
       "      <td>0.000000</td>\n",
       "      <td>0.000000</td>\n",
       "      <td>0.000000</td>\n",
       "      <td>0.000000</td>\n",
       "      <td>0.000000</td>\n",
       "      <td>0.000000</td>\n",
       "      <td>0.000000</td>\n",
       "    </tr>\n",
       "    <tr>\n",
       "      <th>25%</th>\n",
       "      <td>0.000000</td>\n",
       "      <td>0.000000</td>\n",
       "      <td>0.000000</td>\n",
       "      <td>0.000000</td>\n",
       "      <td>0.000000</td>\n",
       "      <td>0.000000</td>\n",
       "      <td>0.000000</td>\n",
       "      <td>0.000000</td>\n",
       "      <td>0.000000</td>\n",
       "      <td>0.000000</td>\n",
       "      <td>...</td>\n",
       "      <td>0.000000</td>\n",
       "      <td>0.000000</td>\n",
       "      <td>0.000000</td>\n",
       "      <td>0.000000</td>\n",
       "      <td>0.000000</td>\n",
       "      <td>0.000000</td>\n",
       "      <td>0.000000</td>\n",
       "      <td>0.000000</td>\n",
       "      <td>0.000000</td>\n",
       "      <td>0.000000</td>\n",
       "    </tr>\n",
       "    <tr>\n",
       "      <th>50%</th>\n",
       "      <td>0.000000</td>\n",
       "      <td>0.000000</td>\n",
       "      <td>0.000000</td>\n",
       "      <td>0.000000</td>\n",
       "      <td>0.000000</td>\n",
       "      <td>0.000000</td>\n",
       "      <td>0.000000</td>\n",
       "      <td>0.000000</td>\n",
       "      <td>0.000000</td>\n",
       "      <td>0.000000</td>\n",
       "      <td>...</td>\n",
       "      <td>0.000000</td>\n",
       "      <td>0.000000</td>\n",
       "      <td>0.000000</td>\n",
       "      <td>0.000000</td>\n",
       "      <td>0.000000</td>\n",
       "      <td>0.000000</td>\n",
       "      <td>0.000000</td>\n",
       "      <td>0.000000</td>\n",
       "      <td>0.000000</td>\n",
       "      <td>0.000000</td>\n",
       "    </tr>\n",
       "    <tr>\n",
       "      <th>75%</th>\n",
       "      <td>1.000000</td>\n",
       "      <td>0.000000</td>\n",
       "      <td>1.000000</td>\n",
       "      <td>0.000000</td>\n",
       "      <td>0.000000</td>\n",
       "      <td>0.000000</td>\n",
       "      <td>0.000000</td>\n",
       "      <td>0.000000</td>\n",
       "      <td>0.000000</td>\n",
       "      <td>0.000000</td>\n",
       "      <td>...</td>\n",
       "      <td>0.000000</td>\n",
       "      <td>0.000000</td>\n",
       "      <td>0.000000</td>\n",
       "      <td>0.000000</td>\n",
       "      <td>0.000000</td>\n",
       "      <td>0.000000</td>\n",
       "      <td>0.000000</td>\n",
       "      <td>0.000000</td>\n",
       "      <td>0.000000</td>\n",
       "      <td>0.000000</td>\n",
       "    </tr>\n",
       "    <tr>\n",
       "      <th>max</th>\n",
       "      <td>1.000000</td>\n",
       "      <td>1.000000</td>\n",
       "      <td>1.000000</td>\n",
       "      <td>1.000000</td>\n",
       "      <td>1.000000</td>\n",
       "      <td>1.000000</td>\n",
       "      <td>1.000000</td>\n",
       "      <td>1.000000</td>\n",
       "      <td>1.000000</td>\n",
       "      <td>2.000000</td>\n",
       "      <td>...</td>\n",
       "      <td>1.000000</td>\n",
       "      <td>1.000000</td>\n",
       "      <td>1.000000</td>\n",
       "      <td>1.000000</td>\n",
       "      <td>1.000000</td>\n",
       "      <td>1.000000</td>\n",
       "      <td>1.000000</td>\n",
       "      <td>1.000000</td>\n",
       "      <td>1.000000</td>\n",
       "      <td>1.000000</td>\n",
       "    </tr>\n",
       "  </tbody>\n",
       "</table>\n",
       "<p>8 rows × 265 columns</p>\n",
       "</div>"
      ],
      "text/plain": [
       "            action    adventure       comedy        drama        ecchi  \\\n",
       "count  9832.000000  9832.000000  9832.000000  9832.000000  9832.000000   \n",
       "mean      0.268002     0.213283     0.391172     0.190704     0.062449   \n",
       "std       0.442941     0.409647     0.488038     0.392876     0.241982   \n",
       "min       0.000000     0.000000     0.000000     0.000000     0.000000   \n",
       "25%       0.000000     0.000000     0.000000     0.000000     0.000000   \n",
       "50%       0.000000     0.000000     0.000000     0.000000     0.000000   \n",
       "75%       1.000000     0.000000     1.000000     0.000000     0.000000   \n",
       "max       1.000000     1.000000     1.000000     1.000000     1.000000   \n",
       "\n",
       "           fantasy       horror  mahou_shoujo        mecha        music  ...  \\\n",
       "count  9832.000000  9832.000000   9832.000000  9832.000000  9832.000000  ...   \n",
       "mean      0.198841     0.034886      0.025325     0.082994     0.097539  ...   \n",
       "std       0.399148     0.183501      0.157120     0.275888     0.297048  ...   \n",
       "min       0.000000     0.000000      0.000000     0.000000     0.000000  ...   \n",
       "25%       0.000000     0.000000      0.000000     0.000000     0.000000  ...   \n",
       "50%       0.000000     0.000000      0.000000     0.000000     0.000000  ...   \n",
       "75%       0.000000     0.000000      0.000000     0.000000     0.000000  ...   \n",
       "max       1.000000     1.000000      1.000000     1.000000     2.000000  ...   \n",
       "\n",
       "             witch         work    wrestling      writing        wuxia  \\\n",
       "count  9832.000000  9832.000000  9832.000000  9832.000000  9832.000000   \n",
       "mean      0.006001     0.018206     0.002034     0.001526     0.000305   \n",
       "std       0.077236     0.133702     0.045058     0.039032     0.017466   \n",
       "min       0.000000     0.000000     0.000000     0.000000     0.000000   \n",
       "25%       0.000000     0.000000     0.000000     0.000000     0.000000   \n",
       "50%       0.000000     0.000000     0.000000     0.000000     0.000000   \n",
       "75%       0.000000     0.000000     0.000000     0.000000     0.000000   \n",
       "max       1.000000     1.000000     1.000000     1.000000     1.000000   \n",
       "\n",
       "            yakuza      yandere       youkai         yuri       zombie  \n",
       "count  9832.000000  9832.000000  9832.000000  9832.000000  9832.000000  \n",
       "mean      0.003458     0.004577     0.011086     0.025427     0.005391  \n",
       "std       0.058707     0.067501     0.104711     0.157427     0.073226  \n",
       "min       0.000000     0.000000     0.000000     0.000000     0.000000  \n",
       "25%       0.000000     0.000000     0.000000     0.000000     0.000000  \n",
       "50%       0.000000     0.000000     0.000000     0.000000     0.000000  \n",
       "75%       0.000000     0.000000     0.000000     0.000000     0.000000  \n",
       "max       1.000000     1.000000     1.000000     1.000000     1.000000  \n",
       "\n",
       "[8 rows x 265 columns]"
      ]
     },
     "execution_count": 10,
     "metadata": {},
     "output_type": "execute_result"
    }
   ],
   "source": [
    "df.describe()"
   ]
  },
  {
   "cell_type": "code",
   "execution_count": 11,
   "metadata": {},
   "outputs": [
    {
     "data": {
      "text/plain": [
       "action       2635\n",
       "adventure    2097\n",
       "comedy       3846\n",
       "drama        1875\n",
       "ecchi         614\n",
       "             ... \n",
       "yakuza         34\n",
       "yandere        45\n",
       "youkai        109\n",
       "yuri          250\n",
       "zombie         53\n",
       "Length: 265, dtype: int64"
      ]
     },
     "execution_count": 11,
     "metadata": {},
     "output_type": "execute_result"
    }
   ],
   "source": [
    "total_per_feature = df.sum(axis=0)\n",
    "total_per_feature"
   ]
  },
  {
   "cell_type": "code",
   "execution_count": 12,
   "metadata": {},
   "outputs": [
    {
     "data": {
      "text/plain": [
       "id\n",
       "10161      9\n",
       "99726     13\n",
       "98526      5\n",
       "966        9\n",
       "4876      11\n",
       "          ..\n",
       "99586     11\n",
       "99916      7\n",
       "101283    18\n",
       "101633    12\n",
       "101089     3\n",
       "Length: 9832, dtype: int64"
      ]
     },
     "execution_count": 12,
     "metadata": {},
     "output_type": "execute_result"
    }
   ],
   "source": [
    "total_per_show = df.sum(axis=1)\n",
    "total_per_show"
   ]
  },
  {
   "cell_type": "code",
   "execution_count": 13,
   "metadata": {},
   "outputs": [
    {
     "data": {
      "text/plain": [
       "id\n",
       "10161      9\n",
       "99726     13\n",
       "98526      5\n",
       "966        9\n",
       "4876      11\n",
       "          ..\n",
       "99586     11\n",
       "99916      7\n",
       "101283    18\n",
       "101633    12\n",
       "101089     3\n",
       "Name: total_features_per_show, Length: 9832, dtype: int64"
      ]
     },
     "execution_count": 13,
     "metadata": {},
     "output_type": "execute_result"
    }
   ],
   "source": [
    "total_per_show.rename('total_features_per_show')"
   ]
  },
  {
   "cell_type": "code",
   "execution_count": 14,
   "metadata": {},
   "outputs": [
    {
     "data": {
      "image/png": "[encoded data removed]",
      "text/plain": [
       "<Figure size 576x396 with 2 Axes>"
      ]
     },
     "metadata": {},
     "output_type": "display_data"
    }
   ],
   "source": [
    "fig, ax = plt.subplots(2,1, sharex=True)\n",
    "ax[0].hist(total_per_show, bins=30)\n",
    "ax[1] = sns.boxplot(total_per_show);"
   ]
  },
  {
   "cell_type": "markdown",
   "metadata": {},
   "source": [
    "This seems potentially problematic. A majority of the shows don't have very many features. How many are needed to make an acurate recommendation?"
   ]
  },
  {
   "cell_type": "code",
   "execution_count": 15,
   "metadata": {},
   "outputs": [],
   "source": [
    "def count_for_n_features(series, n):\n",
    "    print('{0:.1%}'.format(len(series[series <= n]) / len(series)), \n",
    "          'or', len(series[series <= n]), f'shows have {n} or fewer features describing them.')\n"
   ]
  },
  {
   "cell_type": "code",
   "execution_count": 16,
   "metadata": {},
   "outputs": [
    {
     "name": "stdout",
     "output_type": "stream",
     "text": [
      "28.5% or 2805 shows have 2 or fewer features describing them.\n"
     ]
    }
   ],
   "source": [
    "count_for_n_features(total_per_show, 2)"
   ]
  },
  {
   "cell_type": "code",
   "execution_count": 17,
   "metadata": {},
   "outputs": [
    {
     "name": "stdout",
     "output_type": "stream",
     "text": [
      "41.0% or 4034 shows have 3 or fewer features describing them.\n"
     ]
    }
   ],
   "source": [
    "count_for_n_features(total_per_show, 3)"
   ]
  },
  {
   "cell_type": "code",
   "execution_count": 18,
   "metadata": {},
   "outputs": [
    {
     "name": "stdout",
     "output_type": "stream",
     "text": [
      "51.3% or 5047 shows have 4 or fewer features describing them.\n"
     ]
    }
   ],
   "source": [
    "count_for_n_features(total_per_show, 4)"
   ]
  },
  {
   "cell_type": "code",
   "execution_count": null,
   "metadata": {},
   "outputs": [],
   "source": []
  },
  {
   "cell_type": "markdown",
   "metadata": {},
   "source": [
    "While selecting which tags to keep, many were cut out because of a low \"rank\" score. Let's go back and keep all tags but normalize(standardize?) them. "
   ]
  },
  {
   "cell_type": "code",
   "execution_count": null,
   "metadata": {},
   "outputs": [],
   "source": []
  },
  {
   "cell_type": "code",
   "execution_count": 19,
   "metadata": {},
   "outputs": [
    {
     "data": {
      "image/png": "[encoded data removed]",
      "text/plain": [
       "<Figure size 576x396 with 2 Axes>"
      ]
     },
     "metadata": {},
     "output_type": "display_data"
    }
   ],
   "source": [
    "fig, ax = plt.subplots(2,1, sharex=True)\n",
    "ax[0].hist(total_per_show, bins=30)\n",
    "ax[1] = sns.boxplot(total_per_feature);"
   ]
  },
  {
   "cell_type": "code",
   "execution_count": 20,
   "metadata": {},
   "outputs": [
    {
     "data": {
      "text/plain": [
       "airsoft         5\n",
       "asexual         4\n",
       "badminton       2\n",
       "bondage         5\n",
       "calligraphy     4\n",
       "centaur         5\n",
       "cheerleading    5\n",
       "ero_guro        4\n",
       "feet            1\n",
       "full_color      1\n",
       "go              4\n",
       "lacrosse        4\n",
       "masturbation    1\n",
       "netorare        4\n",
       "pov             1\n",
       "prostitution    1\n",
       "reformation     1\n",
       "rugby           3\n",
       "surfing         3\n",
       "table_tennis    4\n",
       "teens_love      3\n",
       "urination       1\n",
       "vikings         2\n",
       "voyeur          1\n",
       "wuxia           3\n",
       "dtype: int64"
      ]
     },
     "execution_count": 20,
     "metadata": {},
     "output_type": "execute_result"
    }
   ],
   "source": [
    "# the tags below each describe 5 or fewer anime. They can be dropped without losing too much.\n",
    "total_per_feature[total_per_feature < 6]"
   ]
  },
  {
   "cell_type": "code",
   "execution_count": null,
   "metadata": {},
   "outputs": [],
   "source": []
  },
  {
   "cell_type": "markdown",
   "metadata": {},
   "source": [
    "## Getting Recommendations"
   ]
  },
  {
   "cell_type": "code",
   "execution_count": 21,
   "metadata": {},
   "outputs": [],
   "source": [
    "def jaccard_similarity(df):\n",
    "    return (1 - pairwise_distances(df, metric=\"jaccard\"))\n",
    "\n",
    "\n",
    "def get_anime_id(search_term):\n",
    "    id_list = []\n",
    "    anime_id = title_df[title_df['userPreferred'].isin([search_term])].index\n",
    "    id_list.append(anime_id)\n",
    "    \n",
    "    return id_list[0].values[0]\n",
    "\n",
    "\n",
    "def get_top_n_recommendations(anime_id, dataframe, similarity_matrix, n=5):\n",
    "    positional_idx = dataframe.index.get_loc(anime_id)\n",
    "    \n",
    "    top_n = np.argsort(similarity_matrix[positional_idx,:])[-n-1:-1]\n",
    "    recom_titles = []\n",
    "    for idx, row in title_df.iloc[top_n,:].iterrows():\n",
    "        if type(row['english']) != float:\n",
    "            recom_titles.append(row['english'])\n",
    "        else:\n",
    "            recom_titles.append(row['userPreferred'])\n",
    "    \n",
    "    return recom_titles\n",
    "\n",
    "\n",
    "def view_title_similarity(search_term, recom_titles):\n",
    "    for title in recom_titles:\n",
    "        seq_matcher = SequenceMatcher(None, search_term, title)\n",
    "        print(f'The terms \"{search_term}\" and \"{title}\" are ' \n",
    "              + '{0:.2%}'.format(seq_matcher.quick_ratio()) + ' alike.')"
   ]
  },
  {
   "cell_type": "code",
   "execution_count": 22,
   "metadata": {},
   "outputs": [
    {
     "name": "stderr",
     "output_type": "stream",
     "text": [
      "/home/sean/anaconda3/lib/python3.7/site-packages/sklearn/metrics/pairwise.py:1735: DataConversionWarning: Data was converted to boolean for metric jaccard\n",
      "  warnings.warn(msg, DataConversionWarning)\n"
     ]
    }
   ],
   "source": [
    "cos_sim = cosine_similarity(df.values)\n",
    "\n",
    "jac_sim = jaccard_similarity(df.values)"
   ]
  },
  {
   "cell_type": "code",
   "execution_count": 23,
   "metadata": {},
   "outputs": [],
   "source": [
    "def get_search_term(initial_search):\n",
    "    '''Search the AniList API for a show based on a query.\n",
    "    \n",
    "    Returns the user preferred title \n",
    "    '''\n",
    "    query = '''\n",
    "    query ($search: String) {\n",
    "      Media (type: ANIME, search: $search) {\n",
    "        id\n",
    "        title {\n",
    "          romaji\n",
    "          english\n",
    "          native\n",
    "          userPreferred\n",
    "        }\n",
    "      }\n",
    "    }\n",
    "    '''\n",
    "    variables = {'search': initial_search}\n",
    "\n",
    "    url = 'https://graphql.anilist.co'\n",
    "    response = requests.post(url, \n",
    "                             json={'query': query, \n",
    "                                   'variables': variables})\n",
    "    user_preferred_title = response.json()['data']['Media']['title']['userPreferred']\n",
    "\n",
    "    return user_preferred_title"
   ]
  },
  {
   "cell_type": "markdown",
   "metadata": {},
   "source": [
    "<b>Recommendations should probably exclude titles from the same franchise.  \n",
    "For example, try getting recommendations for Ghost in the Shell.  \n",
    "If you already know you like Ghost in the Shell, it's pretty easy to find others in the same franchise if that's what you want.  </b>"
   ]
  },
  {
   "cell_type": "code",
   "execution_count": null,
   "metadata": {},
   "outputs": [],
   "source": []
  },
  {
   "cell_type": "markdown",
   "metadata": {},
   "source": [
    "First of all, our rudimentary search engine is failing..."
   ]
  },
  {
   "cell_type": "code",
   "execution_count": 24,
   "metadata": {},
   "outputs": [
    {
     "data": {
      "text/plain": [
       "'Koukaku Kidoutai'"
      ]
     },
     "execution_count": 24,
     "metadata": {},
     "output_type": "execute_result"
    }
   ],
   "source": [
    "initial_search = 'Ghost in the Shell'\n",
    "search_term = get_search_term(initial_search)\n",
    "search_term"
   ]
  },
  {
   "cell_type": "code",
   "execution_count": 25,
   "metadata": {},
   "outputs": [
    {
     "data": {
      "text/plain": [
       "['Ghost in the Shell: Stand Alone Complex - Solid State Society',\n",
       " 'Harmony',\n",
       " 'Ghost in the Shell Arise: Alternative Architecture',\n",
       " 'PSYCHO-PASS Sinners of the System Case 1: Tsumi to Batsu',\n",
       " 'Ghost in the Shell 2: Innocence',\n",
       " 'Ghost in the Shell: Stand Alone Complex - The Laughing Man',\n",
       " 'Ghost in the Shell: Stand Alone Complex 2nd GIG',\n",
       " 'PSYCHO-PASS 2',\n",
       " 'Ghost in the Shell: Stand Alone Complex',\n",
       " 'PSYCHO-PASS']"
      ]
     },
     "execution_count": 25,
     "metadata": {},
     "output_type": "execute_result"
    }
   ],
   "source": [
    "id_list = get_anime_id(search_term)\n",
    "rec_list = get_top_n_recommendations(id_list, df, cos_sim, n=10)\n",
    "rec_list"
   ]
  },
  {
   "cell_type": "code",
   "execution_count": null,
   "metadata": {},
   "outputs": [],
   "source": []
  },
  {
   "cell_type": "code",
   "execution_count": 26,
   "metadata": {},
   "outputs": [
    {
     "data": {
      "text/plain": [
       "\"Wolf's Rain\""
      ]
     },
     "execution_count": 26,
     "metadata": {},
     "output_type": "execute_result"
    }
   ],
   "source": [
    "initial_search = \"Wolf's Rain\"\n",
    "search_term = get_search_term(initial_search)\n",
    "search_term"
   ]
  },
  {
   "cell_type": "code",
   "execution_count": 27,
   "metadata": {},
   "outputs": [
    {
     "data": {
      "text/plain": [
       "202"
      ]
     },
     "execution_count": 27,
     "metadata": {},
     "output_type": "execute_result"
    }
   ],
   "source": [
    "id_list = get_anime_id(search_term)\n",
    "id_list"
   ]
  },
  {
   "cell_type": "code",
   "execution_count": 40,
   "metadata": {},
   "outputs": [
    {
     "name": "stdout",
     "output_type": "stream",
     "text": [
      "-----\n",
      "Top 5 based on Wolf's Rain: \n",
      "['Pokémon: Lucario and the Mystery of Mew', 'Final Fantasy VII: Last Order', 'Texhnolyze', 'Wan Wan Chuushingura', \"Wolf's Rain OVA\"]\n"
     ]
    }
   ],
   "source": [
    "n=5\n",
    "rec_list = get_top_n_recommendations(id_list, df, cos_sim, n=n)\n",
    "print('-----')\n",
    "print(f'Top {n} based on {search_term}: \\n{rec_list}')"
   ]
  },
  {
   "cell_type": "code",
   "execution_count": 41,
   "metadata": {
    "scrolled": true
   },
   "outputs": [
    {
     "name": "stdout",
     "output_type": "stream",
     "text": [
      "The terms \"Wolf's Rain\" and \"Pokémon: Lucario and the Mystery of Mew\" are 28.00% alike.\n",
      "The terms \"Wolf's Rain\" and \"Final Fantasy VII: Last Order\" are 30.00% alike.\n",
      "The terms \"Wolf's Rain\" and \"Texhnolyze\" are 28.57% alike.\n",
      "The terms \"Wolf's Rain\" and \"Wan Wan Chuushingura\" are 38.71% alike.\n",
      "The terms \"Wolf's Rain\" and \"Wolf's Rain OVA\" are 84.62% alike.\n"
     ]
    }
   ],
   "source": [
    "view_title_similarity(search_term, rec_list)"
   ]
  },
  {
   "cell_type": "markdown",
   "metadata": {},
   "source": [
    "Why is a Pokemon movie showing up as a recommendation based on Wolf's Rain? Also, why is Wan Wan Chuushingur being recommended. More on that one later. "
   ]
  },
  {
   "cell_type": "markdown",
   "metadata": {},
   "source": [
    "## Understanding Bad Recommendations"
   ]
  },
  {
   "cell_type": "markdown",
   "metadata": {},
   "source": [
    "<tr>\n",
    "    <td> <img src=\"https://upload.wikimedia.org/wikipedia/en/thumb/4/43/Wolf%27s_Rain_Region_2_Volume_1.jpg/220px-Wolf%27s_Rain_Region_2_Volume_1.jpg\" alt=\"Drawing\" style=\"width: 250px;\"/> </td>\n",
    "    <td> <img src=\"https://upload.wikimedia.org/wikipedia/en/thumb/9/95/Pok%C3%A9mon_Lucario_film_poster.jpg/220px-Pok%C3%A9mon_Lucario_film_poster.jpg\" alt=\"Drawing\" style=\"width: 250px;\"/> </td>\n",
    "    </tr>"
   ]
  },
  {
   "cell_type": "code",
   "execution_count": null,
   "metadata": {},
   "outputs": [],
   "source": [
    "wr_id = title_df[title_df['english'] == \"Wolf's Rain\"].index\n",
    "wr_df = df.loc[wr_id,:]"
   ]
  },
  {
   "cell_type": "code",
   "execution_count": null,
   "metadata": {},
   "outputs": [],
   "source": [
    "# Genres and tags for Wolf's Rain\n",
    "wr_df.loc[:, (wr_df != 0).any(axis=0)]"
   ]
  },
  {
   "cell_type": "code",
   "execution_count": null,
   "metadata": {},
   "outputs": [],
   "source": [
    "pk_id = title_df[title_df['english'] == \"Pokémon: Lucario and the Mystery of Mew\"].index\n",
    "pk_df = df.loc[pk_id,:]"
   ]
  },
  {
   "cell_type": "code",
   "execution_count": null,
   "metadata": {},
   "outputs": [],
   "source": [
    "# Genres and tags for Pokémon: Lucario and the Mystery of Mew\n",
    "pk_df.loc[:, (pk_df != 0).any(axis=0)]"
   ]
  },
  {
   "cell_type": "markdown",
   "metadata": {},
   "source": [
    "Would it be wise to give a heavier weight to the \"kids\" column?"
   ]
  },
  {
   "cell_type": "code",
   "execution_count": null,
   "metadata": {},
   "outputs": [],
   "source": [
    "sum(df['kids'])"
   ]
  },
  {
   "cell_type": "code",
   "execution_count": null,
   "metadata": {},
   "outputs": [],
   "source": [
    "total_per_feature['kids']"
   ]
  },
  {
   "cell_type": "code",
   "execution_count": null,
   "metadata": {},
   "outputs": [],
   "source": [
    "len(df)"
   ]
  },
  {
   "cell_type": "code",
   "execution_count": null,
   "metadata": {},
   "outputs": [],
   "source": [
    "plt.bar(['Kids', 'Not Kids'], [total_per_feature['kids'], len(df) - total_per_feature['kids']]);"
   ]
  },
  {
   "cell_type": "code",
   "execution_count": null,
   "metadata": {},
   "outputs": [],
   "source": [
    "plt.hist(total_per_feature, bins=50)\n",
    "plt.ylabel('Number of Tags')\n",
    "plt.xlabel('Total Number of Shows Per Tag');"
   ]
  },
  {
   "cell_type": "code",
   "execution_count": null,
   "metadata": {},
   "outputs": [],
   "source": [
    "for tag, count in total_per_feature.sort_values(ascending=False).iteritems():\n",
    "    print(tag, count)"
   ]
  },
  {
   "cell_type": "markdown",
   "metadata": {},
   "source": [
    "<b>Would like to penalize features that describe a large number of shows (i.e. comedy) and give a heavier weight to those that describe fewer shows.  \n",
    "The normalization should be strong enough to not recommend a Pokemon movie when looking at \"Wolf's Rain\" but not so strong that all recommendations are based on the rarest tag. </b>"
   ]
  },
  {
   "cell_type": "code",
   "execution_count": null,
   "metadata": {},
   "outputs": [],
   "source": []
  },
  {
   "cell_type": "code",
   "execution_count": null,
   "metadata": {},
   "outputs": [],
   "source": []
  },
  {
   "cell_type": "code",
   "execution_count": null,
   "metadata": {},
   "outputs": [],
   "source": [
    "initial_search = 'Ghost in the Shell'\n",
    "search_term = get_search_term(initial_search)\n",
    "search_term"
   ]
  },
  {
   "cell_type": "code",
   "execution_count": null,
   "metadata": {},
   "outputs": [],
   "source": [
    "# using cosine similarity \n",
    "id_list = get_anime_id(search_term)\n",
    "rec_list = get_top_n_recommendations(id_list, df, cos_sim, n=10)\n",
    "rec_list"
   ]
  },
  {
   "cell_type": "markdown",
   "metadata": {},
   "source": [
    "<b> The search is working but maybe we're returning too many from the same franchise.</b>"
   ]
  },
  {
   "cell_type": "code",
   "execution_count": null,
   "metadata": {},
   "outputs": [],
   "source": [
    "view_title_similarity('Ghost in the Shell', rec_list)"
   ]
  },
  {
   "cell_type": "code",
   "execution_count": null,
   "metadata": {},
   "outputs": [],
   "source": [
    "seq_matcher = SequenceMatcher(None, \n",
    "                              \"Ghost in the Shell Arise: Alternative Architecture\", \n",
    "                              \"Ghost in the Shell: Stand Alone Complex 2nd GIG\")\n",
    "seq_matcher.quick_ratio()"
   ]
  },
  {
   "cell_type": "markdown",
   "metadata": {},
   "source": [
    "This is one problem with the recommender. The recommendations are good but too many are not very useful for a user. Future work on the project would include going through and filtering out titles from the same franchise or only including one title per franchise. "
   ]
  },
  {
   "cell_type": "code",
   "execution_count": null,
   "metadata": {},
   "outputs": [],
   "source": [
    "id_list = get_anime_id(search_term)\n",
    "rec_list = get_top_n_recommendations(id_list, df, cos_sim, n=25)\n",
    "rec_list"
   ]
  },
  {
   "cell_type": "code",
   "execution_count": null,
   "metadata": {},
   "outputs": [],
   "source": [
    "## top 10 while limiting 1 per franchise\n",
    "['Appleseed',\n",
    " 'New Cutey Honey',\n",
    " 'Armitage III',\n",
    " 'Fireball Charming',\n",
    " 'Jin-Roh: The Wolf Brigade',\n",
    " 'Ergo Proxy',\n",
    " 'The Animatrix',\n",
    " 'Mardock Scramble: The Second Combustion',\n",
    " 'Harmony',\n",
    " 'Ghost in the Shell: Stand Alone Complex',\n",
    " 'PSYCHO-PASS']"
   ]
  },
  {
   "cell_type": "code",
   "execution_count": null,
   "metadata": {},
   "outputs": [],
   "source": []
  },
  {
   "cell_type": "markdown",
   "metadata": {},
   "source": [
    "## Comparing Cosine Similarity and Jaccard"
   ]
  },
  {
   "cell_type": "markdown",
   "metadata": {},
   "source": [
    "We can do Jaccard because our data is still binary"
   ]
  },
  {
   "cell_type": "markdown",
   "metadata": {},
   "source": [
    "### Samurai Champloo"
   ]
  },
  {
   "cell_type": "code",
   "execution_count": null,
   "metadata": {},
   "outputs": [],
   "source": [
    "initial_search = 'Samurai Champloo'\n",
    "search_term = get_search_term(initial_search)\n",
    "search_term"
   ]
  },
  {
   "cell_type": "code",
   "execution_count": null,
   "metadata": {},
   "outputs": [],
   "source": [
    "id_list = get_anime_id(search_term)\n",
    "rec_list = get_top_n_recommendations(id_list, df, cos_sim, n=10)\n",
    "rec_list"
   ]
  },
  {
   "cell_type": "code",
   "execution_count": null,
   "metadata": {},
   "outputs": [],
   "source": [
    "id_list = get_anime_id(search_term)\n",
    "rec_list = get_top_n_recommendations(id_list, df, jac_sim, n=10)\n",
    "rec_list"
   ]
  },
  {
   "cell_type": "markdown",
   "metadata": {},
   "source": [
    "Cosine similarity and jaccard similarity are returning similar results."
   ]
  },
  {
   "cell_type": "code",
   "execution_count": 42,
   "metadata": {},
   "outputs": [],
   "source": [
    "def view_features(search_term, df):\n",
    "    _id = title_df[title_df['userPreferred'] == search_term].index\n",
    "    _df = df.loc[_id,:]\n",
    "    return list(_df.loc[:, (_df != 0).any(axis=0)].columns)"
   ]
  },
  {
   "cell_type": "code",
   "execution_count": null,
   "metadata": {},
   "outputs": [],
   "source": [
    "champloo_tags = view_features(get_search_term('Samurai Champloo'), df)\n",
    "champloo_tags"
   ]
  },
  {
   "cell_type": "code",
   "execution_count": null,
   "metadata": {},
   "outputs": [],
   "source": [
    "# Blade of the Immortal scored higher with cosine similarity than jaccard similarity\n",
    "blade_immortal_tags = view_features(get_search_term(\"Blade of the Immortal\"), df)\n",
    "blade_immortal_tags"
   ]
  },
  {
   "cell_type": "code",
   "execution_count": null,
   "metadata": {},
   "outputs": [],
   "source": [
    "# \"Ranma ½: One Flew Over the Kuno's Nest\" scored higher with jaccard similarity than cosine similarity\n",
    "ranma_tags = view_features(get_search_term(\"Ranma ½: One Flew Over the Kuno's Nest\"), df)\n",
    "ranma_tags"
   ]
  },
  {
   "cell_type": "code",
   "execution_count": null,
   "metadata": {},
   "outputs": [],
   "source": []
  },
  {
   "cell_type": "markdown",
   "metadata": {},
   "source": [
    "Both have a \"supernatural\" tag while \"Samurai Champloo\" does not.  \n",
    "\"Action\" and \"Adventure\" are present for all three.  \n",
    "\"Blade of the Immortal\" shares \"historical\", \"samurai\", and \"swordplay\"  \n",
    "\"Ranma ½: One Flew Over the Kuno's Nest\" shares \"comedy\", \"martial_arts\", and \"shounen\"."
   ]
  },
  {
   "cell_type": "code",
   "execution_count": null,
   "metadata": {
    "scrolled": true
   },
   "outputs": [],
   "source": [
    "temp_categories = total_per_feature[total_per_feature.index.isin(['action', \n",
    "                                                                  'adventure', \n",
    "                                                                  'supernatural', \n",
    "                                                                  'historical', \n",
    "                                                                  'samurai', \n",
    "                                                                  'swordplay', \n",
    "                                                                  'comedy', \n",
    "                                                                  'martial_arts', \n",
    "                                                                  'shounen'])]\n",
    "plt.bar(temp_categories.index, temp_categories)\n",
    "plt.title('Number of Shows Per Genre/Tag');"
   ]
  },
  {
   "cell_type": "markdown",
   "metadata": {},
   "source": [
    "Not sure what's going on but it appears jaccard similarity may be favoring more common features.  \n",
    "To Be Continued..."
   ]
  },
  {
   "cell_type": "code",
   "execution_count": null,
   "metadata": {},
   "outputs": [],
   "source": []
  },
  {
   "cell_type": "markdown",
   "metadata": {},
   "source": [
    "## Diving into EDA"
   ]
  },
  {
   "cell_type": "code",
   "execution_count": 43,
   "metadata": {},
   "outputs": [
    {
     "data": {
      "image/png": "[encoded data removed]",
      "text/plain": [
       "<Figure size 864x576 with 2 Axes>"
      ]
     },
     "metadata": {},
     "output_type": "display_data"
    }
   ],
   "source": [
    "fig, ax = plt.subplots(2, 1, figsize=(12,8), sharex=True)\n",
    "ax[0].hist(total_per_feature, bins=100)\n",
    "ax[0].set_title('Number of Shows Per Genre/Tag')\n",
    "ax[0].set_ylabel('Tag Count')\n",
    "\n",
    "ax[1].boxplot(total_per_feature, vert=False)\n",
    "ax[1].set_xlabel('Anime Count');"
   ]
  },
  {
   "cell_type": "markdown",
   "metadata": {},
   "source": [
    "### Genres"
   ]
  },
  {
   "cell_type": "code",
   "execution_count": 30,
   "metadata": {},
   "outputs": [
    {
     "data": {
      "image/png": "[encoded data removed]",
      "text/plain": [
       "<Figure size 576x720 with 1 Axes>"
      ]
     },
     "metadata": {},
     "output_type": "display_data"
    }
   ],
   "source": [
    "sorted_genres = genres_item_matrix.sum(axis=0).sort_values(ascending=False)\n",
    "\n",
    "fig, ax = plt.subplots(figsize=(8, 10))\n",
    "ax = sns.barplot([((x/len(df)) * 100) for x in sorted_genres], \n",
    "                 [(x.replace('_', ' ')).title() for x in sorted_genres.index], \n",
    "                 orient='h', palette='Blues_d')\n",
    "ax.set_title('Common Genres')\n",
    "ax.set_xlabel('Percent of Anime Described by Genre');"
   ]
  },
  {
   "cell_type": "markdown",
   "metadata": {},
   "source": [
    "<b>Slice of Life</b> - depiction of everyday life experiences of (usually) ordinary people\n",
    "\n",
    "<b>Mecha</b> - giant robots\n",
    "\n",
    "<b>Ecchi</b> - defined by Wikipedia as \"an often used slang term in the Japanese language for playfully sexual actions\"\n",
    "\n",
    "<b>Mahou Shoujo</b> - magical girl\n"
   ]
  },
  {
   "cell_type": "code",
   "execution_count": 31,
   "metadata": {},
   "outputs": [
    {
     "data": {
      "image/png": "[encoded data removed]",
      "text/plain": [
       "<Figure size 576x720 with 1 Axes>"
      ]
     },
     "metadata": {},
     "output_type": "display_data"
    }
   ],
   "source": [
    "sorted_tags = tag_item_matrix.sum(axis=0).sort_values(ascending=False)\n",
    "\n",
    "fig, ax = plt.subplots(figsize=(8, 10))\n",
    "count=20\n",
    "ax = sns.barplot([((x/len(df)) * 100) for x in sorted_tags[:count]], \n",
    "                 [(x.replace('_', ' ')).title() for x in sorted_tags.index[:count]], \n",
    "                 orient='h', palette='Blues_d')\n",
    "ax.set_title(f'Top {count} Tags')\n",
    "ax.set_xlabel('Percent of Anime Described by Tag');"
   ]
  },
  {
   "cell_type": "markdown",
   "metadata": {},
   "source": [
    "<b>Shounen</b> - manga and anime marketed towards teenage males. \n",
    "\n",
    "<b>Seinen</b> - manga and anime marketed towards young adult men.\n",
    "\n",
    "<b>Shoujo</b> - manga and anime marketed towards teenage females."
   ]
  },
  {
   "cell_type": "code",
   "execution_count": null,
   "metadata": {},
   "outputs": [],
   "source": []
  },
  {
   "cell_type": "markdown",
   "metadata": {},
   "source": [
    "## Weighing Features"
   ]
  },
  {
   "cell_type": "code",
   "execution_count": 32,
   "metadata": {},
   "outputs": [
    {
     "data": {
      "text/html": [
       "<div>\n",
       "<style scoped>\n",
       "    .dataframe tbody tr th:only-of-type {\n",
       "        vertical-align: middle;\n",
       "    }\n",
       "\n",
       "    .dataframe tbody tr th {\n",
       "        vertical-align: top;\n",
       "    }\n",
       "\n",
       "    .dataframe thead th {\n",
       "        text-align: right;\n",
       "    }\n",
       "</style>\n",
       "<table border=\"1\" class=\"dataframe\">\n",
       "  <thead>\n",
       "    <tr style=\"text-align: right;\">\n",
       "      <th></th>\n",
       "      <th>4_koma</th>\n",
       "      <th>achronological_order</th>\n",
       "      <th>acting</th>\n",
       "      <th>advertisement</th>\n",
       "      <th>afterlife</th>\n",
       "      <th>age_gap</th>\n",
       "      <th>age_regression</th>\n",
       "      <th>agender</th>\n",
       "      <th>airsoft</th>\n",
       "      <th>aliens</th>\n",
       "      <th>...</th>\n",
       "      <th>witch</th>\n",
       "      <th>work</th>\n",
       "      <th>wrestling</th>\n",
       "      <th>writing</th>\n",
       "      <th>wuxia</th>\n",
       "      <th>yakuza</th>\n",
       "      <th>yandere</th>\n",
       "      <th>youkai</th>\n",
       "      <th>yuri</th>\n",
       "      <th>zombie</th>\n",
       "    </tr>\n",
       "    <tr>\n",
       "      <th>id</th>\n",
       "      <th></th>\n",
       "      <th></th>\n",
       "      <th></th>\n",
       "      <th></th>\n",
       "      <th></th>\n",
       "      <th></th>\n",
       "      <th></th>\n",
       "      <th></th>\n",
       "      <th></th>\n",
       "      <th></th>\n",
       "      <th></th>\n",
       "      <th></th>\n",
       "      <th></th>\n",
       "      <th></th>\n",
       "      <th></th>\n",
       "      <th></th>\n",
       "      <th></th>\n",
       "      <th></th>\n",
       "      <th></th>\n",
       "      <th></th>\n",
       "      <th></th>\n",
       "    </tr>\n",
       "  </thead>\n",
       "  <tbody>\n",
       "    <tr>\n",
       "      <th>10161</th>\n",
       "      <td>0.0</td>\n",
       "      <td>0.0</td>\n",
       "      <td>0.0</td>\n",
       "      <td>0.0</td>\n",
       "      <td>0.0</td>\n",
       "      <td>0.0</td>\n",
       "      <td>0.0</td>\n",
       "      <td>0.0</td>\n",
       "      <td>0.0</td>\n",
       "      <td>0.0</td>\n",
       "      <td>...</td>\n",
       "      <td>0.0</td>\n",
       "      <td>0.0</td>\n",
       "      <td>0.0</td>\n",
       "      <td>0.0</td>\n",
       "      <td>0.0</td>\n",
       "      <td>0.0</td>\n",
       "      <td>0.44</td>\n",
       "      <td>0.0</td>\n",
       "      <td>0.0</td>\n",
       "      <td>0.0</td>\n",
       "    </tr>\n",
       "    <tr>\n",
       "      <th>99726</th>\n",
       "      <td>0.0</td>\n",
       "      <td>0.0</td>\n",
       "      <td>0.0</td>\n",
       "      <td>0.0</td>\n",
       "      <td>0.0</td>\n",
       "      <td>0.0</td>\n",
       "      <td>0.0</td>\n",
       "      <td>0.0</td>\n",
       "      <td>0.0</td>\n",
       "      <td>0.0</td>\n",
       "      <td>...</td>\n",
       "      <td>0.0</td>\n",
       "      <td>0.0</td>\n",
       "      <td>0.0</td>\n",
       "      <td>0.0</td>\n",
       "      <td>0.0</td>\n",
       "      <td>0.0</td>\n",
       "      <td>0.00</td>\n",
       "      <td>0.0</td>\n",
       "      <td>0.0</td>\n",
       "      <td>0.0</td>\n",
       "    </tr>\n",
       "    <tr>\n",
       "      <th>98526</th>\n",
       "      <td>0.0</td>\n",
       "      <td>0.0</td>\n",
       "      <td>0.0</td>\n",
       "      <td>0.0</td>\n",
       "      <td>0.0</td>\n",
       "      <td>0.0</td>\n",
       "      <td>0.0</td>\n",
       "      <td>0.0</td>\n",
       "      <td>0.0</td>\n",
       "      <td>0.0</td>\n",
       "      <td>...</td>\n",
       "      <td>0.0</td>\n",
       "      <td>0.0</td>\n",
       "      <td>0.0</td>\n",
       "      <td>0.0</td>\n",
       "      <td>0.0</td>\n",
       "      <td>0.0</td>\n",
       "      <td>0.00</td>\n",
       "      <td>0.0</td>\n",
       "      <td>0.0</td>\n",
       "      <td>0.0</td>\n",
       "    </tr>\n",
       "    <tr>\n",
       "      <th>966</th>\n",
       "      <td>0.0</td>\n",
       "      <td>0.0</td>\n",
       "      <td>0.0</td>\n",
       "      <td>0.0</td>\n",
       "      <td>0.0</td>\n",
       "      <td>0.0</td>\n",
       "      <td>0.0</td>\n",
       "      <td>0.0</td>\n",
       "      <td>0.0</td>\n",
       "      <td>0.0</td>\n",
       "      <td>...</td>\n",
       "      <td>0.0</td>\n",
       "      <td>0.0</td>\n",
       "      <td>0.0</td>\n",
       "      <td>0.0</td>\n",
       "      <td>0.0</td>\n",
       "      <td>0.0</td>\n",
       "      <td>0.00</td>\n",
       "      <td>0.0</td>\n",
       "      <td>0.0</td>\n",
       "      <td>0.0</td>\n",
       "    </tr>\n",
       "    <tr>\n",
       "      <th>4876</th>\n",
       "      <td>0.0</td>\n",
       "      <td>0.0</td>\n",
       "      <td>0.0</td>\n",
       "      <td>0.0</td>\n",
       "      <td>0.0</td>\n",
       "      <td>0.0</td>\n",
       "      <td>0.0</td>\n",
       "      <td>0.0</td>\n",
       "      <td>0.0</td>\n",
       "      <td>0.0</td>\n",
       "      <td>...</td>\n",
       "      <td>0.0</td>\n",
       "      <td>0.0</td>\n",
       "      <td>0.0</td>\n",
       "      <td>0.0</td>\n",
       "      <td>0.0</td>\n",
       "      <td>0.0</td>\n",
       "      <td>0.00</td>\n",
       "      <td>0.0</td>\n",
       "      <td>0.0</td>\n",
       "      <td>0.0</td>\n",
       "    </tr>\n",
       "  </tbody>\n",
       "</table>\n",
       "<p>5 rows × 247 columns</p>\n",
       "</div>"
      ],
      "text/plain": [
       "       4_koma  achronological_order  acting  advertisement  afterlife  \\\n",
       "id                                                                      \n",
       "10161     0.0                   0.0     0.0            0.0        0.0   \n",
       "99726     0.0                   0.0     0.0            0.0        0.0   \n",
       "98526     0.0                   0.0     0.0            0.0        0.0   \n",
       "966       0.0                   0.0     0.0            0.0        0.0   \n",
       "4876      0.0                   0.0     0.0            0.0        0.0   \n",
       "\n",
       "       age_gap  age_regression  agender  airsoft  aliens  ...  witch  work  \\\n",
       "id                                                        ...                \n",
       "10161      0.0             0.0      0.0      0.0     0.0  ...    0.0   0.0   \n",
       "99726      0.0             0.0      0.0      0.0     0.0  ...    0.0   0.0   \n",
       "98526      0.0             0.0      0.0      0.0     0.0  ...    0.0   0.0   \n",
       "966        0.0             0.0      0.0      0.0     0.0  ...    0.0   0.0   \n",
       "4876       0.0             0.0      0.0      0.0     0.0  ...    0.0   0.0   \n",
       "\n",
       "       wrestling  writing  wuxia  yakuza  yandere  youkai  yuri  zombie  \n",
       "id                                                                       \n",
       "10161        0.0      0.0    0.0     0.0     0.44     0.0   0.0     0.0  \n",
       "99726        0.0      0.0    0.0     0.0     0.00     0.0   0.0     0.0  \n",
       "98526        0.0      0.0    0.0     0.0     0.00     0.0   0.0     0.0  \n",
       "966          0.0      0.0    0.0     0.0     0.00     0.0   0.0     0.0  \n",
       "4876         0.0      0.0    0.0     0.0     0.00     0.0   0.0     0.0  \n",
       "\n",
       "[5 rows x 247 columns]"
      ]
     },
     "execution_count": 32,
     "metadata": {},
     "output_type": "execute_result"
    }
   ],
   "source": [
    "tag_rank_item_matrix.head()"
   ]
  },
  {
   "cell_type": "code",
   "execution_count": 33,
   "metadata": {},
   "outputs": [
    {
     "data": {
      "text/html": [
       "<div>\n",
       "<style scoped>\n",
       "    .dataframe tbody tr th:only-of-type {\n",
       "        vertical-align: middle;\n",
       "    }\n",
       "\n",
       "    .dataframe tbody tr th {\n",
       "        vertical-align: top;\n",
       "    }\n",
       "\n",
       "    .dataframe thead th {\n",
       "        text-align: right;\n",
       "    }\n",
       "</style>\n",
       "<table border=\"1\" class=\"dataframe\">\n",
       "  <thead>\n",
       "    <tr style=\"text-align: right;\">\n",
       "      <th></th>\n",
       "      <th>action</th>\n",
       "      <th>adventure</th>\n",
       "      <th>comedy</th>\n",
       "      <th>drama</th>\n",
       "      <th>ecchi</th>\n",
       "      <th>fantasy</th>\n",
       "      <th>horror</th>\n",
       "      <th>mahou_shoujo</th>\n",
       "      <th>mecha</th>\n",
       "      <th>music</th>\n",
       "      <th>...</th>\n",
       "      <th>witch</th>\n",
       "      <th>work</th>\n",
       "      <th>wrestling</th>\n",
       "      <th>writing</th>\n",
       "      <th>wuxia</th>\n",
       "      <th>yakuza</th>\n",
       "      <th>yandere</th>\n",
       "      <th>youkai</th>\n",
       "      <th>yuri</th>\n",
       "      <th>zombie</th>\n",
       "    </tr>\n",
       "    <tr>\n",
       "      <th>id</th>\n",
       "      <th></th>\n",
       "      <th></th>\n",
       "      <th></th>\n",
       "      <th></th>\n",
       "      <th></th>\n",
       "      <th></th>\n",
       "      <th></th>\n",
       "      <th></th>\n",
       "      <th></th>\n",
       "      <th></th>\n",
       "      <th></th>\n",
       "      <th></th>\n",
       "      <th></th>\n",
       "      <th></th>\n",
       "      <th></th>\n",
       "      <th></th>\n",
       "      <th></th>\n",
       "      <th></th>\n",
       "      <th></th>\n",
       "      <th></th>\n",
       "      <th></th>\n",
       "    </tr>\n",
       "  </thead>\n",
       "  <tbody>\n",
       "    <tr>\n",
       "      <th>10161</th>\n",
       "      <td>1</td>\n",
       "      <td>0</td>\n",
       "      <td>0</td>\n",
       "      <td>1</td>\n",
       "      <td>0</td>\n",
       "      <td>0</td>\n",
       "      <td>0</td>\n",
       "      <td>0</td>\n",
       "      <td>0</td>\n",
       "      <td>0</td>\n",
       "      <td>...</td>\n",
       "      <td>0.0</td>\n",
       "      <td>0.0</td>\n",
       "      <td>0.0</td>\n",
       "      <td>0.0</td>\n",
       "      <td>0.0</td>\n",
       "      <td>0.0</td>\n",
       "      <td>0.44</td>\n",
       "      <td>0.0</td>\n",
       "      <td>0.0</td>\n",
       "      <td>0.0</td>\n",
       "    </tr>\n",
       "    <tr>\n",
       "      <th>99726</th>\n",
       "      <td>0</td>\n",
       "      <td>1</td>\n",
       "      <td>1</td>\n",
       "      <td>0</td>\n",
       "      <td>0</td>\n",
       "      <td>1</td>\n",
       "      <td>0</td>\n",
       "      <td>0</td>\n",
       "      <td>0</td>\n",
       "      <td>0</td>\n",
       "      <td>...</td>\n",
       "      <td>0.0</td>\n",
       "      <td>0.0</td>\n",
       "      <td>0.0</td>\n",
       "      <td>0.0</td>\n",
       "      <td>0.0</td>\n",
       "      <td>0.0</td>\n",
       "      <td>0.00</td>\n",
       "      <td>0.0</td>\n",
       "      <td>0.0</td>\n",
       "      <td>0.0</td>\n",
       "    </tr>\n",
       "    <tr>\n",
       "      <th>98526</th>\n",
       "      <td>1</td>\n",
       "      <td>0</td>\n",
       "      <td>0</td>\n",
       "      <td>1</td>\n",
       "      <td>0</td>\n",
       "      <td>0</td>\n",
       "      <td>0</td>\n",
       "      <td>0</td>\n",
       "      <td>0</td>\n",
       "      <td>0</td>\n",
       "      <td>...</td>\n",
       "      <td>0.0</td>\n",
       "      <td>0.0</td>\n",
       "      <td>0.0</td>\n",
       "      <td>0.0</td>\n",
       "      <td>0.0</td>\n",
       "      <td>0.0</td>\n",
       "      <td>0.00</td>\n",
       "      <td>0.0</td>\n",
       "      <td>0.0</td>\n",
       "      <td>0.0</td>\n",
       "    </tr>\n",
       "    <tr>\n",
       "      <th>966</th>\n",
       "      <td>0</td>\n",
       "      <td>0</td>\n",
       "      <td>1</td>\n",
       "      <td>0</td>\n",
       "      <td>1</td>\n",
       "      <td>0</td>\n",
       "      <td>0</td>\n",
       "      <td>0</td>\n",
       "      <td>0</td>\n",
       "      <td>0</td>\n",
       "      <td>...</td>\n",
       "      <td>0.0</td>\n",
       "      <td>0.0</td>\n",
       "      <td>0.0</td>\n",
       "      <td>0.0</td>\n",
       "      <td>0.0</td>\n",
       "      <td>0.0</td>\n",
       "      <td>0.00</td>\n",
       "      <td>0.0</td>\n",
       "      <td>0.0</td>\n",
       "      <td>0.0</td>\n",
       "    </tr>\n",
       "    <tr>\n",
       "      <th>4876</th>\n",
       "      <td>1</td>\n",
       "      <td>1</td>\n",
       "      <td>0</td>\n",
       "      <td>1</td>\n",
       "      <td>0</td>\n",
       "      <td>0</td>\n",
       "      <td>0</td>\n",
       "      <td>0</td>\n",
       "      <td>0</td>\n",
       "      <td>0</td>\n",
       "      <td>...</td>\n",
       "      <td>0.0</td>\n",
       "      <td>0.0</td>\n",
       "      <td>0.0</td>\n",
       "      <td>0.0</td>\n",
       "      <td>0.0</td>\n",
       "      <td>0.0</td>\n",
       "      <td>0.00</td>\n",
       "      <td>0.0</td>\n",
       "      <td>0.0</td>\n",
       "      <td>0.0</td>\n",
       "    </tr>\n",
       "  </tbody>\n",
       "</table>\n",
       "<p>5 rows × 265 columns</p>\n",
       "</div>"
      ],
      "text/plain": [
       "       action  adventure  comedy  drama  ecchi  fantasy  horror  mahou_shoujo  \\\n",
       "id                                                                              \n",
       "10161       1          0       0      1      0        0       0             0   \n",
       "99726       0          1       1      0      0        1       0             0   \n",
       "98526       1          0       0      1      0        0       0             0   \n",
       "966         0          0       1      0      1        0       0             0   \n",
       "4876        1          1       0      1      0        0       0             0   \n",
       "\n",
       "       mecha  music  ...  witch  work  wrestling  writing  wuxia  yakuza  \\\n",
       "id                   ...                                                   \n",
       "10161      0      0  ...    0.0   0.0        0.0      0.0    0.0     0.0   \n",
       "99726      0      0  ...    0.0   0.0        0.0      0.0    0.0     0.0   \n",
       "98526      0      0  ...    0.0   0.0        0.0      0.0    0.0     0.0   \n",
       "966        0      0  ...    0.0   0.0        0.0      0.0    0.0     0.0   \n",
       "4876       0      0  ...    0.0   0.0        0.0      0.0    0.0     0.0   \n",
       "\n",
       "       yandere  youkai  yuri  zombie  \n",
       "id                                    \n",
       "10161     0.44     0.0   0.0     0.0  \n",
       "99726     0.00     0.0   0.0     0.0  \n",
       "98526     0.00     0.0   0.0     0.0  \n",
       "966       0.00     0.0   0.0     0.0  \n",
       "4876      0.00     0.0   0.0     0.0  \n",
       "\n",
       "[5 rows x 265 columns]"
      ]
     },
     "execution_count": 33,
     "metadata": {},
     "output_type": "execute_result"
    }
   ],
   "source": [
    "df_w_rank = pd.concat([genres_item_matrix, tag_rank_item_matrix], axis=1)\n",
    "df_w_rank.head()"
   ]
  },
  {
   "cell_type": "code",
   "execution_count": 34,
   "metadata": {},
   "outputs": [],
   "source": [
    "cos_sim_rank = cosine_similarity(df_w_rank.values)"
   ]
  },
  {
   "cell_type": "code",
   "execution_count": 35,
   "metadata": {},
   "outputs": [],
   "source": [
    "rec_list = get_top_n_recommendations(id_list, df, cos_sim, n=5)\n"
   ]
  },
  {
   "cell_type": "code",
   "execution_count": 36,
   "metadata": {},
   "outputs": [
    {
     "data": {
      "text/plain": [
       "['Sky Blue',\n",
       " 'Vampire Hunter D: Bloodlust',\n",
       " 'Miracle Psychicer Seizan',\n",
       " 'Mujin Wakusei Survive',\n",
       " 'Planetarian',\n",
       " 'Pokémon: Lucario and the Mystery of Mew',\n",
       " 'Final Fantasy VII: Last Order',\n",
       " 'Texhnolyze',\n",
       " 'Wan Wan Chuushingura',\n",
       " \"Wolf's Rain OVA\"]"
      ]
     },
     "execution_count": 36,
     "metadata": {},
     "output_type": "execute_result"
    }
   ],
   "source": [
    "# boolean matrix\n",
    "initial_search = \"Wolf's Rain\"\n",
    "search_term = get_search_term(initial_search)\n",
    "\n",
    "id_list = get_anime_id(search_term)\n",
    "rec_list = get_top_n_recommendations(id_list, df, cos_sim, n=10)\n",
    "rec_list"
   ]
  },
  {
   "cell_type": "code",
   "execution_count": 37,
   "metadata": {},
   "outputs": [
    {
     "data": {
      "text/plain": [
       "['Ancien to Mahou no Tablet: Mou Hitotsu no Hirune Hime',\n",
       " 'Shen Qi Huan Qi Tan',\n",
       " 'Chrome Shelled Regios',\n",
       " 'Pokémon: Lucario and the Mystery of Mew',\n",
       " 'Kingsglaive Final Fantasy XV',\n",
       " 'Wan Wan Chuushingura',\n",
       " \"Wolf's Rain OVA\",\n",
       " 'Galilei Donna',\n",
       " 'Jyu-Oh-Sei: Planet of the Beast King',\n",
       " 'Final Fantasy VII: Last Order']"
      ]
     },
     "execution_count": 37,
     "metadata": {},
     "output_type": "execute_result"
    }
   ],
   "source": [
    "# Accounting for tag relevance to title\n",
    "initial_search = \"Wolf's Rain\"\n",
    "search_term = get_search_term(initial_search)\n",
    "\n",
    "id_list = get_anime_id(search_term)\n",
    "rec_list = get_top_n_recommendations(id_list, df_w_rank, cos_sim_rank, n=10)\n",
    "rec_list"
   ]
  },
  {
   "cell_type": "markdown",
   "metadata": {},
   "source": [
    "<b>Using rank pushed the Pokemon recommendation back. That's a good sign.</b>  \n",
    "'Wan Wan Chuushingura' is still present through. Why?"
   ]
  },
  {
   "cell_type": "code",
   "execution_count": 44,
   "metadata": {},
   "outputs": [
    {
     "data": {
      "text/plain": [
       "['action',\n",
       " 'adventure',\n",
       " 'drama',\n",
       " 'fantasy',\n",
       " 'mystery',\n",
       " 'sci_fi',\n",
       " 'animals',\n",
       " 'dystopian',\n",
       " 'post_apocalyptic',\n",
       " 'primarily_adult_cast',\n",
       " 'survival',\n",
       " 'tragedy',\n",
       " 'werewolf']"
      ]
     },
     "execution_count": 44,
     "metadata": {},
     "output_type": "execute_result"
    }
   ],
   "source": [
    "view_features(get_search_term(\"Wolf's Rain\"), df_w_rank)"
   ]
  },
  {
   "cell_type": "code",
   "execution_count": 45,
   "metadata": {},
   "outputs": [
    {
     "data": {
      "text/plain": [
       "['action', 'adventure', 'drama', 'fantasy', 'animals']"
      ]
     },
     "execution_count": 45,
     "metadata": {},
     "output_type": "execute_result"
    }
   ],
   "source": [
    "view_features(get_search_term('Wan Wan Chuushingura'), df_w_rank)"
   ]
  },
  {
   "cell_type": "markdown",
   "metadata": {},
   "source": [
    "All of the tags for \"Wan Wan Chuushingura\" are also tags for \"Wolf's Rain\" but there are a few missing that are very important. This goes back to a problem noticed earlier. Our data is more sparce than what is ideal. We need more tags for \"Wan Wan Chuushingura\" for our recommender to see that maybe this isn't a great suggestion based on Wolf's Rain.  \n",
    "Would it be worth penalizing titles with fewer features?  \n",
    "Or maybe we just cut out titles with fewer features? "
   ]
  },
  {
   "cell_type": "code",
   "execution_count": null,
   "metadata": {},
   "outputs": [],
   "source": []
  },
  {
   "cell_type": "markdown",
   "metadata": {},
   "source": [
    "### Penalization Vectors"
   ]
  },
  {
   "cell_type": "code",
   "execution_count": null,
   "metadata": {},
   "outputs": [],
   "source": []
  },
  {
   "cell_type": "code",
   "execution_count": 56,
   "metadata": {},
   "outputs": [],
   "source": [
    "score_df = pd.read_csv('data/score_df.csv', index_col='id')"
   ]
  },
  {
   "cell_type": "code",
   "execution_count": 57,
   "metadata": {},
   "outputs": [
    {
     "data": {
      "text/html": [
       "<div>\n",
       "<style scoped>\n",
       "    .dataframe tbody tr th:only-of-type {\n",
       "        vertical-align: middle;\n",
       "    }\n",
       "\n",
       "    .dataframe tbody tr th {\n",
       "        vertical-align: top;\n",
       "    }\n",
       "\n",
       "    .dataframe thead th {\n",
       "        text-align: right;\n",
       "    }\n",
       "</style>\n",
       "<table border=\"1\" class=\"dataframe\">\n",
       "  <thead>\n",
       "    <tr style=\"text-align: right;\">\n",
       "      <th></th>\n",
       "      <th>averageScore</th>\n",
       "      <th>popularity</th>\n",
       "    </tr>\n",
       "    <tr>\n",
       "      <th>id</th>\n",
       "      <th></th>\n",
       "      <th></th>\n",
       "    </tr>\n",
       "  </thead>\n",
       "  <tbody>\n",
       "    <tr>\n",
       "      <th>10161</th>\n",
       "      <td>71.0</td>\n",
       "      <td>27608</td>\n",
       "    </tr>\n",
       "    <tr>\n",
       "      <th>99726</th>\n",
       "      <td>75.0</td>\n",
       "      <td>41540</td>\n",
       "    </tr>\n",
       "    <tr>\n",
       "      <th>98526</th>\n",
       "      <td>58.0</td>\n",
       "      <td>1901</td>\n",
       "    </tr>\n",
       "    <tr>\n",
       "      <th>966</th>\n",
       "      <td>73.0</td>\n",
       "      <td>4681</td>\n",
       "    </tr>\n",
       "    <tr>\n",
       "      <th>4876</th>\n",
       "      <td>61.0</td>\n",
       "      <td>921</td>\n",
       "    </tr>\n",
       "  </tbody>\n",
       "</table>\n",
       "</div>"
      ],
      "text/plain": [
       "       averageScore  popularity\n",
       "id                             \n",
       "10161          71.0       27608\n",
       "99726          75.0       41540\n",
       "98526          58.0        1901\n",
       "966            73.0        4681\n",
       "4876           61.0         921"
      ]
     },
     "execution_count": 57,
     "metadata": {},
     "output_type": "execute_result"
    }
   ],
   "source": [
    "score_df.head()"
   ]
  },
  {
   "cell_type": "code",
   "execution_count": 58,
   "metadata": {},
   "outputs": [
    {
     "data": {
      "image/png": "[encoded data removed]",
      "text/plain": [
       "<Figure size 576x396 with 1 Axes>"
      ]
     },
     "metadata": {},
     "output_type": "display_data"
    }
   ],
   "source": [
    "sns.scatterplot(score_df['averageScore'], \n",
    "                score_df['popularity'], \n",
    "                s=30, \n",
    "                alpha=.5);"
   ]
  },
  {
   "cell_type": "code",
   "execution_count": 130,
   "metadata": {},
   "outputs": [
    {
     "data": {
      "text/plain": [
       "'Pupa'"
      ]
     },
     "execution_count": 130,
     "metadata": {},
     "output_type": "execute_result"
    }
   ],
   "source": [
    "# popular yet poorly rated\n",
    "x = score_df[(score_df['averageScore'] < 30) & (score_df['popularity'] > 15000)]\n",
    "\n",
    "get_title_from_id(x.index.values[0])"
   ]
  },
  {
   "cell_type": "code",
   "execution_count": 65,
   "metadata": {},
   "outputs": [
    {
     "data": {
      "text/plain": [
       "[21519, 20605, 19815, 9253, 5114, 21087, 21459, 1535, 11757, 16498]"
      ]
     },
     "execution_count": 65,
     "metadata": {},
     "output_type": "execute_result"
    }
   ],
   "source": [
    "top_10_pop = list(score_df['popularity'].sort_values()[-10:].index)\n",
    "top_10_pop"
   ]
  },
  {
   "cell_type": "code",
   "execution_count": 74,
   "metadata": {},
   "outputs": [
    {
     "data": {
      "text/plain": [
       "[15417, 15335, 820, 21745, 104578, 20996, 20954, 9253, 11061, 5114]"
      ]
     },
     "execution_count": 74,
     "metadata": {},
     "output_type": "execute_result"
    }
   ],
   "source": [
    "top_10_score = list(score_df['averageScore'].sort_values().dropna()[-10:].index)\n",
    "top_10_score"
   ]
  },
  {
   "cell_type": "code",
   "execution_count": 64,
   "metadata": {},
   "outputs": [],
   "source": [
    "def get_title_from_id(_id):\n",
    "    '''Searches the title dataframe based on an anime id and tries to return the english title. \n",
    "    If an english title is not available, the \"user preferred\" is give. '''\n",
    "    title = None\n",
    "    if pd.isna(title_df.loc[title_df.index == _id, 'english']).values[0]:\n",
    "        title = title_df.loc[title_df.index == _id, 'userPreferred'].values[0]\n",
    "    else:\n",
    "        title = title_df.loc[title_df.index == _id, 'english'].values[0]\n",
    "    \n",
    "    return title"
   ]
  },
  {
   "cell_type": "code",
   "execution_count": 66,
   "metadata": {
    "scrolled": true
   },
   "outputs": [
    {
     "name": "stdout",
     "output_type": "stream",
     "text": [
      "Your Name.\n",
      "Tokyo Ghoul\n",
      "No Game, No Life\n",
      "Steins;Gate\n",
      "Fullmetal Alchemist: Brotherhood\n",
      "One-Punch Man\n",
      "My Hero Academia\n",
      "Death Note\n",
      "Sword Art Online\n",
      "Attack on Titan\n"
     ]
    }
   ],
   "source": [
    "for _id in top_10_pop:\n",
    "    print(get_title_from_id(_id))"
   ]
  },
  {
   "cell_type": "code",
   "execution_count": 75,
   "metadata": {},
   "outputs": [
    {
     "name": "stdout",
     "output_type": "stream",
     "text": [
      "Gintama Season 3\n",
      "Gintama: The Final Chapter - Be Forever Yorozuya\n",
      "Legend of the Galactic Heroes\n",
      "Owarimonogatari Second Season\n",
      "Attack on Titan Season 3 Part 2\n",
      "Gintama Season 4\n",
      "A Silent Voice\n",
      "Steins;Gate\n",
      "Hunter x Hunter (2011)\n",
      "Fullmetal Alchemist: Brotherhood\n"
     ]
    }
   ],
   "source": [
    "for _id in top_10_score:\n",
    "    print(get_title_from_id(_id))"
   ]
  },
  {
   "cell_type": "markdown",
   "metadata": {},
   "source": [
    "To confirm, popularity is not based on averageScore"
   ]
  },
  {
   "cell_type": "code",
   "execution_count": 87,
   "metadata": {},
   "outputs": [
    {
     "data": {
      "text/plain": [
       "Int64Index([115436, 118675, 116058, 118050, 118048, 117792, 115198, 117928,\n",
       "            118112, 117794,\n",
       "            ...\n",
       "             21519,  20605,  19815,   9253,   5114,  21087,  21459,   1535,\n",
       "             11757,  16498],\n",
       "           dtype='int64', name='id', length=9832)"
      ]
     },
     "execution_count": 87,
     "metadata": {},
     "output_type": "execute_result"
    }
   ],
   "source": [
    "score_df['popularity'].sort_values().index"
   ]
  },
  {
   "cell_type": "code",
   "execution_count": 98,
   "metadata": {},
   "outputs": [],
   "source": [
    "sorted_pop = score_df['popularity'].sort_values()\n",
    "for num, idx_pop in enumerate(sorted_pop.items()):\n",
    "    score_df.loc[idx_pop[0], 'pop_rank'] = num\n"
   ]
  },
  {
   "cell_type": "code",
   "execution_count": 99,
   "metadata": {},
   "outputs": [
    {
     "data": {
      "text/html": [
       "<div>\n",
       "<style scoped>\n",
       "    .dataframe tbody tr th:only-of-type {\n",
       "        vertical-align: middle;\n",
       "    }\n",
       "\n",
       "    .dataframe tbody tr th {\n",
       "        vertical-align: top;\n",
       "    }\n",
       "\n",
       "    .dataframe thead th {\n",
       "        text-align: right;\n",
       "    }\n",
       "</style>\n",
       "<table border=\"1\" class=\"dataframe\">\n",
       "  <thead>\n",
       "    <tr style=\"text-align: right;\">\n",
       "      <th></th>\n",
       "      <th>averageScore</th>\n",
       "      <th>popularity</th>\n",
       "      <th>pop_rank</th>\n",
       "    </tr>\n",
       "    <tr>\n",
       "      <th>id</th>\n",
       "      <th></th>\n",
       "      <th></th>\n",
       "      <th></th>\n",
       "    </tr>\n",
       "  </thead>\n",
       "  <tbody>\n",
       "    <tr>\n",
       "      <th>10161</th>\n",
       "      <td>71.0</td>\n",
       "      <td>27608</td>\n",
       "      <td>9376</td>\n",
       "    </tr>\n",
       "    <tr>\n",
       "      <th>99726</th>\n",
       "      <td>75.0</td>\n",
       "      <td>41540</td>\n",
       "      <td>9573</td>\n",
       "    </tr>\n",
       "    <tr>\n",
       "      <th>98526</th>\n",
       "      <td>58.0</td>\n",
       "      <td>1901</td>\n",
       "      <td>6538</td>\n",
       "    </tr>\n",
       "    <tr>\n",
       "      <th>966</th>\n",
       "      <td>73.0</td>\n",
       "      <td>4681</td>\n",
       "      <td>7702</td>\n",
       "    </tr>\n",
       "    <tr>\n",
       "      <th>4876</th>\n",
       "      <td>61.0</td>\n",
       "      <td>921</td>\n",
       "      <td>5544</td>\n",
       "    </tr>\n",
       "    <tr>\n",
       "      <th>...</th>\n",
       "      <td>...</td>\n",
       "      <td>...</td>\n",
       "      <td>...</td>\n",
       "    </tr>\n",
       "    <tr>\n",
       "      <th>99586</th>\n",
       "      <td>65.0</td>\n",
       "      <td>15135</td>\n",
       "      <td>8928</td>\n",
       "    </tr>\n",
       "    <tr>\n",
       "      <th>99916</th>\n",
       "      <td>76.0</td>\n",
       "      <td>9351</td>\n",
       "      <td>8467</td>\n",
       "    </tr>\n",
       "    <tr>\n",
       "      <th>101283</th>\n",
       "      <td>67.0</td>\n",
       "      <td>25665</td>\n",
       "      <td>9335</td>\n",
       "    </tr>\n",
       "    <tr>\n",
       "      <th>101633</th>\n",
       "      <td>74.0</td>\n",
       "      <td>5967</td>\n",
       "      <td>7975</td>\n",
       "    </tr>\n",
       "    <tr>\n",
       "      <th>101089</th>\n",
       "      <td>NaN</td>\n",
       "      <td>203</td>\n",
       "      <td>3117</td>\n",
       "    </tr>\n",
       "  </tbody>\n",
       "</table>\n",
       "<p>9832 rows × 3 columns</p>\n",
       "</div>"
      ],
      "text/plain": [
       "        averageScore  popularity  pop_rank\n",
       "id                                        \n",
       "10161           71.0       27608      9376\n",
       "99726           75.0       41540      9573\n",
       "98526           58.0        1901      6538\n",
       "966             73.0        4681      7702\n",
       "4876            61.0         921      5544\n",
       "...              ...         ...       ...\n",
       "99586           65.0       15135      8928\n",
       "99916           76.0        9351      8467\n",
       "101283          67.0       25665      9335\n",
       "101633          74.0        5967      7975\n",
       "101089           NaN         203      3117\n",
       "\n",
       "[9832 rows x 3 columns]"
      ]
     },
     "execution_count": 99,
     "metadata": {},
     "output_type": "execute_result"
    }
   ],
   "source": [
    "score_df"
   ]
  },
  {
   "cell_type": "code",
   "execution_count": 104,
   "metadata": {},
   "outputs": [
    {
     "name": "stdout",
     "output_type": "stream",
     "text": [
      "Your Name.\n",
      "Tokyo Ghoul\n",
      "No Game, No Life\n",
      "Steins;Gate\n",
      "Fullmetal Alchemist: Brotherhood\n",
      "One-Punch Man\n",
      "My Hero Academia\n",
      "Death Note\n",
      "Sword Art Online\n",
      "Attack on Titan\n"
     ]
    }
   ],
   "source": [
    "for _id in list(score_df['pop_rank'].sort_values()[-10:].index):\n",
    "    print(get_title_from_id(_id))\n"
   ]
  },
  {
   "cell_type": "code",
   "execution_count": 119,
   "metadata": {},
   "outputs": [],
   "source": [
    "scaler = MinMaxScaler()\n",
    "scaled_pop = scaler.fit_transform(score_df['popularity'].to_numpy().reshape(-1, 1))"
   ]
  },
  {
   "cell_type": "code",
   "execution_count": 155,
   "metadata": {},
   "outputs": [
    {
     "name": "stdout",
     "output_type": "stream",
     "text": [
      "21519 Your Name.\n",
      "20605 Tokyo Ghoul\n",
      "19815 No Game, No Life\n",
      "9253 Steins;Gate\n",
      "5114 Fullmetal Alchemist: Brotherhood\n",
      "21087 One-Punch Man\n",
      "21459 My Hero Academia\n",
      "1535 Death Note\n",
      "11757 Sword Art Online\n",
      "16498 Attack on Titan\n"
     ]
    }
   ],
   "source": [
    "for _id in list(score_df['pop_scaled'].sort_values()[-10:].index):\n",
    "    print(_id, get_title_from_id(_id))\n"
   ]
  },
  {
   "cell_type": "code",
   "execution_count": null,
   "metadata": {},
   "outputs": [],
   "source": []
  },
  {
   "cell_type": "code",
   "execution_count": 120,
   "metadata": {},
   "outputs": [
    {
     "data": {
      "text/html": [
       "<div>\n",
       "<style scoped>\n",
       "    .dataframe tbody tr th:only-of-type {\n",
       "        vertical-align: middle;\n",
       "    }\n",
       "\n",
       "    .dataframe tbody tr th {\n",
       "        vertical-align: top;\n",
       "    }\n",
       "\n",
       "    .dataframe thead th {\n",
       "        text-align: right;\n",
       "    }\n",
       "</style>\n",
       "<table border=\"1\" class=\"dataframe\">\n",
       "  <thead>\n",
       "    <tr style=\"text-align: right;\">\n",
       "      <th></th>\n",
       "      <th>averageScore</th>\n",
       "      <th>popularity</th>\n",
       "      <th>pop_rank</th>\n",
       "      <th>pop_scaled</th>\n",
       "    </tr>\n",
       "    <tr>\n",
       "      <th>id</th>\n",
       "      <th></th>\n",
       "      <th></th>\n",
       "      <th></th>\n",
       "      <th></th>\n",
       "    </tr>\n",
       "  </thead>\n",
       "  <tbody>\n",
       "    <tr>\n",
       "      <th>10161</th>\n",
       "      <td>71.0</td>\n",
       "      <td>27608</td>\n",
       "      <td>9376</td>\n",
       "      <td>0.158971</td>\n",
       "    </tr>\n",
       "    <tr>\n",
       "      <th>99726</th>\n",
       "      <td>75.0</td>\n",
       "      <td>41540</td>\n",
       "      <td>9573</td>\n",
       "      <td>0.239225</td>\n",
       "    </tr>\n",
       "    <tr>\n",
       "      <th>98526</th>\n",
       "      <td>58.0</td>\n",
       "      <td>1901</td>\n",
       "      <td>6538</td>\n",
       "      <td>0.010887</td>\n",
       "    </tr>\n",
       "    <tr>\n",
       "      <th>966</th>\n",
       "      <td>73.0</td>\n",
       "      <td>4681</td>\n",
       "      <td>7702</td>\n",
       "      <td>0.026901</td>\n",
       "    </tr>\n",
       "    <tr>\n",
       "      <th>4876</th>\n",
       "      <td>61.0</td>\n",
       "      <td>921</td>\n",
       "      <td>5544</td>\n",
       "      <td>0.005242</td>\n",
       "    </tr>\n",
       "  </tbody>\n",
       "</table>\n",
       "</div>"
      ],
      "text/plain": [
       "       averageScore  popularity  pop_rank  pop_scaled\n",
       "id                                                   \n",
       "10161          71.0       27608      9376    0.158971\n",
       "99726          75.0       41540      9573    0.239225\n",
       "98526          58.0        1901      6538    0.010887\n",
       "966            73.0        4681      7702    0.026901\n",
       "4876           61.0         921      5544    0.005242"
      ]
     },
     "execution_count": 120,
     "metadata": {},
     "output_type": "execute_result"
    }
   ],
   "source": [
    "score_df.head()"
   ]
  },
  {
   "cell_type": "code",
   "execution_count": 121,
   "metadata": {},
   "outputs": [
    {
     "data": {
      "image/png": "[encoded data removed]",
      "text/plain": [
       "<Figure size 576x396 with 1 Axes>"
      ]
     },
     "metadata": {},
     "output_type": "display_data"
    }
   ],
   "source": [
    "sns.scatterplot(score_df['averageScore'], \n",
    "                score_df['pop_rank'], \n",
    "                s=30, \n",
    "                alpha=.5);"
   ]
  },
  {
   "cell_type": "code",
   "execution_count": 131,
   "metadata": {},
   "outputs": [],
   "source": [
    "score_df['score_scaled'] = score_df['averageScore'] / 100"
   ]
  },
  {
   "cell_type": "code",
   "execution_count": 132,
   "metadata": {},
   "outputs": [
    {
     "data": {
      "text/html": [
       "<div>\n",
       "<style scoped>\n",
       "    .dataframe tbody tr th:only-of-type {\n",
       "        vertical-align: middle;\n",
       "    }\n",
       "\n",
       "    .dataframe tbody tr th {\n",
       "        vertical-align: top;\n",
       "    }\n",
       "\n",
       "    .dataframe thead th {\n",
       "        text-align: right;\n",
       "    }\n",
       "</style>\n",
       "<table border=\"1\" class=\"dataframe\">\n",
       "  <thead>\n",
       "    <tr style=\"text-align: right;\">\n",
       "      <th></th>\n",
       "      <th>averageScore</th>\n",
       "      <th>popularity</th>\n",
       "      <th>pop_rank</th>\n",
       "      <th>pop_scaled</th>\n",
       "      <th>score_scaled</th>\n",
       "    </tr>\n",
       "    <tr>\n",
       "      <th>id</th>\n",
       "      <th></th>\n",
       "      <th></th>\n",
       "      <th></th>\n",
       "      <th></th>\n",
       "      <th></th>\n",
       "    </tr>\n",
       "  </thead>\n",
       "  <tbody>\n",
       "    <tr>\n",
       "      <th>10161</th>\n",
       "      <td>71.0</td>\n",
       "      <td>27608</td>\n",
       "      <td>9376</td>\n",
       "      <td>0.158971</td>\n",
       "      <td>0.71</td>\n",
       "    </tr>\n",
       "    <tr>\n",
       "      <th>99726</th>\n",
       "      <td>75.0</td>\n",
       "      <td>41540</td>\n",
       "      <td>9573</td>\n",
       "      <td>0.239225</td>\n",
       "      <td>0.75</td>\n",
       "    </tr>\n",
       "    <tr>\n",
       "      <th>98526</th>\n",
       "      <td>58.0</td>\n",
       "      <td>1901</td>\n",
       "      <td>6538</td>\n",
       "      <td>0.010887</td>\n",
       "      <td>0.58</td>\n",
       "    </tr>\n",
       "    <tr>\n",
       "      <th>966</th>\n",
       "      <td>73.0</td>\n",
       "      <td>4681</td>\n",
       "      <td>7702</td>\n",
       "      <td>0.026901</td>\n",
       "      <td>0.73</td>\n",
       "    </tr>\n",
       "    <tr>\n",
       "      <th>4876</th>\n",
       "      <td>61.0</td>\n",
       "      <td>921</td>\n",
       "      <td>5544</td>\n",
       "      <td>0.005242</td>\n",
       "      <td>0.61</td>\n",
       "    </tr>\n",
       "    <tr>\n",
       "      <th>...</th>\n",
       "      <td>...</td>\n",
       "      <td>...</td>\n",
       "      <td>...</td>\n",
       "      <td>...</td>\n",
       "      <td>...</td>\n",
       "    </tr>\n",
       "    <tr>\n",
       "      <th>99586</th>\n",
       "      <td>65.0</td>\n",
       "      <td>15135</td>\n",
       "      <td>8928</td>\n",
       "      <td>0.087121</td>\n",
       "      <td>0.65</td>\n",
       "    </tr>\n",
       "    <tr>\n",
       "      <th>99916</th>\n",
       "      <td>76.0</td>\n",
       "      <td>9351</td>\n",
       "      <td>8467</td>\n",
       "      <td>0.053802</td>\n",
       "      <td>0.76</td>\n",
       "    </tr>\n",
       "    <tr>\n",
       "      <th>101283</th>\n",
       "      <td>67.0</td>\n",
       "      <td>25665</td>\n",
       "      <td>9335</td>\n",
       "      <td>0.147778</td>\n",
       "      <td>0.67</td>\n",
       "    </tr>\n",
       "    <tr>\n",
       "      <th>101633</th>\n",
       "      <td>74.0</td>\n",
       "      <td>5967</td>\n",
       "      <td>7975</td>\n",
       "      <td>0.034309</td>\n",
       "      <td>0.74</td>\n",
       "    </tr>\n",
       "    <tr>\n",
       "      <th>101089</th>\n",
       "      <td>NaN</td>\n",
       "      <td>203</td>\n",
       "      <td>3117</td>\n",
       "      <td>0.001106</td>\n",
       "      <td>NaN</td>\n",
       "    </tr>\n",
       "  </tbody>\n",
       "</table>\n",
       "<p>9832 rows × 5 columns</p>\n",
       "</div>"
      ],
      "text/plain": [
       "        averageScore  popularity  pop_rank  pop_scaled  score_scaled\n",
       "id                                                                  \n",
       "10161           71.0       27608      9376    0.158971          0.71\n",
       "99726           75.0       41540      9573    0.239225          0.75\n",
       "98526           58.0        1901      6538    0.010887          0.58\n",
       "966             73.0        4681      7702    0.026901          0.73\n",
       "4876            61.0         921      5544    0.005242          0.61\n",
       "...              ...         ...       ...         ...           ...\n",
       "99586           65.0       15135      8928    0.087121          0.65\n",
       "99916           76.0        9351      8467    0.053802          0.76\n",
       "101283          67.0       25665      9335    0.147778          0.67\n",
       "101633          74.0        5967      7975    0.034309          0.74\n",
       "101089           NaN         203      3117    0.001106           NaN\n",
       "\n",
       "[9832 rows x 5 columns]"
      ]
     },
     "execution_count": 132,
     "metadata": {},
     "output_type": "execute_result"
    }
   ],
   "source": [
    "score_df"
   ]
  },
  {
   "cell_type": "code",
   "execution_count": 133,
   "metadata": {},
   "outputs": [
    {
     "data": {
      "text/plain": [
       "id\n",
       "115436    0.000000\n",
       "118675    0.000000\n",
       "116058    0.000000\n",
       "118050    0.000000\n",
       "118048    0.000006\n",
       "            ...   \n",
       "21087     0.888864\n",
       "21459     0.910091\n",
       "1535      0.922799\n",
       "11757     0.928311\n",
       "16498     1.000000\n",
       "Name: pop_scaled, Length: 9832, dtype: float64"
      ]
     },
     "execution_count": 133,
     "metadata": {},
     "output_type": "execute_result"
    }
   ],
   "source": [
    "score_df['pop_scaled'].sort_values()"
   ]
  },
  {
   "cell_type": "code",
   "execution_count": 219,
   "metadata": {},
   "outputs": [],
   "source": [
    "a = .1\n",
    "score_df['adjusted_score'] = ((a * score_df['pop_scaled']) + .9) * score_df['score_scaled']"
   ]
  },
  {
   "cell_type": "code",
   "execution_count": 220,
   "metadata": {},
   "outputs": [],
   "source": [
    "score_df = score_df.fillna(value=0)"
   ]
  },
  {
   "cell_type": "code",
   "execution_count": 221,
   "metadata": {},
   "outputs": [
    {
     "data": {
      "text/html": [
       "<div>\n",
       "<style scoped>\n",
       "    .dataframe tbody tr th:only-of-type {\n",
       "        vertical-align: middle;\n",
       "    }\n",
       "\n",
       "    .dataframe tbody tr th {\n",
       "        vertical-align: top;\n",
       "    }\n",
       "\n",
       "    .dataframe thead th {\n",
       "        text-align: right;\n",
       "    }\n",
       "</style>\n",
       "<table border=\"1\" class=\"dataframe\">\n",
       "  <thead>\n",
       "    <tr style=\"text-align: right;\">\n",
       "      <th></th>\n",
       "      <th>averageScore</th>\n",
       "      <th>popularity</th>\n",
       "      <th>pop_rank</th>\n",
       "      <th>pop_scaled</th>\n",
       "      <th>score_scaled</th>\n",
       "      <th>adjusted_score</th>\n",
       "    </tr>\n",
       "    <tr>\n",
       "      <th>id</th>\n",
       "      <th></th>\n",
       "      <th></th>\n",
       "      <th></th>\n",
       "      <th></th>\n",
       "      <th></th>\n",
       "      <th></th>\n",
       "    </tr>\n",
       "  </thead>\n",
       "  <tbody>\n",
       "    <tr>\n",
       "      <th>21745</th>\n",
       "      <td>89.0</td>\n",
       "      <td>34193</td>\n",
       "      <td>9488</td>\n",
       "      <td>0.196903</td>\n",
       "      <td>0.89</td>\n",
       "      <td>0.818524</td>\n",
       "    </tr>\n",
       "    <tr>\n",
       "      <th>16498</th>\n",
       "      <td>82.0</td>\n",
       "      <td>173609</td>\n",
       "      <td>9831</td>\n",
       "      <td>1.000000</td>\n",
       "      <td>0.82</td>\n",
       "      <td>0.820000</td>\n",
       "    </tr>\n",
       "    <tr>\n",
       "      <th>199</th>\n",
       "      <td>86.0</td>\n",
       "      <td>94132</td>\n",
       "      <td>9789</td>\n",
       "      <td>0.542178</td>\n",
       "      <td>0.86</td>\n",
       "      <td>0.820627</td>\n",
       "    </tr>\n",
       "    <tr>\n",
       "      <th>1</th>\n",
       "      <td>86.0</td>\n",
       "      <td>95392</td>\n",
       "      <td>9792</td>\n",
       "      <td>0.549436</td>\n",
       "      <td>0.86</td>\n",
       "      <td>0.821252</td>\n",
       "    </tr>\n",
       "    <tr>\n",
       "      <th>20665</th>\n",
       "      <td>85.0</td>\n",
       "      <td>116353</td>\n",
       "      <td>9814</td>\n",
       "      <td>0.670181</td>\n",
       "      <td>0.85</td>\n",
       "      <td>0.821965</td>\n",
       "    </tr>\n",
       "    <tr>\n",
       "      <th>21698</th>\n",
       "      <td>88.0</td>\n",
       "      <td>60233</td>\n",
       "      <td>9709</td>\n",
       "      <td>0.346905</td>\n",
       "      <td>0.88</td>\n",
       "      <td>0.822528</td>\n",
       "    </tr>\n",
       "    <tr>\n",
       "      <th>1535</th>\n",
       "      <td>83.0</td>\n",
       "      <td>160207</td>\n",
       "      <td>9829</td>\n",
       "      <td>0.922799</td>\n",
       "      <td>0.83</td>\n",
       "      <td>0.823592</td>\n",
       "    </tr>\n",
       "    <tr>\n",
       "      <th>21087</th>\n",
       "      <td>84.0</td>\n",
       "      <td>154316</td>\n",
       "      <td>9827</td>\n",
       "      <td>0.888864</td>\n",
       "      <td>0.84</td>\n",
       "      <td>0.830665</td>\n",
       "    </tr>\n",
       "    <tr>\n",
       "      <th>101338</th>\n",
       "      <td>88.0</td>\n",
       "      <td>79855</td>\n",
       "      <td>9758</td>\n",
       "      <td>0.459936</td>\n",
       "      <td>0.88</td>\n",
       "      <td>0.832474</td>\n",
       "    </tr>\n",
       "    <tr>\n",
       "      <th>104578</th>\n",
       "      <td>89.0</td>\n",
       "      <td>75018</td>\n",
       "      <td>9753</td>\n",
       "      <td>0.432073</td>\n",
       "      <td>0.89</td>\n",
       "      <td>0.839454</td>\n",
       "    </tr>\n",
       "    <tr>\n",
       "      <th>21519</th>\n",
       "      <td>88.0</td>\n",
       "      <td>132188</td>\n",
       "      <td>9822</td>\n",
       "      <td>0.761397</td>\n",
       "      <td>0.88</td>\n",
       "      <td>0.859003</td>\n",
       "    </tr>\n",
       "    <tr>\n",
       "      <th>20954</th>\n",
       "      <td>89.0</td>\n",
       "      <td>115457</td>\n",
       "      <td>9812</td>\n",
       "      <td>0.665019</td>\n",
       "      <td>0.89</td>\n",
       "      <td>0.860187</td>\n",
       "    </tr>\n",
       "    <tr>\n",
       "      <th>11061</th>\n",
       "      <td>90.0</td>\n",
       "      <td>128328</td>\n",
       "      <td>9821</td>\n",
       "      <td>0.739162</td>\n",
       "      <td>0.90</td>\n",
       "      <td>0.876525</td>\n",
       "    </tr>\n",
       "    <tr>\n",
       "      <th>9253</th>\n",
       "      <td>90.0</td>\n",
       "      <td>138266</td>\n",
       "      <td>9825</td>\n",
       "      <td>0.796409</td>\n",
       "      <td>0.90</td>\n",
       "      <td>0.881677</td>\n",
       "    </tr>\n",
       "    <tr>\n",
       "      <th>5114</th>\n",
       "      <td>91.0</td>\n",
       "      <td>149789</td>\n",
       "      <td>9826</td>\n",
       "      <td>0.862786</td>\n",
       "      <td>0.91</td>\n",
       "      <td>0.897514</td>\n",
       "    </tr>\n",
       "  </tbody>\n",
       "</table>\n",
       "</div>"
      ],
      "text/plain": [
       "        averageScore  popularity  pop_rank  pop_scaled  score_scaled  \\\n",
       "id                                                                     \n",
       "21745           89.0       34193      9488    0.196903          0.89   \n",
       "16498           82.0      173609      9831    1.000000          0.82   \n",
       "199             86.0       94132      9789    0.542178          0.86   \n",
       "1               86.0       95392      9792    0.549436          0.86   \n",
       "20665           85.0      116353      9814    0.670181          0.85   \n",
       "21698           88.0       60233      9709    0.346905          0.88   \n",
       "1535            83.0      160207      9829    0.922799          0.83   \n",
       "21087           84.0      154316      9827    0.888864          0.84   \n",
       "101338          88.0       79855      9758    0.459936          0.88   \n",
       "104578          89.0       75018      9753    0.432073          0.89   \n",
       "21519           88.0      132188      9822    0.761397          0.88   \n",
       "20954           89.0      115457      9812    0.665019          0.89   \n",
       "11061           90.0      128328      9821    0.739162          0.90   \n",
       "9253            90.0      138266      9825    0.796409          0.90   \n",
       "5114            91.0      149789      9826    0.862786          0.91   \n",
       "\n",
       "        adjusted_score  \n",
       "id                      \n",
       "21745         0.818524  \n",
       "16498         0.820000  \n",
       "199           0.820627  \n",
       "1             0.821252  \n",
       "20665         0.821965  \n",
       "21698         0.822528  \n",
       "1535          0.823592  \n",
       "21087         0.830665  \n",
       "101338        0.832474  \n",
       "104578        0.839454  \n",
       "21519         0.859003  \n",
       "20954         0.860187  \n",
       "11061         0.876525  \n",
       "9253          0.881677  \n",
       "5114          0.897514  "
      ]
     },
     "execution_count": 221,
     "metadata": {},
     "output_type": "execute_result"
    }
   ],
   "source": [
    "top_15_df = score_df.sort_values(by='adjusted_score').tail(15)\n",
    "top_15_df"
   ]
  },
  {
   "cell_type": "code",
   "execution_count": 222,
   "metadata": {},
   "outputs": [
    {
     "data": {
      "text/html": [
       "<div>\n",
       "<style scoped>\n",
       "    .dataframe tbody tr th:only-of-type {\n",
       "        vertical-align: middle;\n",
       "    }\n",
       "\n",
       "    .dataframe tbody tr th {\n",
       "        vertical-align: top;\n",
       "    }\n",
       "\n",
       "    .dataframe thead th {\n",
       "        text-align: right;\n",
       "    }\n",
       "</style>\n",
       "<table border=\"1\" class=\"dataframe\">\n",
       "  <thead>\n",
       "    <tr style=\"text-align: right;\">\n",
       "      <th></th>\n",
       "      <th>romaji</th>\n",
       "      <th>english</th>\n",
       "      <th>native</th>\n",
       "      <th>userPreferred</th>\n",
       "    </tr>\n",
       "    <tr>\n",
       "      <th>id</th>\n",
       "      <th></th>\n",
       "      <th></th>\n",
       "      <th></th>\n",
       "      <th></th>\n",
       "    </tr>\n",
       "  </thead>\n",
       "  <tbody>\n",
       "    <tr>\n",
       "      <th>21745</th>\n",
       "      <td>Owarimonogatari (Ge)</td>\n",
       "      <td>Owarimonogatari Second Season</td>\n",
       "      <td>終物語（下）</td>\n",
       "      <td>Owarimonogatari (Ge)</td>\n",
       "    </tr>\n",
       "    <tr>\n",
       "      <th>16498</th>\n",
       "      <td>Shingeki no Kyojin</td>\n",
       "      <td>Attack on Titan</td>\n",
       "      <td>進撃の巨人</td>\n",
       "      <td>Shingeki no Kyojin</td>\n",
       "    </tr>\n",
       "    <tr>\n",
       "      <th>199</th>\n",
       "      <td>Sen to Chihiro no Kamikakushi</td>\n",
       "      <td>Spirited Away</td>\n",
       "      <td>千と千尋の神隠し</td>\n",
       "      <td>Sen to Chihiro no Kamikakushi</td>\n",
       "    </tr>\n",
       "    <tr>\n",
       "      <th>1</th>\n",
       "      <td>Cowboy Bebop</td>\n",
       "      <td>Cowboy Bebop</td>\n",
       "      <td>カウボーイビバップ</td>\n",
       "      <td>Cowboy Bebop</td>\n",
       "    </tr>\n",
       "    <tr>\n",
       "      <th>20665</th>\n",
       "      <td>Shigatsu wa Kimi no Uso</td>\n",
       "      <td>Your Lie in April</td>\n",
       "      <td>四月は君の嘘</td>\n",
       "      <td>Shigatsu wa Kimi no Uso</td>\n",
       "    </tr>\n",
       "    <tr>\n",
       "      <th>21698</th>\n",
       "      <td>Haikyuu!!: Karasuno Koukou VS Shiratorizawa Ga...</td>\n",
       "      <td>HAIKYU!! 3rd Season</td>\n",
       "      <td>ハイキュー!! 烏野高校 VS 白鳥沢学園高校</td>\n",
       "      <td>Haikyuu!!: Karasuno Koukou VS Shiratorizawa Ga...</td>\n",
       "    </tr>\n",
       "    <tr>\n",
       "      <th>1535</th>\n",
       "      <td>Death Note</td>\n",
       "      <td>Death Note</td>\n",
       "      <td>DEATH NOTE</td>\n",
       "      <td>Death Note</td>\n",
       "    </tr>\n",
       "    <tr>\n",
       "      <th>21087</th>\n",
       "      <td>One Punch Man</td>\n",
       "      <td>One-Punch Man</td>\n",
       "      <td>ワンパンマン</td>\n",
       "      <td>One Punch Man</td>\n",
       "    </tr>\n",
       "    <tr>\n",
       "      <th>101338</th>\n",
       "      <td>Mob Psycho 100 II</td>\n",
       "      <td>Mob Psycho 100 II</td>\n",
       "      <td>モブサイコ100 II</td>\n",
       "      <td>Mob Psycho 100 II</td>\n",
       "    </tr>\n",
       "    <tr>\n",
       "      <th>104578</th>\n",
       "      <td>Shingeki no Kyojin 3 Part 2</td>\n",
       "      <td>Attack on Titan Season 3 Part 2</td>\n",
       "      <td>進撃の巨人 3 Part.2</td>\n",
       "      <td>Shingeki no Kyojin 3 Part 2</td>\n",
       "    </tr>\n",
       "    <tr>\n",
       "      <th>21519</th>\n",
       "      <td>Kimi no Na wa.</td>\n",
       "      <td>Your Name.</td>\n",
       "      <td>君の名は。</td>\n",
       "      <td>Kimi no Na wa.</td>\n",
       "    </tr>\n",
       "    <tr>\n",
       "      <th>20954</th>\n",
       "      <td>Koe no Katachi</td>\n",
       "      <td>A Silent Voice</td>\n",
       "      <td>聲の形</td>\n",
       "      <td>Koe no Katachi</td>\n",
       "    </tr>\n",
       "    <tr>\n",
       "      <th>11061</th>\n",
       "      <td>Hunter x Hunter (2011)</td>\n",
       "      <td>Hunter x Hunter (2011)</td>\n",
       "      <td>ハンター×ハンター (2011)</td>\n",
       "      <td>Hunter x Hunter (2011)</td>\n",
       "    </tr>\n",
       "    <tr>\n",
       "      <th>9253</th>\n",
       "      <td>Steins;Gate</td>\n",
       "      <td>Steins;Gate</td>\n",
       "      <td>シュタインズ・ゲート</td>\n",
       "      <td>Steins;Gate</td>\n",
       "    </tr>\n",
       "    <tr>\n",
       "      <th>5114</th>\n",
       "      <td>Hagane no Renkinjutsushi: Fullmetal Alchemist</td>\n",
       "      <td>Fullmetal Alchemist: Brotherhood</td>\n",
       "      <td>鋼の錬金術師 FULLMETAL ALCHEMIST</td>\n",
       "      <td>Hagane no Renkinjutsushi: Fullmetal Alchemist</td>\n",
       "    </tr>\n",
       "  </tbody>\n",
       "</table>\n",
       "</div>"
      ],
      "text/plain": [
       "                                                   romaji  \\\n",
       "id                                                          \n",
       "21745                                Owarimonogatari (Ge)   \n",
       "16498                                  Shingeki no Kyojin   \n",
       "199                         Sen to Chihiro no Kamikakushi   \n",
       "1                                            Cowboy Bebop   \n",
       "20665                             Shigatsu wa Kimi no Uso   \n",
       "21698   Haikyuu!!: Karasuno Koukou VS Shiratorizawa Ga...   \n",
       "1535                                           Death Note   \n",
       "21087                                       One Punch Man   \n",
       "101338                                  Mob Psycho 100 II   \n",
       "104578                        Shingeki no Kyojin 3 Part 2   \n",
       "21519                                      Kimi no Na wa.   \n",
       "20954                                      Koe no Katachi   \n",
       "11061                              Hunter x Hunter (2011)   \n",
       "9253                                          Steins;Gate   \n",
       "5114        Hagane no Renkinjutsushi: Fullmetal Alchemist   \n",
       "\n",
       "                                 english                      native  \\\n",
       "id                                                                     \n",
       "21745      Owarimonogatari Second Season                      終物語（下）   \n",
       "16498                    Attack on Titan                       進撃の巨人   \n",
       "199                        Spirited Away                    千と千尋の神隠し   \n",
       "1                           Cowboy Bebop                   カウボーイビバップ   \n",
       "20665                  Your Lie in April                      四月は君の嘘   \n",
       "21698                HAIKYU!! 3rd Season     ハイキュー!! 烏野高校 VS 白鳥沢学園高校   \n",
       "1535                          Death Note                  DEATH NOTE   \n",
       "21087                      One-Punch Man                      ワンパンマン   \n",
       "101338                 Mob Psycho 100 II                 モブサイコ100 II   \n",
       "104578   Attack on Titan Season 3 Part 2              進撃の巨人 3 Part.2   \n",
       "21519                         Your Name.                       君の名は。   \n",
       "20954                     A Silent Voice                         聲の形   \n",
       "11061             Hunter x Hunter (2011)            ハンター×ハンター (2011)   \n",
       "9253                         Steins;Gate                  シュタインズ・ゲート   \n",
       "5114    Fullmetal Alchemist: Brotherhood  鋼の錬金術師 FULLMETAL ALCHEMIST   \n",
       "\n",
       "                                            userPreferred  \n",
       "id                                                         \n",
       "21745                                Owarimonogatari (Ge)  \n",
       "16498                                  Shingeki no Kyojin  \n",
       "199                         Sen to Chihiro no Kamikakushi  \n",
       "1                                            Cowboy Bebop  \n",
       "20665                             Shigatsu wa Kimi no Uso  \n",
       "21698   Haikyuu!!: Karasuno Koukou VS Shiratorizawa Ga...  \n",
       "1535                                           Death Note  \n",
       "21087                                       One Punch Man  \n",
       "101338                                  Mob Psycho 100 II  \n",
       "104578                        Shingeki no Kyojin 3 Part 2  \n",
       "21519                                      Kimi no Na wa.  \n",
       "20954                                      Koe no Katachi  \n",
       "11061                              Hunter x Hunter (2011)  \n",
       "9253                                          Steins;Gate  \n",
       "5114        Hagane no Renkinjutsushi: Fullmetal Alchemist  "
      ]
     },
     "execution_count": 222,
     "metadata": {},
     "output_type": "execute_result"
    }
   ],
   "source": [
    "title_df.loc[list(top_15_df.index.values),:]"
   ]
  },
  {
   "cell_type": "code",
   "execution_count": null,
   "metadata": {},
   "outputs": [],
   "source": []
  },
  {
   "cell_type": "code",
   "execution_count": 234,
   "metadata": {},
   "outputs": [],
   "source": [
    "# score_df[['pop_scaled', 'score_scaled', 'adjusted_score']].to_csv('data/adjusted_score_df.csv')"
   ]
  },
  {
   "cell_type": "code",
   "execution_count": 243,
   "metadata": {},
   "outputs": [
    {
     "data": {
      "image/png": "[encoded data removed]",
      "text/plain": [
       "<Figure size 1008x576 with 1 Axes>"
      ]
     },
     "metadata": {},
     "output_type": "display_data"
    }
   ],
   "source": [
    "fig, ax = plt.subplots(figsize=(14,8))\n",
    "sns.scatterplot(y='pop_scaled', \n",
    "                x= 'score_scaled',\n",
    "                data=score_df,\n",
    "                s=30, \n",
    "                hue='adjusted_score')\n",
    "ax.set_ylabel('Scaled Popularity')\n",
    "ax.set_xlabel('Scaled Score');"
   ]
  },
  {
   "cell_type": "code",
   "execution_count": 238,
   "metadata": {},
   "outputs": [
    {
     "data": {
      "image/png": "[encoded data removed]",
      "text/plain": [
       "<Figure size 576x576 with 1 Axes>"
      ]
     },
     "metadata": {},
     "output_type": "display_data"
    }
   ],
   "source": [
    "fig, ax = plt.subplots(figsize=(8, 8))\n",
    "sns.scatterplot(x= 'adjusted_score',\n",
    "                y= 'score_scaled',\n",
    "                data=score_df,\n",
    "                s=30, \n",
    "                hue='pop_scaled')\n",
    "ax.set_xlabel('Adjusted Score')\n",
    "ax.set_ylabel('Scaled Score');"
   ]
  },
  {
   "cell_type": "code",
   "execution_count": null,
   "metadata": {},
   "outputs": [],
   "source": []
  }
 ],
 "metadata": {
  "kernelspec": {
   "display_name": "Python 3",
   "language": "python",
   "name": "python3"
  },
  "language_info": {
   "codemirror_mode": {
    "name": "ipython",
    "version": 3
   },
   "file_extension": ".py",
   "mimetype": "text/x-python",
   "name": "python",
   "nbconvert_exporter": "python",
   "pygments_lexer": "ipython3",
   "version": "3.7.7"
  }
 },
 "nbformat": 4,
 "nbformat_minor": 4
}
